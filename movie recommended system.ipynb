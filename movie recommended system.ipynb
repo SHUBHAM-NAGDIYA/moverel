{
 "cells": [
  {
   "cell_type": "code",
   "execution_count": 201,
   "id": "a5daff50-0a51-48d6-aa87-43fb7f4e292c",
   "metadata": {},
   "outputs": [],
   "source": [
    "#import dependencies\n",
    "\n",
    "import numpy as np\n",
    "import pandas as pd\n",
    "import pickle "
   ]
  },
  {
   "cell_type": "code",
   "execution_count": 202,
   "id": "ddafb386-1fc6-49ef-a997-2a0f22346616",
   "metadata": {},
   "outputs": [],
   "source": [
    "movies = pd.read_csv(r\"C:\\Users\\shubh\\Desktop\\movie recommended system\\tmdb_5000_movies.csv\")\n",
    "credit = pd.read_csv(r\"C:\\Users\\shubh\\Desktop\\movie recommended system\\tmdb_5000_credits.csv\")"
   ]
  },
  {
   "cell_type": "code",
   "execution_count": 203,
   "id": "a98f2385-eeeb-4838-a594-d38bbee2cf93",
   "metadata": {},
   "outputs": [],
   "source": [
    "movies = movies.merge(credit,on='title')"
   ]
  },
  {
   "cell_type": "code",
   "execution_count": 204,
   "id": "ec84acb7-bba3-476e-85d7-ec18695ceeba",
   "metadata": {},
   "outputs": [
    {
     "data": {
      "text/html": [
       "<div>\n",
       "<style scoped>\n",
       "    .dataframe tbody tr th:only-of-type {\n",
       "        vertical-align: middle;\n",
       "    }\n",
       "\n",
       "    .dataframe tbody tr th {\n",
       "        vertical-align: top;\n",
       "    }\n",
       "\n",
       "    .dataframe thead th {\n",
       "        text-align: right;\n",
       "    }\n",
       "</style>\n",
       "<table border=\"1\" class=\"dataframe\">\n",
       "  <thead>\n",
       "    <tr style=\"text-align: right;\">\n",
       "      <th></th>\n",
       "      <th>budget</th>\n",
       "      <th>genres</th>\n",
       "      <th>homepage</th>\n",
       "      <th>id</th>\n",
       "      <th>keywords</th>\n",
       "      <th>original_language</th>\n",
       "      <th>original_title</th>\n",
       "      <th>overview</th>\n",
       "      <th>popularity</th>\n",
       "      <th>production_companies</th>\n",
       "      <th>...</th>\n",
       "      <th>runtime</th>\n",
       "      <th>spoken_languages</th>\n",
       "      <th>status</th>\n",
       "      <th>tagline</th>\n",
       "      <th>title</th>\n",
       "      <th>vote_average</th>\n",
       "      <th>vote_count</th>\n",
       "      <th>movie_id</th>\n",
       "      <th>cast</th>\n",
       "      <th>crew</th>\n",
       "    </tr>\n",
       "  </thead>\n",
       "  <tbody>\n",
       "    <tr>\n",
       "      <th>0</th>\n",
       "      <td>237000000</td>\n",
       "      <td>[{\"id\": 28, \"name\": \"Action\"}, {\"id\": 12, \"nam...</td>\n",
       "      <td>http://www.avatarmovie.com/</td>\n",
       "      <td>19995</td>\n",
       "      <td>[{\"id\": 1463, \"name\": \"culture clash\"}, {\"id\":...</td>\n",
       "      <td>en</td>\n",
       "      <td>Avatar</td>\n",
       "      <td>In the 22nd century, a paraplegic Marine is di...</td>\n",
       "      <td>150.437577</td>\n",
       "      <td>[{\"name\": \"Ingenious Film Partners\", \"id\": 289...</td>\n",
       "      <td>...</td>\n",
       "      <td>162.0</td>\n",
       "      <td>[{\"iso_639_1\": \"en\", \"name\": \"English\"}, {\"iso...</td>\n",
       "      <td>Released</td>\n",
       "      <td>Enter the World of Pandora.</td>\n",
       "      <td>Avatar</td>\n",
       "      <td>7.2</td>\n",
       "      <td>11800</td>\n",
       "      <td>19995</td>\n",
       "      <td>[{\"cast_id\": 242, \"character\": \"Jake Sully\", \"...</td>\n",
       "      <td>[{\"credit_id\": \"52fe48009251416c750aca23\", \"de...</td>\n",
       "    </tr>\n",
       "    <tr>\n",
       "      <th>1</th>\n",
       "      <td>300000000</td>\n",
       "      <td>[{\"id\": 12, \"name\": \"Adventure\"}, {\"id\": 14, \"...</td>\n",
       "      <td>http://disney.go.com/disneypictures/pirates/</td>\n",
       "      <td>285</td>\n",
       "      <td>[{\"id\": 270, \"name\": \"ocean\"}, {\"id\": 726, \"na...</td>\n",
       "      <td>en</td>\n",
       "      <td>Pirates of the Caribbean: At World's End</td>\n",
       "      <td>Captain Barbossa, long believed to be dead, ha...</td>\n",
       "      <td>139.082615</td>\n",
       "      <td>[{\"name\": \"Walt Disney Pictures\", \"id\": 2}, {\"...</td>\n",
       "      <td>...</td>\n",
       "      <td>169.0</td>\n",
       "      <td>[{\"iso_639_1\": \"en\", \"name\": \"English\"}]</td>\n",
       "      <td>Released</td>\n",
       "      <td>At the end of the world, the adventure begins.</td>\n",
       "      <td>Pirates of the Caribbean: At World's End</td>\n",
       "      <td>6.9</td>\n",
       "      <td>4500</td>\n",
       "      <td>285</td>\n",
       "      <td>[{\"cast_id\": 4, \"character\": \"Captain Jack Spa...</td>\n",
       "      <td>[{\"credit_id\": \"52fe4232c3a36847f800b579\", \"de...</td>\n",
       "    </tr>\n",
       "    <tr>\n",
       "      <th>2</th>\n",
       "      <td>245000000</td>\n",
       "      <td>[{\"id\": 28, \"name\": \"Action\"}, {\"id\": 12, \"nam...</td>\n",
       "      <td>http://www.sonypictures.com/movies/spectre/</td>\n",
       "      <td>206647</td>\n",
       "      <td>[{\"id\": 470, \"name\": \"spy\"}, {\"id\": 818, \"name...</td>\n",
       "      <td>en</td>\n",
       "      <td>Spectre</td>\n",
       "      <td>A cryptic message from Bond’s past sends him o...</td>\n",
       "      <td>107.376788</td>\n",
       "      <td>[{\"name\": \"Columbia Pictures\", \"id\": 5}, {\"nam...</td>\n",
       "      <td>...</td>\n",
       "      <td>148.0</td>\n",
       "      <td>[{\"iso_639_1\": \"fr\", \"name\": \"Fran\\u00e7ais\"},...</td>\n",
       "      <td>Released</td>\n",
       "      <td>A Plan No One Escapes</td>\n",
       "      <td>Spectre</td>\n",
       "      <td>6.3</td>\n",
       "      <td>4466</td>\n",
       "      <td>206647</td>\n",
       "      <td>[{\"cast_id\": 1, \"character\": \"James Bond\", \"cr...</td>\n",
       "      <td>[{\"credit_id\": \"54805967c3a36829b5002c41\", \"de...</td>\n",
       "    </tr>\n",
       "    <tr>\n",
       "      <th>3</th>\n",
       "      <td>250000000</td>\n",
       "      <td>[{\"id\": 28, \"name\": \"Action\"}, {\"id\": 80, \"nam...</td>\n",
       "      <td>http://www.thedarkknightrises.com/</td>\n",
       "      <td>49026</td>\n",
       "      <td>[{\"id\": 849, \"name\": \"dc comics\"}, {\"id\": 853,...</td>\n",
       "      <td>en</td>\n",
       "      <td>The Dark Knight Rises</td>\n",
       "      <td>Following the death of District Attorney Harve...</td>\n",
       "      <td>112.312950</td>\n",
       "      <td>[{\"name\": \"Legendary Pictures\", \"id\": 923}, {\"...</td>\n",
       "      <td>...</td>\n",
       "      <td>165.0</td>\n",
       "      <td>[{\"iso_639_1\": \"en\", \"name\": \"English\"}]</td>\n",
       "      <td>Released</td>\n",
       "      <td>The Legend Ends</td>\n",
       "      <td>The Dark Knight Rises</td>\n",
       "      <td>7.6</td>\n",
       "      <td>9106</td>\n",
       "      <td>49026</td>\n",
       "      <td>[{\"cast_id\": 2, \"character\": \"Bruce Wayne / Ba...</td>\n",
       "      <td>[{\"credit_id\": \"52fe4781c3a36847f81398c3\", \"de...</td>\n",
       "    </tr>\n",
       "    <tr>\n",
       "      <th>4</th>\n",
       "      <td>260000000</td>\n",
       "      <td>[{\"id\": 28, \"name\": \"Action\"}, {\"id\": 12, \"nam...</td>\n",
       "      <td>http://movies.disney.com/john-carter</td>\n",
       "      <td>49529</td>\n",
       "      <td>[{\"id\": 818, \"name\": \"based on novel\"}, {\"id\":...</td>\n",
       "      <td>en</td>\n",
       "      <td>John Carter</td>\n",
       "      <td>John Carter is a war-weary, former military ca...</td>\n",
       "      <td>43.926995</td>\n",
       "      <td>[{\"name\": \"Walt Disney Pictures\", \"id\": 2}]</td>\n",
       "      <td>...</td>\n",
       "      <td>132.0</td>\n",
       "      <td>[{\"iso_639_1\": \"en\", \"name\": \"English\"}]</td>\n",
       "      <td>Released</td>\n",
       "      <td>Lost in our world, found in another.</td>\n",
       "      <td>John Carter</td>\n",
       "      <td>6.1</td>\n",
       "      <td>2124</td>\n",
       "      <td>49529</td>\n",
       "      <td>[{\"cast_id\": 5, \"character\": \"John Carter\", \"c...</td>\n",
       "      <td>[{\"credit_id\": \"52fe479ac3a36847f813eaa3\", \"de...</td>\n",
       "    </tr>\n",
       "    <tr>\n",
       "      <th>...</th>\n",
       "      <td>...</td>\n",
       "      <td>...</td>\n",
       "      <td>...</td>\n",
       "      <td>...</td>\n",
       "      <td>...</td>\n",
       "      <td>...</td>\n",
       "      <td>...</td>\n",
       "      <td>...</td>\n",
       "      <td>...</td>\n",
       "      <td>...</td>\n",
       "      <td>...</td>\n",
       "      <td>...</td>\n",
       "      <td>...</td>\n",
       "      <td>...</td>\n",
       "      <td>...</td>\n",
       "      <td>...</td>\n",
       "      <td>...</td>\n",
       "      <td>...</td>\n",
       "      <td>...</td>\n",
       "      <td>...</td>\n",
       "      <td>...</td>\n",
       "    </tr>\n",
       "    <tr>\n",
       "      <th>4804</th>\n",
       "      <td>220000</td>\n",
       "      <td>[{\"id\": 28, \"name\": \"Action\"}, {\"id\": 80, \"nam...</td>\n",
       "      <td>NaN</td>\n",
       "      <td>9367</td>\n",
       "      <td>[{\"id\": 5616, \"name\": \"united states\\u2013mexi...</td>\n",
       "      <td>es</td>\n",
       "      <td>El Mariachi</td>\n",
       "      <td>El Mariachi just wants to play his guitar and ...</td>\n",
       "      <td>14.269792</td>\n",
       "      <td>[{\"name\": \"Columbia Pictures\", \"id\": 5}]</td>\n",
       "      <td>...</td>\n",
       "      <td>81.0</td>\n",
       "      <td>[{\"iso_639_1\": \"es\", \"name\": \"Espa\\u00f1ol\"}]</td>\n",
       "      <td>Released</td>\n",
       "      <td>He didn't come looking for trouble, but troubl...</td>\n",
       "      <td>El Mariachi</td>\n",
       "      <td>6.6</td>\n",
       "      <td>238</td>\n",
       "      <td>9367</td>\n",
       "      <td>[{\"cast_id\": 1, \"character\": \"El Mariachi\", \"c...</td>\n",
       "      <td>[{\"credit_id\": \"52fe44eec3a36847f80b280b\", \"de...</td>\n",
       "    </tr>\n",
       "    <tr>\n",
       "      <th>4805</th>\n",
       "      <td>9000</td>\n",
       "      <td>[{\"id\": 35, \"name\": \"Comedy\"}, {\"id\": 10749, \"...</td>\n",
       "      <td>NaN</td>\n",
       "      <td>72766</td>\n",
       "      <td>[]</td>\n",
       "      <td>en</td>\n",
       "      <td>Newlyweds</td>\n",
       "      <td>A newlywed couple's honeymoon is upended by th...</td>\n",
       "      <td>0.642552</td>\n",
       "      <td>[]</td>\n",
       "      <td>...</td>\n",
       "      <td>85.0</td>\n",
       "      <td>[]</td>\n",
       "      <td>Released</td>\n",
       "      <td>A newlywed couple's honeymoon is upended by th...</td>\n",
       "      <td>Newlyweds</td>\n",
       "      <td>5.9</td>\n",
       "      <td>5</td>\n",
       "      <td>72766</td>\n",
       "      <td>[{\"cast_id\": 1, \"character\": \"Buzzy\", \"credit_...</td>\n",
       "      <td>[{\"credit_id\": \"52fe487dc3a368484e0fb013\", \"de...</td>\n",
       "    </tr>\n",
       "    <tr>\n",
       "      <th>4806</th>\n",
       "      <td>0</td>\n",
       "      <td>[{\"id\": 35, \"name\": \"Comedy\"}, {\"id\": 18, \"nam...</td>\n",
       "      <td>http://www.hallmarkchannel.com/signedsealeddel...</td>\n",
       "      <td>231617</td>\n",
       "      <td>[{\"id\": 248, \"name\": \"date\"}, {\"id\": 699, \"nam...</td>\n",
       "      <td>en</td>\n",
       "      <td>Signed, Sealed, Delivered</td>\n",
       "      <td>\"Signed, Sealed, Delivered\" introduces a dedic...</td>\n",
       "      <td>1.444476</td>\n",
       "      <td>[{\"name\": \"Front Street Pictures\", \"id\": 3958}...</td>\n",
       "      <td>...</td>\n",
       "      <td>120.0</td>\n",
       "      <td>[{\"iso_639_1\": \"en\", \"name\": \"English\"}]</td>\n",
       "      <td>Released</td>\n",
       "      <td>NaN</td>\n",
       "      <td>Signed, Sealed, Delivered</td>\n",
       "      <td>7.0</td>\n",
       "      <td>6</td>\n",
       "      <td>231617</td>\n",
       "      <td>[{\"cast_id\": 8, \"character\": \"Oliver O\\u2019To...</td>\n",
       "      <td>[{\"credit_id\": \"52fe4df3c3a36847f8275ecf\", \"de...</td>\n",
       "    </tr>\n",
       "    <tr>\n",
       "      <th>4807</th>\n",
       "      <td>0</td>\n",
       "      <td>[]</td>\n",
       "      <td>http://shanghaicalling.com/</td>\n",
       "      <td>126186</td>\n",
       "      <td>[]</td>\n",
       "      <td>en</td>\n",
       "      <td>Shanghai Calling</td>\n",
       "      <td>When ambitious New York attorney Sam is sent t...</td>\n",
       "      <td>0.857008</td>\n",
       "      <td>[]</td>\n",
       "      <td>...</td>\n",
       "      <td>98.0</td>\n",
       "      <td>[{\"iso_639_1\": \"en\", \"name\": \"English\"}]</td>\n",
       "      <td>Released</td>\n",
       "      <td>A New Yorker in Shanghai</td>\n",
       "      <td>Shanghai Calling</td>\n",
       "      <td>5.7</td>\n",
       "      <td>7</td>\n",
       "      <td>126186</td>\n",
       "      <td>[{\"cast_id\": 3, \"character\": \"Sam\", \"credit_id...</td>\n",
       "      <td>[{\"credit_id\": \"52fe4ad9c3a368484e16a36b\", \"de...</td>\n",
       "    </tr>\n",
       "    <tr>\n",
       "      <th>4808</th>\n",
       "      <td>0</td>\n",
       "      <td>[{\"id\": 99, \"name\": \"Documentary\"}]</td>\n",
       "      <td>NaN</td>\n",
       "      <td>25975</td>\n",
       "      <td>[{\"id\": 1523, \"name\": \"obsession\"}, {\"id\": 224...</td>\n",
       "      <td>en</td>\n",
       "      <td>My Date with Drew</td>\n",
       "      <td>Ever since the second grade when he first saw ...</td>\n",
       "      <td>1.929883</td>\n",
       "      <td>[{\"name\": \"rusty bear entertainment\", \"id\": 87...</td>\n",
       "      <td>...</td>\n",
       "      <td>90.0</td>\n",
       "      <td>[{\"iso_639_1\": \"en\", \"name\": \"English\"}]</td>\n",
       "      <td>Released</td>\n",
       "      <td>NaN</td>\n",
       "      <td>My Date with Drew</td>\n",
       "      <td>6.3</td>\n",
       "      <td>16</td>\n",
       "      <td>25975</td>\n",
       "      <td>[{\"cast_id\": 3, \"character\": \"Herself\", \"credi...</td>\n",
       "      <td>[{\"credit_id\": \"58ce021b9251415a390165d9\", \"de...</td>\n",
       "    </tr>\n",
       "  </tbody>\n",
       "</table>\n",
       "<p>4809 rows × 23 columns</p>\n",
       "</div>"
      ],
      "text/plain": [
       "         budget                                             genres  \\\n",
       "0     237000000  [{\"id\": 28, \"name\": \"Action\"}, {\"id\": 12, \"nam...   \n",
       "1     300000000  [{\"id\": 12, \"name\": \"Adventure\"}, {\"id\": 14, \"...   \n",
       "2     245000000  [{\"id\": 28, \"name\": \"Action\"}, {\"id\": 12, \"nam...   \n",
       "3     250000000  [{\"id\": 28, \"name\": \"Action\"}, {\"id\": 80, \"nam...   \n",
       "4     260000000  [{\"id\": 28, \"name\": \"Action\"}, {\"id\": 12, \"nam...   \n",
       "...         ...                                                ...   \n",
       "4804     220000  [{\"id\": 28, \"name\": \"Action\"}, {\"id\": 80, \"nam...   \n",
       "4805       9000  [{\"id\": 35, \"name\": \"Comedy\"}, {\"id\": 10749, \"...   \n",
       "4806          0  [{\"id\": 35, \"name\": \"Comedy\"}, {\"id\": 18, \"nam...   \n",
       "4807          0                                                 []   \n",
       "4808          0                [{\"id\": 99, \"name\": \"Documentary\"}]   \n",
       "\n",
       "                                               homepage      id  \\\n",
       "0                           http://www.avatarmovie.com/   19995   \n",
       "1          http://disney.go.com/disneypictures/pirates/     285   \n",
       "2           http://www.sonypictures.com/movies/spectre/  206647   \n",
       "3                    http://www.thedarkknightrises.com/   49026   \n",
       "4                  http://movies.disney.com/john-carter   49529   \n",
       "...                                                 ...     ...   \n",
       "4804                                                NaN    9367   \n",
       "4805                                                NaN   72766   \n",
       "4806  http://www.hallmarkchannel.com/signedsealeddel...  231617   \n",
       "4807                        http://shanghaicalling.com/  126186   \n",
       "4808                                                NaN   25975   \n",
       "\n",
       "                                               keywords original_language  \\\n",
       "0     [{\"id\": 1463, \"name\": \"culture clash\"}, {\"id\":...                en   \n",
       "1     [{\"id\": 270, \"name\": \"ocean\"}, {\"id\": 726, \"na...                en   \n",
       "2     [{\"id\": 470, \"name\": \"spy\"}, {\"id\": 818, \"name...                en   \n",
       "3     [{\"id\": 849, \"name\": \"dc comics\"}, {\"id\": 853,...                en   \n",
       "4     [{\"id\": 818, \"name\": \"based on novel\"}, {\"id\":...                en   \n",
       "...                                                 ...               ...   \n",
       "4804  [{\"id\": 5616, \"name\": \"united states\\u2013mexi...                es   \n",
       "4805                                                 []                en   \n",
       "4806  [{\"id\": 248, \"name\": \"date\"}, {\"id\": 699, \"nam...                en   \n",
       "4807                                                 []                en   \n",
       "4808  [{\"id\": 1523, \"name\": \"obsession\"}, {\"id\": 224...                en   \n",
       "\n",
       "                                original_title  \\\n",
       "0                                       Avatar   \n",
       "1     Pirates of the Caribbean: At World's End   \n",
       "2                                      Spectre   \n",
       "3                        The Dark Knight Rises   \n",
       "4                                  John Carter   \n",
       "...                                        ...   \n",
       "4804                               El Mariachi   \n",
       "4805                                 Newlyweds   \n",
       "4806                 Signed, Sealed, Delivered   \n",
       "4807                          Shanghai Calling   \n",
       "4808                         My Date with Drew   \n",
       "\n",
       "                                               overview  popularity  \\\n",
       "0     In the 22nd century, a paraplegic Marine is di...  150.437577   \n",
       "1     Captain Barbossa, long believed to be dead, ha...  139.082615   \n",
       "2     A cryptic message from Bond’s past sends him o...  107.376788   \n",
       "3     Following the death of District Attorney Harve...  112.312950   \n",
       "4     John Carter is a war-weary, former military ca...   43.926995   \n",
       "...                                                 ...         ...   \n",
       "4804  El Mariachi just wants to play his guitar and ...   14.269792   \n",
       "4805  A newlywed couple's honeymoon is upended by th...    0.642552   \n",
       "4806  \"Signed, Sealed, Delivered\" introduces a dedic...    1.444476   \n",
       "4807  When ambitious New York attorney Sam is sent t...    0.857008   \n",
       "4808  Ever since the second grade when he first saw ...    1.929883   \n",
       "\n",
       "                                   production_companies  ... runtime  \\\n",
       "0     [{\"name\": \"Ingenious Film Partners\", \"id\": 289...  ...   162.0   \n",
       "1     [{\"name\": \"Walt Disney Pictures\", \"id\": 2}, {\"...  ...   169.0   \n",
       "2     [{\"name\": \"Columbia Pictures\", \"id\": 5}, {\"nam...  ...   148.0   \n",
       "3     [{\"name\": \"Legendary Pictures\", \"id\": 923}, {\"...  ...   165.0   \n",
       "4           [{\"name\": \"Walt Disney Pictures\", \"id\": 2}]  ...   132.0   \n",
       "...                                                 ...  ...     ...   \n",
       "4804           [{\"name\": \"Columbia Pictures\", \"id\": 5}]  ...    81.0   \n",
       "4805                                                 []  ...    85.0   \n",
       "4806  [{\"name\": \"Front Street Pictures\", \"id\": 3958}...  ...   120.0   \n",
       "4807                                                 []  ...    98.0   \n",
       "4808  [{\"name\": \"rusty bear entertainment\", \"id\": 87...  ...    90.0   \n",
       "\n",
       "                                       spoken_languages    status  \\\n",
       "0     [{\"iso_639_1\": \"en\", \"name\": \"English\"}, {\"iso...  Released   \n",
       "1              [{\"iso_639_1\": \"en\", \"name\": \"English\"}]  Released   \n",
       "2     [{\"iso_639_1\": \"fr\", \"name\": \"Fran\\u00e7ais\"},...  Released   \n",
       "3              [{\"iso_639_1\": \"en\", \"name\": \"English\"}]  Released   \n",
       "4              [{\"iso_639_1\": \"en\", \"name\": \"English\"}]  Released   \n",
       "...                                                 ...       ...   \n",
       "4804      [{\"iso_639_1\": \"es\", \"name\": \"Espa\\u00f1ol\"}]  Released   \n",
       "4805                                                 []  Released   \n",
       "4806           [{\"iso_639_1\": \"en\", \"name\": \"English\"}]  Released   \n",
       "4807           [{\"iso_639_1\": \"en\", \"name\": \"English\"}]  Released   \n",
       "4808           [{\"iso_639_1\": \"en\", \"name\": \"English\"}]  Released   \n",
       "\n",
       "                                                tagline  \\\n",
       "0                           Enter the World of Pandora.   \n",
       "1        At the end of the world, the adventure begins.   \n",
       "2                                 A Plan No One Escapes   \n",
       "3                                       The Legend Ends   \n",
       "4                  Lost in our world, found in another.   \n",
       "...                                                 ...   \n",
       "4804  He didn't come looking for trouble, but troubl...   \n",
       "4805  A newlywed couple's honeymoon is upended by th...   \n",
       "4806                                                NaN   \n",
       "4807                           A New Yorker in Shanghai   \n",
       "4808                                                NaN   \n",
       "\n",
       "                                         title vote_average vote_count  \\\n",
       "0                                       Avatar          7.2      11800   \n",
       "1     Pirates of the Caribbean: At World's End          6.9       4500   \n",
       "2                                      Spectre          6.3       4466   \n",
       "3                        The Dark Knight Rises          7.6       9106   \n",
       "4                                  John Carter          6.1       2124   \n",
       "...                                        ...          ...        ...   \n",
       "4804                               El Mariachi          6.6        238   \n",
       "4805                                 Newlyweds          5.9          5   \n",
       "4806                 Signed, Sealed, Delivered          7.0          6   \n",
       "4807                          Shanghai Calling          5.7          7   \n",
       "4808                         My Date with Drew          6.3         16   \n",
       "\n",
       "     movie_id                                               cast  \\\n",
       "0       19995  [{\"cast_id\": 242, \"character\": \"Jake Sully\", \"...   \n",
       "1         285  [{\"cast_id\": 4, \"character\": \"Captain Jack Spa...   \n",
       "2      206647  [{\"cast_id\": 1, \"character\": \"James Bond\", \"cr...   \n",
       "3       49026  [{\"cast_id\": 2, \"character\": \"Bruce Wayne / Ba...   \n",
       "4       49529  [{\"cast_id\": 5, \"character\": \"John Carter\", \"c...   \n",
       "...       ...                                                ...   \n",
       "4804     9367  [{\"cast_id\": 1, \"character\": \"El Mariachi\", \"c...   \n",
       "4805    72766  [{\"cast_id\": 1, \"character\": \"Buzzy\", \"credit_...   \n",
       "4806   231617  [{\"cast_id\": 8, \"character\": \"Oliver O\\u2019To...   \n",
       "4807   126186  [{\"cast_id\": 3, \"character\": \"Sam\", \"credit_id...   \n",
       "4808    25975  [{\"cast_id\": 3, \"character\": \"Herself\", \"credi...   \n",
       "\n",
       "                                                   crew  \n",
       "0     [{\"credit_id\": \"52fe48009251416c750aca23\", \"de...  \n",
       "1     [{\"credit_id\": \"52fe4232c3a36847f800b579\", \"de...  \n",
       "2     [{\"credit_id\": \"54805967c3a36829b5002c41\", \"de...  \n",
       "3     [{\"credit_id\": \"52fe4781c3a36847f81398c3\", \"de...  \n",
       "4     [{\"credit_id\": \"52fe479ac3a36847f813eaa3\", \"de...  \n",
       "...                                                 ...  \n",
       "4804  [{\"credit_id\": \"52fe44eec3a36847f80b280b\", \"de...  \n",
       "4805  [{\"credit_id\": \"52fe487dc3a368484e0fb013\", \"de...  \n",
       "4806  [{\"credit_id\": \"52fe4df3c3a36847f8275ecf\", \"de...  \n",
       "4807  [{\"credit_id\": \"52fe4ad9c3a368484e16a36b\", \"de...  \n",
       "4808  [{\"credit_id\": \"58ce021b9251415a390165d9\", \"de...  \n",
       "\n",
       "[4809 rows x 23 columns]"
      ]
     },
     "execution_count": 204,
     "metadata": {},
     "output_type": "execute_result"
    }
   ],
   "source": [
    "movies"
   ]
  },
  {
   "cell_type": "code",
   "execution_count": 205,
   "id": "d91d30d4-22e6-45da-9c0c-0acbf98675f1",
   "metadata": {},
   "outputs": [],
   "source": [
    "#importaint columns which can usefull for creating tag\n",
    "#movie id\n",
    "#genres\n",
    "#keywords\n",
    "#overview\n",
    "#title\n",
    "#cast\n",
    "#crew\n",
    "movies = movies[['movie_id','title','genres','keywords','overview','cast','crew']]"
   ]
  },
  {
   "cell_type": "code",
   "execution_count": 206,
   "id": "505338b7-0851-481f-abae-1e383a28badd",
   "metadata": {},
   "outputs": [
    {
     "name": "stderr",
     "output_type": "stream",
     "text": [
      "C:\\Users\\shubh\\AppData\\Local\\Temp\\ipykernel_13272\\3786870272.py:1: SettingWithCopyWarning: \n",
      "A value is trying to be set on a copy of a slice from a DataFrame\n",
      "\n",
      "See the caveats in the documentation: https://pandas.pydata.org/pandas-docs/stable/user_guide/indexing.html#returning-a-view-versus-a-copy\n",
      "  movies.dropna(inplace=True)\n"
     ]
    }
   ],
   "source": [
    "movies.dropna(inplace=True)"
   ]
  },
  {
   "cell_type": "code",
   "execution_count": 207,
   "id": "13073318-4e4e-4094-a6f7-2b19b5cb09d1",
   "metadata": {},
   "outputs": [
    {
     "data": {
      "text/plain": [
       "Index(['movie_id', 'title', 'genres', 'keywords', 'overview', 'cast', 'crew'], dtype='object')"
      ]
     },
     "execution_count": 207,
     "metadata": {},
     "output_type": "execute_result"
    }
   ],
   "source": [
    "movies.columns"
   ]
  },
  {
   "cell_type": "code",
   "execution_count": 208,
   "id": "e359ba5b-dc8b-4e98-b40f-925f3b5de253",
   "metadata": {},
   "outputs": [
    {
     "data": {
      "text/html": [
       "<div>\n",
       "<style scoped>\n",
       "    .dataframe tbody tr th:only-of-type {\n",
       "        vertical-align: middle;\n",
       "    }\n",
       "\n",
       "    .dataframe tbody tr th {\n",
       "        vertical-align: top;\n",
       "    }\n",
       "\n",
       "    .dataframe thead th {\n",
       "        text-align: right;\n",
       "    }\n",
       "</style>\n",
       "<table border=\"1\" class=\"dataframe\">\n",
       "  <thead>\n",
       "    <tr style=\"text-align: right;\">\n",
       "      <th></th>\n",
       "      <th>movie_id</th>\n",
       "      <th>title</th>\n",
       "      <th>genres</th>\n",
       "      <th>keywords</th>\n",
       "      <th>overview</th>\n",
       "      <th>cast</th>\n",
       "      <th>crew</th>\n",
       "    </tr>\n",
       "  </thead>\n",
       "  <tbody>\n",
       "    <tr>\n",
       "      <th>0</th>\n",
       "      <td>19995</td>\n",
       "      <td>Avatar</td>\n",
       "      <td>[{\"id\": 28, \"name\": \"Action\"}, {\"id\": 12, \"nam...</td>\n",
       "      <td>[{\"id\": 1463, \"name\": \"culture clash\"}, {\"id\":...</td>\n",
       "      <td>In the 22nd century, a paraplegic Marine is di...</td>\n",
       "      <td>[{\"cast_id\": 242, \"character\": \"Jake Sully\", \"...</td>\n",
       "      <td>[{\"credit_id\": \"52fe48009251416c750aca23\", \"de...</td>\n",
       "    </tr>\n",
       "    <tr>\n",
       "      <th>1</th>\n",
       "      <td>285</td>\n",
       "      <td>Pirates of the Caribbean: At World's End</td>\n",
       "      <td>[{\"id\": 12, \"name\": \"Adventure\"}, {\"id\": 14, \"...</td>\n",
       "      <td>[{\"id\": 270, \"name\": \"ocean\"}, {\"id\": 726, \"na...</td>\n",
       "      <td>Captain Barbossa, long believed to be dead, ha...</td>\n",
       "      <td>[{\"cast_id\": 4, \"character\": \"Captain Jack Spa...</td>\n",
       "      <td>[{\"credit_id\": \"52fe4232c3a36847f800b579\", \"de...</td>\n",
       "    </tr>\n",
       "    <tr>\n",
       "      <th>2</th>\n",
       "      <td>206647</td>\n",
       "      <td>Spectre</td>\n",
       "      <td>[{\"id\": 28, \"name\": \"Action\"}, {\"id\": 12, \"nam...</td>\n",
       "      <td>[{\"id\": 470, \"name\": \"spy\"}, {\"id\": 818, \"name...</td>\n",
       "      <td>A cryptic message from Bond’s past sends him o...</td>\n",
       "      <td>[{\"cast_id\": 1, \"character\": \"James Bond\", \"cr...</td>\n",
       "      <td>[{\"credit_id\": \"54805967c3a36829b5002c41\", \"de...</td>\n",
       "    </tr>\n",
       "    <tr>\n",
       "      <th>3</th>\n",
       "      <td>49026</td>\n",
       "      <td>The Dark Knight Rises</td>\n",
       "      <td>[{\"id\": 28, \"name\": \"Action\"}, {\"id\": 80, \"nam...</td>\n",
       "      <td>[{\"id\": 849, \"name\": \"dc comics\"}, {\"id\": 853,...</td>\n",
       "      <td>Following the death of District Attorney Harve...</td>\n",
       "      <td>[{\"cast_id\": 2, \"character\": \"Bruce Wayne / Ba...</td>\n",
       "      <td>[{\"credit_id\": \"52fe4781c3a36847f81398c3\", \"de...</td>\n",
       "    </tr>\n",
       "    <tr>\n",
       "      <th>4</th>\n",
       "      <td>49529</td>\n",
       "      <td>John Carter</td>\n",
       "      <td>[{\"id\": 28, \"name\": \"Action\"}, {\"id\": 12, \"nam...</td>\n",
       "      <td>[{\"id\": 818, \"name\": \"based on novel\"}, {\"id\":...</td>\n",
       "      <td>John Carter is a war-weary, former military ca...</td>\n",
       "      <td>[{\"cast_id\": 5, \"character\": \"John Carter\", \"c...</td>\n",
       "      <td>[{\"credit_id\": \"52fe479ac3a36847f813eaa3\", \"de...</td>\n",
       "    </tr>\n",
       "    <tr>\n",
       "      <th>...</th>\n",
       "      <td>...</td>\n",
       "      <td>...</td>\n",
       "      <td>...</td>\n",
       "      <td>...</td>\n",
       "      <td>...</td>\n",
       "      <td>...</td>\n",
       "      <td>...</td>\n",
       "    </tr>\n",
       "    <tr>\n",
       "      <th>4804</th>\n",
       "      <td>9367</td>\n",
       "      <td>El Mariachi</td>\n",
       "      <td>[{\"id\": 28, \"name\": \"Action\"}, {\"id\": 80, \"nam...</td>\n",
       "      <td>[{\"id\": 5616, \"name\": \"united states\\u2013mexi...</td>\n",
       "      <td>El Mariachi just wants to play his guitar and ...</td>\n",
       "      <td>[{\"cast_id\": 1, \"character\": \"El Mariachi\", \"c...</td>\n",
       "      <td>[{\"credit_id\": \"52fe44eec3a36847f80b280b\", \"de...</td>\n",
       "    </tr>\n",
       "    <tr>\n",
       "      <th>4805</th>\n",
       "      <td>72766</td>\n",
       "      <td>Newlyweds</td>\n",
       "      <td>[{\"id\": 35, \"name\": \"Comedy\"}, {\"id\": 10749, \"...</td>\n",
       "      <td>[]</td>\n",
       "      <td>A newlywed couple's honeymoon is upended by th...</td>\n",
       "      <td>[{\"cast_id\": 1, \"character\": \"Buzzy\", \"credit_...</td>\n",
       "      <td>[{\"credit_id\": \"52fe487dc3a368484e0fb013\", \"de...</td>\n",
       "    </tr>\n",
       "    <tr>\n",
       "      <th>4806</th>\n",
       "      <td>231617</td>\n",
       "      <td>Signed, Sealed, Delivered</td>\n",
       "      <td>[{\"id\": 35, \"name\": \"Comedy\"}, {\"id\": 18, \"nam...</td>\n",
       "      <td>[{\"id\": 248, \"name\": \"date\"}, {\"id\": 699, \"nam...</td>\n",
       "      <td>\"Signed, Sealed, Delivered\" introduces a dedic...</td>\n",
       "      <td>[{\"cast_id\": 8, \"character\": \"Oliver O\\u2019To...</td>\n",
       "      <td>[{\"credit_id\": \"52fe4df3c3a36847f8275ecf\", \"de...</td>\n",
       "    </tr>\n",
       "    <tr>\n",
       "      <th>4807</th>\n",
       "      <td>126186</td>\n",
       "      <td>Shanghai Calling</td>\n",
       "      <td>[]</td>\n",
       "      <td>[]</td>\n",
       "      <td>When ambitious New York attorney Sam is sent t...</td>\n",
       "      <td>[{\"cast_id\": 3, \"character\": \"Sam\", \"credit_id...</td>\n",
       "      <td>[{\"credit_id\": \"52fe4ad9c3a368484e16a36b\", \"de...</td>\n",
       "    </tr>\n",
       "    <tr>\n",
       "      <th>4808</th>\n",
       "      <td>25975</td>\n",
       "      <td>My Date with Drew</td>\n",
       "      <td>[{\"id\": 99, \"name\": \"Documentary\"}]</td>\n",
       "      <td>[{\"id\": 1523, \"name\": \"obsession\"}, {\"id\": 224...</td>\n",
       "      <td>Ever since the second grade when he first saw ...</td>\n",
       "      <td>[{\"cast_id\": 3, \"character\": \"Herself\", \"credi...</td>\n",
       "      <td>[{\"credit_id\": \"58ce021b9251415a390165d9\", \"de...</td>\n",
       "    </tr>\n",
       "  </tbody>\n",
       "</table>\n",
       "<p>4806 rows × 7 columns</p>\n",
       "</div>"
      ],
      "text/plain": [
       "      movie_id                                     title  \\\n",
       "0        19995                                    Avatar   \n",
       "1          285  Pirates of the Caribbean: At World's End   \n",
       "2       206647                                   Spectre   \n",
       "3        49026                     The Dark Knight Rises   \n",
       "4        49529                               John Carter   \n",
       "...        ...                                       ...   \n",
       "4804      9367                               El Mariachi   \n",
       "4805     72766                                 Newlyweds   \n",
       "4806    231617                 Signed, Sealed, Delivered   \n",
       "4807    126186                          Shanghai Calling   \n",
       "4808     25975                         My Date with Drew   \n",
       "\n",
       "                                                 genres  \\\n",
       "0     [{\"id\": 28, \"name\": \"Action\"}, {\"id\": 12, \"nam...   \n",
       "1     [{\"id\": 12, \"name\": \"Adventure\"}, {\"id\": 14, \"...   \n",
       "2     [{\"id\": 28, \"name\": \"Action\"}, {\"id\": 12, \"nam...   \n",
       "3     [{\"id\": 28, \"name\": \"Action\"}, {\"id\": 80, \"nam...   \n",
       "4     [{\"id\": 28, \"name\": \"Action\"}, {\"id\": 12, \"nam...   \n",
       "...                                                 ...   \n",
       "4804  [{\"id\": 28, \"name\": \"Action\"}, {\"id\": 80, \"nam...   \n",
       "4805  [{\"id\": 35, \"name\": \"Comedy\"}, {\"id\": 10749, \"...   \n",
       "4806  [{\"id\": 35, \"name\": \"Comedy\"}, {\"id\": 18, \"nam...   \n",
       "4807                                                 []   \n",
       "4808                [{\"id\": 99, \"name\": \"Documentary\"}]   \n",
       "\n",
       "                                               keywords  \\\n",
       "0     [{\"id\": 1463, \"name\": \"culture clash\"}, {\"id\":...   \n",
       "1     [{\"id\": 270, \"name\": \"ocean\"}, {\"id\": 726, \"na...   \n",
       "2     [{\"id\": 470, \"name\": \"spy\"}, {\"id\": 818, \"name...   \n",
       "3     [{\"id\": 849, \"name\": \"dc comics\"}, {\"id\": 853,...   \n",
       "4     [{\"id\": 818, \"name\": \"based on novel\"}, {\"id\":...   \n",
       "...                                                 ...   \n",
       "4804  [{\"id\": 5616, \"name\": \"united states\\u2013mexi...   \n",
       "4805                                                 []   \n",
       "4806  [{\"id\": 248, \"name\": \"date\"}, {\"id\": 699, \"nam...   \n",
       "4807                                                 []   \n",
       "4808  [{\"id\": 1523, \"name\": \"obsession\"}, {\"id\": 224...   \n",
       "\n",
       "                                               overview  \\\n",
       "0     In the 22nd century, a paraplegic Marine is di...   \n",
       "1     Captain Barbossa, long believed to be dead, ha...   \n",
       "2     A cryptic message from Bond’s past sends him o...   \n",
       "3     Following the death of District Attorney Harve...   \n",
       "4     John Carter is a war-weary, former military ca...   \n",
       "...                                                 ...   \n",
       "4804  El Mariachi just wants to play his guitar and ...   \n",
       "4805  A newlywed couple's honeymoon is upended by th...   \n",
       "4806  \"Signed, Sealed, Delivered\" introduces a dedic...   \n",
       "4807  When ambitious New York attorney Sam is sent t...   \n",
       "4808  Ever since the second grade when he first saw ...   \n",
       "\n",
       "                                                   cast  \\\n",
       "0     [{\"cast_id\": 242, \"character\": \"Jake Sully\", \"...   \n",
       "1     [{\"cast_id\": 4, \"character\": \"Captain Jack Spa...   \n",
       "2     [{\"cast_id\": 1, \"character\": \"James Bond\", \"cr...   \n",
       "3     [{\"cast_id\": 2, \"character\": \"Bruce Wayne / Ba...   \n",
       "4     [{\"cast_id\": 5, \"character\": \"John Carter\", \"c...   \n",
       "...                                                 ...   \n",
       "4804  [{\"cast_id\": 1, \"character\": \"El Mariachi\", \"c...   \n",
       "4805  [{\"cast_id\": 1, \"character\": \"Buzzy\", \"credit_...   \n",
       "4806  [{\"cast_id\": 8, \"character\": \"Oliver O\\u2019To...   \n",
       "4807  [{\"cast_id\": 3, \"character\": \"Sam\", \"credit_id...   \n",
       "4808  [{\"cast_id\": 3, \"character\": \"Herself\", \"credi...   \n",
       "\n",
       "                                                   crew  \n",
       "0     [{\"credit_id\": \"52fe48009251416c750aca23\", \"de...  \n",
       "1     [{\"credit_id\": \"52fe4232c3a36847f800b579\", \"de...  \n",
       "2     [{\"credit_id\": \"54805967c3a36829b5002c41\", \"de...  \n",
       "3     [{\"credit_id\": \"52fe4781c3a36847f81398c3\", \"de...  \n",
       "4     [{\"credit_id\": \"52fe479ac3a36847f813eaa3\", \"de...  \n",
       "...                                                 ...  \n",
       "4804  [{\"credit_id\": \"52fe44eec3a36847f80b280b\", \"de...  \n",
       "4805  [{\"credit_id\": \"52fe487dc3a368484e0fb013\", \"de...  \n",
       "4806  [{\"credit_id\": \"52fe4df3c3a36847f8275ecf\", \"de...  \n",
       "4807  [{\"credit_id\": \"52fe4ad9c3a368484e16a36b\", \"de...  \n",
       "4808  [{\"credit_id\": \"58ce021b9251415a390165d9\", \"de...  \n",
       "\n",
       "[4806 rows x 7 columns]"
      ]
     },
     "execution_count": 208,
     "metadata": {},
     "output_type": "execute_result"
    }
   ],
   "source": [
    "movies"
   ]
  },
  {
   "cell_type": "code",
   "execution_count": 209,
   "id": "8b7f07ce-99c5-4781-b675-a77604c6c0c8",
   "metadata": {},
   "outputs": [
    {
     "data": {
      "text/plain": [
       "'[{\"id\": 28, \"name\": \"Action\"}, {\"id\": 12, \"name\": \"Adventure\"}, {\"id\": 14, \"name\": \"Fantasy\"}, {\"id\": 878, \"name\": \"Science Fiction\"}]'"
      ]
     },
     "execution_count": 209,
     "metadata": {},
     "output_type": "execute_result"
    }
   ],
   "source": [
    "movies.iloc[0].genres"
   ]
  },
  {
   "cell_type": "code",
   "execution_count": 210,
   "id": "75916766-04ca-4e0a-950c-b74a0e4d9e8a",
   "metadata": {},
   "outputs": [],
   "source": [
    "import ast\n",
    "def convert(obj):\n",
    "    l=[]\n",
    "    for i in ast.literal_eval(obj):\n",
    "        l.append(i['name'])\n",
    "    return l\n",
    "        "
   ]
  },
  {
   "cell_type": "code",
   "execution_count": 211,
   "id": "ef54576d-d56f-4252-ade6-39be5cfb9fe2",
   "metadata": {},
   "outputs": [
    {
     "name": "stderr",
     "output_type": "stream",
     "text": [
      "C:\\Users\\shubh\\AppData\\Local\\Temp\\ipykernel_13272\\1189516248.py:1: SettingWithCopyWarning: \n",
      "A value is trying to be set on a copy of a slice from a DataFrame.\n",
      "Try using .loc[row_indexer,col_indexer] = value instead\n",
      "\n",
      "See the caveats in the documentation: https://pandas.pydata.org/pandas-docs/stable/user_guide/indexing.html#returning-a-view-versus-a-copy\n",
      "  movies['genres'] = movies['genres'].apply(convert)\n"
     ]
    }
   ],
   "source": [
    "movies['genres'] = movies['genres'].apply(convert)"
   ]
  },
  {
   "cell_type": "code",
   "execution_count": 212,
   "id": "ae9f53d9-91e8-43ac-9517-947ded42cce4",
   "metadata": {},
   "outputs": [
    {
     "data": {
      "text/plain": [
       "0       [Action, Adventure, Fantasy, Science Fiction]\n",
       "1                        [Adventure, Fantasy, Action]\n",
       "2                          [Action, Adventure, Crime]\n",
       "3                    [Action, Crime, Drama, Thriller]\n",
       "4                [Action, Adventure, Science Fiction]\n",
       "                            ...                      \n",
       "4804                        [Action, Crime, Thriller]\n",
       "4805                                [Comedy, Romance]\n",
       "4806               [Comedy, Drama, Romance, TV Movie]\n",
       "4807                                               []\n",
       "4808                                    [Documentary]\n",
       "Name: genres, Length: 4806, dtype: object"
      ]
     },
     "execution_count": 212,
     "metadata": {},
     "output_type": "execute_result"
    }
   ],
   "source": [
    "movies['genres']"
   ]
  },
  {
   "cell_type": "code",
   "execution_count": 213,
   "id": "3bf820af-60bd-461b-be6c-d336c941eefe",
   "metadata": {},
   "outputs": [
    {
     "name": "stderr",
     "output_type": "stream",
     "text": [
      "C:\\Users\\shubh\\AppData\\Local\\Temp\\ipykernel_13272\\3328512696.py:1: SettingWithCopyWarning: \n",
      "A value is trying to be set on a copy of a slice from a DataFrame.\n",
      "Try using .loc[row_indexer,col_indexer] = value instead\n",
      "\n",
      "See the caveats in the documentation: https://pandas.pydata.org/pandas-docs/stable/user_guide/indexing.html#returning-a-view-versus-a-copy\n",
      "  movies['keywords'] = movies['keywords'].apply(convert)\n"
     ]
    }
   ],
   "source": [
    "movies['keywords'] = movies['keywords'].apply(convert)"
   ]
  },
  {
   "cell_type": "code",
   "execution_count": 214,
   "id": "358dd489-93ff-4115-b323-2dda2189c59f",
   "metadata": {},
   "outputs": [
    {
     "data": {
      "text/plain": [
       "0       [culture clash, future, space war, space colon...\n",
       "1       [ocean, drug abuse, exotic island, east india ...\n",
       "2       [spy, based on novel, secret agent, sequel, mi...\n",
       "3       [dc comics, crime fighter, terrorist, secret i...\n",
       "4       [based on novel, mars, medallion, space travel...\n",
       "                              ...                        \n",
       "4804    [united states–mexico barrier, legs, arms, pap...\n",
       "4805                                                   []\n",
       "4806    [date, love at first sight, narration, investi...\n",
       "4807                                                   []\n",
       "4808            [obsession, camcorder, crush, dream girl]\n",
       "Name: keywords, Length: 4806, dtype: object"
      ]
     },
     "execution_count": 214,
     "metadata": {},
     "output_type": "execute_result"
    }
   ],
   "source": [
    "movies['keywords'] "
   ]
  },
  {
   "cell_type": "code",
   "execution_count": 215,
   "id": "880e5b42-85cb-45b7-b7cc-4458c4f4d093",
   "metadata": {},
   "outputs": [
    {
     "data": {
      "text/plain": [
       "cast\n",
       "[]                                                                                                                                                                                                                                                                                                                                                                                                                                                                                                                                                                                                                                                                                                                                                                                                                                                                                                                                                                                                                                                                                                                                                                                                                                                                                                                                                                                                                                                                                                                                                                                                                                                                                                                                                                                                                                                                                                                                                                                                                                                                                                                                                                                                                                                                                                                                                                                                                                                                                                                                                                                                                                                                                                                                                                                                                                                                                                                                                                                                                                                                                                                                                                                                                                                                                                                                                                                                                                                                                                                                                                                                                                                                                                                                                                                                                                                                                                                                                                                                                                                                                                                                                                                                                                                                                                                                                                                                                                                                                                                                                                                                                                                                                                                                                                                                                                                                                                                                                                                                                                                                                                                                                                                                                                                                                                                                                                                                                                                                                                                                                                                                                                                                                                                                                                                                                                                                                                                                                                                                                                                                                                                                                                                                                                                                                                                                                                                                                                                                                                                                                                                                                                    42\n",
       "[{\"cast_id\": 2, \"character\": \"Don\", \"credit_id\": \"52fe47099251416c9106825d\", \"gender\": 2, \"id\": 2778, \"name\": \"Dennis Hopper\", \"order\": 1}, {\"cast_id\": 3, \"character\": \"Dr. Brean\", \"credit_id\": \"52fe47099251416c91068261\", \"gender\": 2, \"id\": 7685, \"name\": \"Raymond Burr\", \"order\": 2}, {\"cast_id\": 4, \"character\": \"Kathy\", \"credit_id\": \"52fe47099251416c91068265\", \"gender\": 1, \"id\": 19434, \"name\": \"Sharon Farrell\", \"order\": 3}, {\"cast_id\": 5, \"character\": \"Cebe\", \"credit_id\": \"52fe47099251416c91068269\", \"gender\": 1, \"id\": 3011, \"name\": \"Linda Manz\", \"order\": 4}, {\"cast_id\": 26, \"character\": \"Charlie\", \"credit_id\": \"5691f0a3c3a3684cfc000da9\", \"gender\": 2, \"id\": 14062, \"name\": \"Don Gordon\", \"order\": 5}]                                                                                                                                                                                                                                                                                                                                                                                                                                                                                                                                                                                                                                                                                                                                                                                                                                                                                                                                                                                                                                                                                                                                                                                                                                                                                                                                                                                                                                                                                                                                                                                                                                                                                                                                                                                                                                                                                                                                                                                                                                                                                                                                                                                                                                                                                                                                                                                                                                                                                                                                                                                                                                                                                                                                                                                                                                                                                                                                                                                                                                                                                                                                                                                                                                                                                                                                                                                                                                                                                                                                                                                                                                                                                                                                                                                                                                                                                                                                                                                                                                                                                                                                                                                                                                                                                                                                                                                                                                                                                                                                                                                                                                                                                                                                                                                                                                                                                                                                                                                                                                                                                                                                                                                                                                                                                                                                                                                                                                                                                                                                                                                                                                                                                                                                                                                                                                                                                                      2\n",
       "[{\"cast_id\": 12, \"character\": \"Nick Harvey\", \"credit_id\": \"52fe43c19251416c7501ccf5\", \"gender\": 2, \"id\": 1372, \"name\": \"Karl Urban\", \"order\": 0}, {\"cast_id\": 17, \"character\": \"Julie-Anne Bryson\", \"credit_id\": \"52fe43c19251416c7501cd11\", \"gender\": 1, \"id\": 33310, \"name\": \"Tandi Wright\", \"order\": 1}, {\"cast_id\": 18, \"character\": \"Garry Holden\", \"credit_id\": \"52fe43c19251416c7501cd15\", \"gender\": 0, \"id\": 67121, \"name\": \"Simon Ferry\", \"order\": 2}, {\"cast_id\": 19, \"character\": \"David Gray\", \"credit_id\": \"52fe43c19251416c7501cd19\", \"gender\": 2, \"id\": 67119, \"name\": \"Matthew Sunderland\", \"order\": 3}, {\"cast_id\": 20, \"character\": \"Helen Dickson\", \"credit_id\": \"52fe43c19251416c7501cd1d\", \"gender\": 1, \"id\": 67120, \"name\": \"Lois Lawn\", \"order\": 4}, {\"cast_id\": 22, \"character\": \"Paul Knox\", \"credit_id\": \"52fe43c19251416c7501cd25\", \"gender\": 0, \"id\": 67122, \"name\": \"Paul Glover\", \"order\": 5}, {\"cast_id\": 21, \"character\": \"Stu Guthrie\", \"credit_id\": \"52fe43c19251416c7501cd21\", \"gender\": 2, \"id\": 67123, \"name\": \"William Kircher\", \"order\": 6}, {\"cast_id\": 23, \"character\": \"Chiquita Holden\", \"credit_id\": \"52fe43c19251416c7501cd29\", \"gender\": 0, \"id\": 67124, \"name\": \"Georgia Fabish\", \"order\": 7}, {\"cast_id\": 24, \"character\": \"Stacey Percy\", \"credit_id\": \"52fe43c19251416c7501cd2d\", \"gender\": 0, \"id\": 67125, \"name\": \"Fayth Rasmussen\", \"order\": 8}, {\"cast_id\": 25, \"character\": \"Jimmy Dickson\", \"credit_id\": \"52fe43c19251416c7501cd31\", \"gender\": 0, \"id\": 67126, \"name\": \"Timothy Bartlett\", \"order\": 9}, {\"cast_id\": 26, \"character\": \"Bank Manager\", \"credit_id\": \"52fe43c19251416c7501cd35\", \"gender\": 0, \"id\": 67129, \"name\": \"Murray Davidson\", \"order\": 10}, {\"cast_id\": 27, \"character\": \"Dion Percy\", \"credit_id\": \"52fe43c19251416c7501cd39\", \"gender\": 0, \"id\": 67128, \"name\": \"Baxter Cannell\", \"order\": 11}, {\"cast_id\": 28, \"character\": \"Ross Percy\", \"credit_id\": \"52fe43c19251416c7501cd3d\", \"gender\": 0, \"id\": 67127, \"name\": \"Tony Bishop\", \"order\": 12}, {\"cast_id\": 29, \"character\": \"AOS / ATS Officer\", \"credit_id\": \"52fe43c19251416c7501cd41\", \"gender\": 0, \"id\": 67130, \"name\": \"Dave Dudfield\", \"order\": 13}, {\"cast_id\": 30, \"character\": \"Garry Holden's Mother\", \"credit_id\": \"52fe43c19251416c7501cd45\", \"gender\": 1, \"id\": 11336, \"name\": \"Brenda Kendall\", \"order\": 14}, {\"cast_id\": 31, \"character\": \"Brian Wilson\", \"credit_id\": \"52fe43c19251416c7501cd49\", \"gender\": 0, \"id\": 67131, \"name\": \"Nick Duval-Smith\", \"order\": 15}, {\"cast_id\": 32, \"character\": \"Rene Aarsen\", \"credit_id\": \"52fe43c19251416c7501cd4d\", \"gender\": 0, \"id\": 67134, \"name\": \"Richard Knowles\", \"order\": 16}, {\"cast_id\": 33, \"character\": \"Leo Wilson\", \"credit_id\": \"52fe43c19251416c7501cd51\", \"gender\": 0, \"id\": 67135, \"name\": \"Thomas Lee-Batley\", \"order\": 17}, {\"cast_id\": 34, \"character\": \"Dorothy Crimp\", \"credit_id\": \"52fe43c19251416c7501cd55\", \"gender\": 0, \"id\": 67132, \"name\": \"Natalie Ellis\", \"order\": 18}, {\"cast_id\": 35, \"character\": \"Aleki Tali\", \"credit_id\": \"52fe43c19251416c7501cd59\", \"gender\": 0, \"id\": 67133, \"name\": \"Fatu Ioane\", \"order\": 19}, {\"cast_id\": 37, \"character\": \"Chris Cole\", \"credit_id\": \"5881e7b7c3a368144f00ac13\", \"gender\": 0, \"id\": 29082, \"name\": \"Bruce Phillips\", \"order\": 20}, {\"cast_id\": 38, \"character\": \"Darren Buist\", \"credit_id\": \"5881ea34925141303e00b006\", \"gender\": 0, \"id\": 1086827, \"name\": \"Ryan O'Kane\", \"order\": 21}, {\"cast_id\": 39, \"character\": \"Darren Gibbs\", \"credit_id\": \"5881ea5cc3a368146000b9cd\", \"gender\": 2, \"id\": 212730, \"name\": \"Michael Whalley\", \"order\": 22}]                                                                                                                                                                                                                                                                                                                                                                                                                                                                                                                                                                                                                                                                                                                                                                                                                                                                                                                                                                                                                                                                                                                                                                                                                                                                                                                                                                                                                                                                                                                                                                                                                                                                                                                                                                                                                                                                                                                                                                                                                                                                                                                                                                                                                                                                                                                                                                                                                                                                                                                                                                                                                                                                                                                                                                                                                                                                                                                                                                                                             2\n",
       "[{\"cast_id\": 52, \"character\": \"Melanie Stryder / Wanda\", \"credit_id\": \"52fe487bc3a368484e0fa99d\", \"gender\": 1, \"id\": 36592, \"name\": \"Saoirse Ronan\", \"order\": 0}, {\"cast_id\": 11, \"character\": \"The Seeker / Lacey\", \"credit_id\": \"52fe487bc3a368484e0fa8eb\", \"gender\": 1, \"id\": 9824, \"name\": \"Diane Kruger\", \"order\": 1}, {\"cast_id\": 12, \"character\": \"Ian O'Shea\", \"credit_id\": \"52fe487bc3a368484e0fa8ef\", \"gender\": 2, \"id\": 105727, \"name\": \"Jake Abel\", \"order\": 2}, {\"cast_id\": 13, \"character\": \"Jeb Stryder\", \"credit_id\": \"52fe487bc3a368484e0fa8f3\", \"gender\": 2, \"id\": 227, \"name\": \"William Hurt\", \"order\": 3}, {\"cast_id\": 14, \"character\": \"Maggie Stryder\", \"credit_id\": \"52fe487bc3a368484e0fa8f7\", \"gender\": 1, \"id\": 3713, \"name\": \"Frances Fisher\", \"order\": 4}, {\"cast_id\": 15, \"character\": \"Jared Howe\", \"credit_id\": \"52fe487bc3a368484e0fa8fb\", \"gender\": 2, \"id\": 232396, \"name\": \"Max Irons\", \"order\": 5}, {\"cast_id\": 16, \"character\": \"Jamie Stryder\", \"credit_id\": \"52fe487bc3a368484e0fa8ff\", \"gender\": 2, \"id\": 77334, \"name\": \"Chandler Canterbury\", \"order\": 6}, {\"cast_id\": 17, \"character\": \"Kyle O'Shea\", \"credit_id\": \"52fe487bc3a368484e0fa903\", \"gender\": 2, \"id\": 467645, \"name\": \"Boyd Holbrook\", \"order\": 7}, {\"cast_id\": 20, \"character\": \"Seeker Reed\", \"credit_id\": \"52fe487bc3a368484e0fa913\", \"gender\": 0, \"id\": 936403, \"name\": \"Stephen Rider\", \"order\": 8}, {\"cast_id\": 22, \"character\": \"Wanda\", \"credit_id\": \"52fe487bc3a368484e0fa91d\", \"gender\": 1, \"id\": 70456, \"name\": \"Emily Browning\", \"order\": 9}, {\"cast_id\": 27, \"character\": \"Soul Fleur\", \"credit_id\": \"52fe487bc3a368484e0fa939\", \"gender\": 1, \"id\": 35198, \"name\": \"Rachel Roberts\", \"order\": 10}, {\"cast_id\": 28, \"character\": \"Soul Anshu\", \"credit_id\": \"52fe487bc3a368484e0fa93d\", \"gender\": 0, \"id\": 1273231, \"name\": \"Shyaam Karra\", \"order\": 11}, {\"cast_id\": 29, \"character\": \"Soul Winters\", \"credit_id\": \"52fe487bc3a368484e0fa941\", \"gender\": 0, \"id\": 1273232, \"name\": \"Brent Wendell Williams\", \"order\": 12}, {\"cast_id\": 30, \"character\": \"Soul Lake\", \"credit_id\": \"52fe487bc3a368484e0fa945\", \"gender\": 0, \"id\": 1273233, \"name\": \"Jhil McEntyre\", \"order\": 13}, {\"cast_id\": 31, \"character\": \"Soul Nafisa\", \"credit_id\": \"52fe487bc3a368484e0fa949\", \"gender\": 0, \"id\": 1273234, \"name\": \"Jalen Coleman\", \"order\": 14}, {\"cast_id\": 32, \"character\": \"Seeker Song\", \"credit_id\": \"52fe487bc3a368484e0fa94d\", \"gender\": 0, \"id\": 1181296, \"name\": \"Jaylen Moore\", \"order\": 15}, {\"cast_id\": 33, \"character\": \"Seeker Sands\", \"credit_id\": \"52fe487bc3a368484e0fa951\", \"gender\": 0, \"id\": 1273235, \"name\": \"Stephen Conroy\", \"order\": 16}, {\"cast_id\": 34, \"character\": \"Seeker Wolfe\", \"credit_id\": \"52fe487bc3a368484e0fa955\", \"gender\": 0, \"id\": 1273236, \"name\": \"Michael L. Parker\", \"order\": 17}, {\"cast_id\": 35, \"character\": \"Seeker Waverley\", \"credit_id\": \"52fe487bc3a368484e0fa959\", \"gender\": 0, \"id\": 92058, \"name\": \"Phil Austin\", \"order\": 18}, {\"cast_id\": 36, \"character\": \"Healer Fords\", \"credit_id\": \"52fe487bc3a368484e0fa95d\", \"gender\": 2, \"id\": 16460, \"name\": \"Marcus Lyle Brown\", \"order\": 19}, {\"cast_id\": 37, \"character\": \"Trevor Stryder\", \"credit_id\": \"52fe487bc3a368484e0fa961\", \"gender\": 2, \"id\": 129868, \"name\": \"J.D. Evermore\", \"order\": 20}, {\"cast_id\": 38, \"character\": \"Soul Raines\", \"credit_id\": \"52fe487bc3a368484e0fa965\", \"gender\": 0, \"id\": 1273237, \"name\": \"John Wilmot\", \"order\": 21}, {\"cast_id\": 39, \"character\": \"Seeker Pavo\", \"credit_id\": \"52fe487bc3a368484e0fa969\", \"gender\": 0, \"id\": 1273238, \"name\": \"Evan Cleaver\", \"order\": 22}, {\"cast_id\": 40, \"character\": \"Brandt\", \"credit_id\": \"52fe487bc3a368484e0fa96d\", \"gender\": 0, \"id\": 1273239, \"name\": \"Mustafa Harris\", \"order\": 23}, {\"cast_id\": 41, \"character\": \"Doc\", \"credit_id\": \"52fe487bc3a368484e0fa971\", \"gender\": 2, \"id\": 42317, \"name\": \"Scott Lawrence\", \"order\": 24}, {\"cast_id\": 42, \"character\": \"Wes\", \"credit_id\": \"52fe487bc3a368484e0fa975\", \"gender\": 0, \"id\": 176491, \"name\": \"Shawn Carter Peterson\", \"order\": 25}, {\"cast_id\": 43, \"character\": \"Lily\", \"credit_id\": \"52fe487bc3a368484e0fa979\", \"gender\": 0, \"id\": 1123886, \"name\": \"Raeden Greer\", \"order\": 26}, {\"cast_id\": 44, \"character\": \"Seeker Hawke\", \"credit_id\": \"52fe487bc3a368484e0fa97d\", \"gender\": 0, \"id\": 1112417, \"name\": \"Tatanka Means\", \"order\": 27}, {\"cast_id\": 46, \"character\": \"Seeker Summers\", \"credit_id\": \"52fe487bc3a368484e0fa985\", \"gender\": 0, \"id\": 79211, \"name\": \"David House\", \"order\": 29}, {\"cast_id\": 47, \"character\": \"Soul Pearle\", \"credit_id\": \"52fe487bc3a368484e0fa989\", \"gender\": 0, \"id\": 1273240, \"name\": \"Ruby Lou Smith\", \"order\": 30}, {\"cast_id\": 48, \"character\": \"Healer Skye\", \"credit_id\": \"52fe487bc3a368484e0fa98d\", \"gender\": 1, \"id\": 946356, \"name\": \"Andrea Frankle\", \"order\": 31}, {\"cast_id\": 49, \"character\": \"Seeker Nova\", \"credit_id\": \"52fe487bc3a368484e0fa991\", \"gender\": 0, \"id\": 1049735, \"name\": \"Yohance Myles\", \"order\": 32}, {\"cast_id\": 50, \"character\": \"Seeker Burns\", \"credit_id\": \"52fe487bc3a368484e0fa995\", \"gender\": 2, \"id\": 558466, \"name\": \"Alex Russell\", \"order\": 33}, {\"cast_id\": 51, \"character\": \"Nate\", \"credit_id\": \"52fe487bc3a368484e0fa999\", \"gender\": 2, \"id\": 71913, \"name\": \"Bokeem Woodbine\", \"order\": 34}, {\"cast_id\": 56, \"character\": \"Seeker Dawn\", \"credit_id\": \"56a12cdcc3a36858e500fde3\", \"gender\": 0, \"id\": 1369033, \"name\": \"Stacey Carino\", \"order\": 35}, {\"cast_id\": 57, \"character\": \"Seeker Zephyr\", \"credit_id\": \"56a12dc0c3a3683413005c66\", \"gender\": 0, \"id\": 1566669, \"name\": \"Erik Schultz\", \"order\": 36}]                                                                                                                                                                                                                                                                                                                                                                                                                                                                                                                                                                                                                                                                                                                                                                                                                                                                                                                                                                       2\n",
       "[{\"cast_id\": 3, \"character\": \"Park Gang-du\", \"credit_id\": \"52fe42eac3a36847f802ca31\", \"gender\": 2, \"id\": 20738, \"name\": \"Song Kang-ho\", \"order\": 0}, {\"cast_id\": 5, \"character\": \"Park Nam-il\", \"credit_id\": \"52fe42eac3a36847f802ca39\", \"gender\": 2, \"id\": 21687, \"name\": \"Park Hae-il\", \"order\": 2}, {\"cast_id\": 6, \"character\": \"Park Nam-joo\", \"credit_id\": \"52fe42eac3a36847f802ca3d\", \"gender\": 1, \"id\": 21688, \"name\": \"Bae Doona\", \"order\": 3}, {\"cast_id\": 7, \"character\": \"Park Hyun-seo\", \"credit_id\": \"52fe42eac3a36847f802ca41\", \"gender\": 0, \"id\": 21689, \"name\": \"Ko Ah-sung\", \"order\": 4}, {\"cast_id\": 15, \"character\": \"Park Hie-bong\", \"credit_id\": \"56169cd49251410d80012453\", \"gender\": 0, \"id\": 116180, \"name\": \"Byun Hee-bong\", \"order\": 5}, {\"cast_id\": 18, \"character\": \"American Doctor\", \"credit_id\": \"5776a94592514174d2001e5d\", \"gender\": 2, \"id\": 6914, \"name\": \"Scott Wilson\", \"order\": 6}, {\"cast_id\": 20, \"character\": \"US Doctor trying to operate Gang-Du\", \"credit_id\": \"5956a8fbc3a3680d73061d61\", \"gender\": 2, \"id\": 138988, \"name\": \"Paul Lazar\", \"order\": 7}]                                                                                                                                                                                                                                                                                                                                                                                                                                                                                                                                                                                                                                                                                                                                                                                                                                                                                                                                                                                                                                                                                                                                                                                                                                                                                                                                                                                                                                                                                                                                                                                                                                                                                                                                                                                                                                                                                                                                                                                                                                                                                                                                                                                                                                                                                                                                                                                                                                                                                                                                                                                                                                                                                                                                                                                                                                                                                                                                                                                                                                                                                                                                                                                                                                                                                                                                                                                                                                                                                                                                                                                                                                                                                                                                                                                                                                                                                                                                                                                                                                                                                                                                                                                                                                                                                                                                                                                                                                                                                                                                                                                                                                                                                                                                                                                                                                                                                                                                                                                                                                                                                                                                                                                                                                                                                                                                                                                                                                                                                                                                   2\n",
       "                                                                                                                                                                                                                                                                                                                                                                                                                                                                                                                                                                                                                                                                                                                                                                                                                                                                                                                                                                                                                                                                                                                                                                                                                                                                                                                                                                                                                                                                                                                                                                                                                                                                                                                                                                                                                                                                                                                                                                                                                                                                                                                                                                                                                                                                                                                                                                                                                                                                                                                                                                                                                                                                                                                                                                                                                                                                                                                                                                                                                                                                                                                                                                                                                                                                                                                                                                                                                                                                                                                                                                                                                                                                                                                                                                                                                                                                                                                                                                                                                                                                                                                                                                                                                                                                                                                                                                                                                                                                                                                                                                                                                                                                                                                                                                                                                                                                                                                                                                                                                                                                                                                                                                                                                                                                                                                                                                                                                                                                                                                                                                                                                                                                                                                                                                                                                                                                                                                                                                                                                                                                                                                                                                                                                                                                                                                                                                                                                                                                                                                                                                                                                                      ..\n",
       "[{\"cast_id\": 16, \"character\": \"James Bond\", \"credit_id\": \"52fe426dc3a36847f801debf\", \"gender\": 2, \"id\": 10222, \"name\": \"Roger Moore\", \"order\": 0}, {\"cast_id\": 17, \"character\": \"Max Zorin\", \"credit_id\": \"52fe426dc3a36847f801dec3\", \"gender\": 2, \"id\": 4690, \"name\": \"Christopher Walken\", \"order\": 1}, {\"cast_id\": 18, \"character\": \"Stacey Sutton\", \"credit_id\": \"52fe426dc3a36847f801dec7\", \"gender\": 1, \"id\": 10660, \"name\": \"Tanya Roberts\", \"order\": 2}, {\"cast_id\": 19, \"character\": \"May Day\", \"credit_id\": \"52fe426dc3a36847f801decb\", \"gender\": 1, \"id\": 10661, \"name\": \"Grace Jones\", \"order\": 3}, {\"cast_id\": 20, \"character\": \"Tibbett\", \"credit_id\": \"52fe426dc3a36847f801decf\", \"gender\": 2, \"id\": 10662, \"name\": \"Patrick Macnee\", \"order\": 4}, {\"cast_id\": 21, \"character\": \"Scarpine\", \"credit_id\": \"52fe426ec3a36847f801ded3\", \"gender\": 0, \"id\": 5274, \"name\": \"Patrick Bauchau\", \"order\": 5}, {\"cast_id\": 22, \"character\": \"Chuck Lee\", \"credit_id\": \"52fe426ec3a36847f801ded7\", \"gender\": 0, \"id\": 696, \"name\": \"David Yip\", \"order\": 6}, {\"cast_id\": 23, \"character\": \"Pola Ivanova\", \"credit_id\": \"52fe426ec3a36847f801dedb\", \"gender\": 1, \"id\": 10663, \"name\": \"Fiona Fullerton\", \"order\": 7}, {\"cast_id\": 32, \"character\": \"Bob Conley\", \"credit_id\": \"5401059e0e0a2658e600326a\", \"gender\": 0, \"id\": 99366, \"name\": \"Manning Redwood\", \"order\": 8}, {\"cast_id\": 33, \"character\": \"Jenny Flex\", \"credit_id\": \"540105bf0e0a2658f100309d\", \"gender\": 1, \"id\": 739, \"name\": \"Alison Doody\", \"order\": 9}, {\"cast_id\": 24, \"character\": \"Dr. Carl Mortner\", \"credit_id\": \"52fe426ec3a36847f801dedf\", \"gender\": 2, \"id\": 10664, \"name\": \"Willoughby Gray\", \"order\": 10}, {\"cast_id\": 25, \"character\": \"Q\", \"credit_id\": \"52fe426ec3a36847f801dee3\", \"gender\": 2, \"id\": 9906, \"name\": \"Desmond Llewelyn\", \"order\": 11}, {\"cast_id\": 29, \"character\": \"M\", \"credit_id\": \"52fe426ec3a36847f801def3\", \"gender\": 2, \"id\": 10513, \"name\": \"Robert Brown\", \"order\": 12}, {\"cast_id\": 26, \"character\": \"Miss Moneypenny\", \"credit_id\": \"52fe426ec3a36847f801dee7\", \"gender\": 1, \"id\": 9878, \"name\": \"Lois Maxwell\", \"order\": 13}, {\"cast_id\": 27, \"character\": \"General Gogol\", \"credit_id\": \"52fe426ec3a36847f801deeb\", \"gender\": 0, \"id\": 6610, \"name\": \"Walter Gotell\", \"order\": 14}, {\"cast_id\": 28, \"character\": \"Minister of Defence\", \"credit_id\": \"52fe426ec3a36847f801deef\", \"gender\": 2, \"id\": 10462, \"name\": \"Geoffrey Keen\", \"order\": 15}, {\"cast_id\": 34, \"character\": \"Aubergine\", \"credit_id\": \"540105ef0e0a2658db003202\", \"gender\": 0, \"id\": 35881, \"name\": \"Jean Rougerie\", \"order\": 16}, {\"cast_id\": 35, \"character\": \"Howe\", \"credit_id\": \"5401062a0e0a2658e9003215\", \"gender\": 2, \"id\": 58663, \"name\": \"Daniel Benzali\", \"order\": 17}, {\"cast_id\": 40, \"character\": \"Klotkoff\", \"credit_id\": \"5947f555c3a368171b03dc8c\", \"gender\": 0, \"id\": 1327765, \"name\": \"Bogdan Kominowski\", \"order\": 18}, {\"cast_id\": 36, \"character\": \"Pah Ho (as Papillon Soo Soo)\", \"credit_id\": \"540106420e0a2658f10030ac\", \"gender\": 0, \"id\": 8668, \"name\": \"Papillon Soo\", \"order\": 19}, {\"cast_id\": 37, \"character\": \"Kimberley Jones\", \"credit_id\": \"540106940e0a2658d8003173\", \"gender\": 1, \"id\": 147290, \"name\": \"Mary Stavin\", \"order\": 20}, {\"cast_id\": 41, \"character\": \"Butterfly Act Compere\", \"credit_id\": \"5947f5a99251413fc203fd22\", \"gender\": 0, \"id\": 1835883, \"name\": \"Dominique Risbourg\", \"order\": 21}, {\"cast_id\": 42, \"character\": \"Whistling Girl\", \"credit_id\": \"5947f5d49251413fb60418bd\", \"gender\": 0, \"id\": 1225724, \"name\": \"Carole Ashby\", \"order\": 22}, {\"cast_id\": 43, \"character\": \"Taiwanese Tycoon (as Anthony Chin)\", \"credit_id\": \"5947f61cc3a36816f60439a0\", \"gender\": 0, \"id\": 1211876, \"name\": \"Anthony Chinn\", \"order\": 23}, {\"cast_id\": 44, \"character\": \"Paris Taxi Driver (as Lucien Jerome)\", \"credit_id\": \"5947f677c3a368265f021cdb\", \"gender\": 0, \"id\": 550424, \"name\": \"Lucien J\\u00e9r\\u00f4me\", \"order\": 24}, {\"cast_id\": 45, \"character\": \"U.S. Police Captain\", \"credit_id\": \"5947f698c3a36816e4040faf\", \"gender\": 0, \"id\": 169910, \"name\": \"Joe Flood\", \"order\": 25}, {\"cast_id\": 46, \"character\": \"Auctioneer\", \"credit_id\": \"5947f6e1c3a36816c5042f5d\", \"gender\": 0, \"id\": 1835885, \"name\": \"Gerard B\\u00fchr\", \"order\": 26}, {\"cast_id\": 47, \"character\": \"Venz\", \"credit_id\": \"5947f6f99251413ff404229d\", \"gender\": 2, \"id\": 16644, \"name\": \"Dolph Lundgren\", \"order\": 27}, {\"cast_id\": 48, \"character\": \"Mine Foreman\", \"credit_id\": \"5947f7269251413fbb0413e5\", \"gender\": 0, \"id\": 126536, \"name\": \"Tony Sibbald\", \"order\": 28}, {\"cast_id\": 49, \"character\": \"O'Rourke\", \"credit_id\": \"5947f73cc3a368265f021d81\", \"gender\": 0, \"id\": 548088, \"name\": \"Bill Ackridge\", \"order\": 29}, {\"cast_id\": 50, \"character\": \"Guard I\", \"credit_id\": \"5947f7549251413ff40422f3\", \"gender\": 2, \"id\": 1490615, \"name\": \"Ron Tarr\", \"order\": 30}, {\"cast_id\": 51, \"character\": \"Guard II\", \"credit_id\": \"5947f7669251413fdd0417ee\", \"gender\": 0, \"id\": 1835886, \"name\": \"Taylor McAuley\", \"order\": 31}, {\"cast_id\": 52, \"character\": \"Tycoon\", \"credit_id\": \"5947f772c3a36816c5042fe1\", \"gender\": 0, \"id\": 1835887, \"name\": \"Peter Ensor\", \"order\": 32}, {\"cast_id\": 53, \"character\": \"Helicopter Pilot\", \"credit_id\": \"5947f795c3a368171b03de5e\", \"gender\": 0, \"id\": 1646963, \"name\": \"Seva Novgorodtsev\", \"order\": 33}, {\"cast_id\": 54, \"character\": \"The Girls\", \"credit_id\": \"5947f7d5c3a368170f044198\", \"gender\": 0, \"id\": 1835888, \"name\": \"Sian Adey-Jones\", \"order\": 34}, {\"cast_id\": 55, \"character\": \"The Girls\", \"credit_id\": \"5947f7e2c3a368111502e59d\", \"gender\": 0, \"id\": 1835889, \"name\": \"Caroline Hallett\", \"order\": 35}, {\"cast_id\": 56, \"character\": \"The Girls\", \"credit_id\": \"5947f7eac3a368261901e9e6\", \"gender\": 0, \"id\": 1835890, \"name\": \"Nike Clark\", \"order\": 36}, {\"cast_id\": 57, \"character\": \"The Girls\", \"credit_id\": \"5947f7f1c3a368170f0441b5\", \"gender\": 0, \"id\": 1835891, \"name\": \"Paula Thomas\", \"order\": 37}, {\"cast_id\": 58, \"character\": \"The Girls\", \"credit_id\": \"5947f7f89251413fdd041896\", \"gender\": 0, \"id\": 1835892, \"name\": \"Gloria Douse\", \"order\": 38}, {\"cast_id\": 59, \"character\": \"The Girls\", \"credit_id\": \"5947f802c3a36816f6043b59\", \"gender\": 0, \"id\": 1835893, \"name\": \"Lou-Anne Ronchi\", \"order\": 39}, {\"cast_id\": 60, \"character\": \"The Girls\", \"credit_id\": \"5947f80a9251413fb1044c9f\", \"gender\": 0, \"id\": 1835894, \"name\": \"Elke Ritschel\", \"order\": 40}, {\"cast_id\": 61, \"character\": \"The Girls\", \"credit_id\": \"5947f814c3a368265f021e50\", \"gender\": 0, \"id\": 1835895, \"name\": \"Mayako Torigai\", \"order\": 41}]     1\n",
       "[{\"cast_id\": 4, \"character\": \"Lt. Frank Drebin\", \"credit_id\": \"52fe45f69251416c910447f1\", \"gender\": 2, \"id\": 7633, \"name\": \"Leslie Nielsen\", \"order\": 0}, {\"cast_id\": 5, \"character\": \"Jane Spencer\", \"credit_id\": \"52fe45f69251416c910447f5\", \"gender\": 1, \"id\": 12949, \"name\": \"Priscilla Presley\", \"order\": 1}, {\"cast_id\": 10, \"character\": \"Ed Hocken\", \"credit_id\": \"52fe45f79251416c91044809\", \"gender\": 2, \"id\": 12950, \"name\": \"George Kennedy\", \"order\": 2}, {\"cast_id\": 6, \"character\": \"Nordberg\", \"credit_id\": \"52fe45f69251416c910447f9\", \"gender\": 2, \"id\": 12951, \"name\": \"O.J. Simpson\", \"order\": 3}, {\"cast_id\": 8, \"character\": \"Rocco\", \"credit_id\": \"52fe45f69251416c91044801\", \"gender\": 2, \"id\": 10430, \"name\": \"Fred Ward\", \"order\": 4}, {\"cast_id\": 9, \"character\": \"Muriel\", \"credit_id\": \"52fe45f79251416c91044805\", \"gender\": 1, \"id\": 7210, \"name\": \"Kathleen Freeman\", \"order\": 5}, {\"cast_id\": 7, \"character\": \"Tanya\", \"credit_id\": \"52fe45f69251416c910447fd\", \"gender\": 1, \"id\": 115654, \"name\": \"Anna Nicole Smith\", \"order\": 6}, {\"cast_id\": 18, \"character\": \"Dr. Roberts\", \"credit_id\": \"52fe45f79251416c91044837\", \"gender\": 1, \"id\": 24293, \"name\": \"Doris Belack\", \"order\": 7}, {\"cast_id\": 19, \"character\": \"Carjacker\", \"credit_id\": \"52fe45f79251416c9104483b\", \"gender\": 2, \"id\": 11915, \"name\": \"Nigel Gibbs\", \"order\": 8}, {\"cast_id\": 20, \"character\": \"Corridor Guard\", \"credit_id\": \"52fe45f79251416c9104483f\", \"gender\": 2, \"id\": 95061, \"name\": \"Andre Rosey Brown\", \"order\": 9}, {\"cast_id\": 21, \"character\": \"Himself\", \"credit_id\": \"5562fa2d92514116cb000dc4\", \"gender\": 0, \"id\": 15152, \"name\": \"James Earl Jones\", \"order\": 10}, {\"cast_id\": 22, \"character\": \"Pia Zadora\", \"credit_id\": \"56687f3a92514173fc003635\", \"gender\": 1, \"id\": 21992, \"name\": \"Pia Zadora\", \"order\": 11}, {\"cast_id\": 23, \"character\": \"Louise\", \"credit_id\": \"57a52cb39251412e72006f8e\", \"gender\": 1, \"id\": 13420, \"name\": \"Ellen Greene\", \"order\": 12}, {\"cast_id\": 24, \"character\": \"Papshmir\", \"credit_id\": \"57a52cc9c3a36868ee004ca8\", \"gender\": 2, \"id\": 13422, \"name\": \"Raye Birk\", \"order\": 13}, {\"cast_id\": 25, \"character\": \"Defense Attorney\", \"credit_id\": \"57a52cd69251412ee3006e5d\", \"gender\": 0, \"id\": 1319670, \"name\": \"Wylie Small\", \"order\": 14}, {\"cast_id\": 26, \"character\": \"Big Hairy Con\", \"credit_id\": \"57a52cf5925141332d006bab\", \"gender\": 0, \"id\": 5177, \"name\": \"Randall 'Tex' Cobb\", \"order\": 15}, {\"cast_id\": 27, \"character\": \"Ann B. Davis\", \"credit_id\": \"57a52d00c3a368615a0071bd\", \"gender\": 1, \"id\": 125110, \"name\": \"Ann B. Davis\", \"order\": 16}, {\"cast_id\": 28, \"character\": \"Vanna White\", \"credit_id\": \"57a52d0ec3a368615a0071ce\", \"gender\": 1, \"id\": 97752, \"name\": \"Vanna White\", \"order\": 17}, {\"cast_id\": 29, \"character\": \"'Weird Al' Yankovic\", \"credit_id\": \"57a52d19c3a36807cb00249e\", \"gender\": 0, \"id\": 71041, \"name\": \"\\\"Weird Al\\\" Yankovic\", \"order\": 18}, {\"cast_id\": 30, \"character\": \"Mary Lou Retton\", \"credit_id\": \"57a52d26c3a36807cb0024a9\", \"gender\": 0, \"id\": 1224933, \"name\": \"Mary Lou Retton\", \"order\": 19}, {\"cast_id\": 31, \"character\": \"Teleprompter Guy\", \"credit_id\": \"57a52d5fc3a368615a0071fa\", \"gender\": 2, \"id\": 12987, \"name\": \"David Zucker\", \"order\": 20}, {\"cast_id\": 32, \"character\": \"Dominatrix\", \"credit_id\": \"57a52d71c3a368615a007209\", \"gender\": 1, \"id\": 80116, \"name\": \"Julie Strain\", \"order\": 21}, {\"cast_id\": 33, \"character\": \"Florence Henderson\", \"credit_id\": \"57a52d8392514132fa006bf4\", \"gender\": 1, \"id\": 75343, \"name\": \"Florence Henderson\", \"order\": 22}, {\"cast_id\": 34, \"character\": \"Mourner\", \"credit_id\": \"57a52da0c3a368615a007220\", \"gender\": 0, \"id\": 64445, \"name\": \"Elisa Gabrielli\", \"order\": 23}, {\"cast_id\": 35, \"character\": \"Shannen Doherty\", \"credit_id\": \"57a52db892514131a700197e\", \"gender\": 1, \"id\": 19144, \"name\": \"Shannen Doherty\", \"order\": 24}, {\"cast_id\": 36, \"character\": \"Morgan Fairchild\", \"credit_id\": \"57a52dc4c3a36866d9007297\", \"gender\": 1, \"id\": 14990, \"name\": \"Morgan Fairchild\", \"order\": 25}, {\"cast_id\": 37, \"character\": \"Elliott Gould\", \"credit_id\": \"57a52dcd92514117650048d7\", \"gender\": 2, \"id\": 827, \"name\": \"Elliott Gould\", \"order\": 26}, {\"cast_id\": 38, \"character\": \"Mariel Hemingway\", \"credit_id\": \"57a52ddb92514110020025bc\", \"gender\": 1, \"id\": 10447, \"name\": \"Mariel Hemingway\", \"order\": 27}, {\"cast_id\": 39, \"character\": \"James Earl Jones\", \"credit_id\": \"57a52de6c3a3684917007894\", \"gender\": 0, \"id\": 15152, \"name\": \"James Earl Jones\", \"order\": 28}, {\"cast_id\": 40, \"character\": \"Raquel Welch\", \"credit_id\": \"57a52df6c3a368615a007262\", \"gender\": 1, \"id\": 21462, \"name\": \"Raquel Welch\", \"order\": 29}, {\"cast_id\": 41, \"character\": \"Oscar Guest in Birdcage Skirt\", \"credit_id\": \"57a52e03c3a368615a007271\", \"gender\": 0, \"id\": 1190129, \"name\": \"Symba\", \"order\": 30}]                                                                                                                                                                                                                                                                                                                                                                                                                                                                                                                                                                                                                                                                                                                                                                                                                                                                                                                                                                                                                                                                                                                                                                                                                                                                                                                                                                                                                                                                                                                                                                                                                                                                                                                                              1\n",
       "[{\"cast_id\": 1, \"character\": \"Calvin Cambridge\", \"credit_id\": \"52fe442fc3a368484e01451b\", \"gender\": 0, \"id\": 58197, \"name\": \"Shad Moss\", \"order\": 0}, {\"cast_id\": 2, \"character\": \"Tracey Reynolds\", \"credit_id\": \"52fe442fc3a368484e01451f\", \"gender\": 2, \"id\": 9779, \"name\": \"Morris Chestnut\", \"order\": 1}, {\"cast_id\": 3, \"character\": \"Murph\", \"credit_id\": \"52fe442fc3a368484e014523\", \"gender\": 2, \"id\": 67778, \"name\": \"Jonathan Lipnicki\", \"order\": 2}, {\"cast_id\": 4, \"character\": \"Reg Stevens\", \"credit_id\": \"52fe442fc3a368484e014527\", \"gender\": 1, \"id\": 88123, \"name\": \"Brenda Song\", \"order\": 3}, {\"cast_id\": 5, \"character\": \"Ox\", \"credit_id\": \"52fe442fc3a368484e01452b\", \"gender\": 2, \"id\": 88124, \"name\": \"Jesse Plemons\", \"order\": 4}, {\"cast_id\": 6, \"character\": \"Marlon\", \"credit_id\": \"52fe442fc3a368484e01452f\", \"gender\": 0, \"id\": 88125, \"name\": \"Julius Ritter\", \"order\": 5}, {\"cast_id\": 7, \"character\": \"Stan Bittleman\", \"credit_id\": \"52fe442fc3a368484e014533\", \"gender\": 2, \"id\": 1064, \"name\": \"Crispin Glover\", \"order\": 6}, {\"cast_id\": 8, \"character\": \"Sister Theresa\", \"credit_id\": \"52fe442fc3a368484e014537\", \"gender\": 1, \"id\": 32394, \"name\": \"Anne Meara\", \"order\": 7}, {\"cast_id\": 9, \"character\": \"Coach Wagner\", \"credit_id\": \"52fe442fc3a368484e01453b\", \"gender\": 2, \"id\": 5694, \"name\": \"Robert Forster\", \"order\": 8}, {\"cast_id\": 10, \"character\": \"Frank Bernard\", \"credit_id\": \"52fe442fc3a368484e01453f\", \"gender\": 2, \"id\": 26510, \"name\": \"Eugene Levy\", \"order\": 9}, {\"cast_id\": 11, \"character\": \"Marvin Joad\", \"credit_id\": \"52fe442fc3a368484e014543\", \"gender\": 0, \"id\": 88126, \"name\": \"Roger Morrissey\", \"order\": 10}, {\"cast_id\": 12, \"character\": \"Henderson\", \"credit_id\": \"52fe442fc3a368484e014547\", \"gender\": 0, \"id\": 88127, \"name\": \"Timon Kyle\", \"order\": 11}, {\"cast_id\": 34, \"character\": \"Jones\", \"credit_id\": \"59bcb148c3a3681b580083ae\", \"gender\": 0, \"id\": 1653176, \"name\": \"David Brown\", \"order\": 12}]                                                                                                                                                                                                                                                                                                                                                                                                                                                                                                                                                                                                                                                                                                                                                                                                                                                                                                                                                                                                                                                                                                                                                                                                                                                                                                                                                                                                                                                                                                                                                                                                                                                                                                                                                                                                                                                                                                                                                                                                                                                                                                                                                                                                                                                                                                                                                                                                                                                                                                                                                                                                                                                                                                                                                                                                                                                                                                                                                                                                                                                                                                                                                                                                                                                                                                                                                                                                                                                                                                                                                                                                                                                                                                                                                                                                                                                                                                                                                                                                                                                                                                                                                                                                                                                                                                                                                                                                                                                                                                                                                                                                                                             1\n",
       "[{\"cast_id\": 4, \"character\": \"Captain James T. Kirk\", \"credit_id\": \"52fe4222c3a36847f8006975\", \"gender\": 2, \"id\": 1748, \"name\": \"William Shatner\", \"order\": 0}, {\"cast_id\": 5, \"character\": \"Captain Spock\", \"credit_id\": \"52fe4222c3a36847f8006979\", \"gender\": 2, \"id\": 1749, \"name\": \"Leonard Nimoy\", \"order\": 1}, {\"cast_id\": 6, \"character\": \"Dr. Leonard McCoy\", \"credit_id\": \"52fe4222c3a36847f800697d\", \"gender\": 0, \"id\": 1750, \"name\": \"DeForest Kelley\", \"order\": 2}, {\"cast_id\": 7, \"character\": \"Montgomery Scott\", \"credit_id\": \"52fe4222c3a36847f8006981\", \"gender\": 2, \"id\": 1751, \"name\": \"James Doohan\", \"order\": 3}, {\"cast_id\": 8, \"character\": \"Cmdr. Hikaru Sulu\", \"credit_id\": \"52fe4222c3a36847f8006985\", \"gender\": 0, \"id\": 1752, \"name\": \"George Takei\", \"order\": 4}, {\"cast_id\": 10, \"character\": \"Cmdr. Pavel Chekov\", \"credit_id\": \"52fe4222c3a36847f800698d\", \"gender\": 2, \"id\": 1754, \"name\": \"Walter Koenig\", \"order\": 5}, {\"cast_id\": 9, \"character\": \"Cmdr. Uhura\", \"credit_id\": \"52fe4222c3a36847f8006989\", \"gender\": 1, \"id\": 1753, \"name\": \"Nichelle Nichols\", \"order\": 6}, {\"cast_id\": 11, \"character\": \"St. John Talbot\", \"credit_id\": \"52fe4222c3a36847f8006991\", \"gender\": 2, \"id\": 2076, \"name\": \"David Warner\", \"order\": 7}, {\"cast_id\": 12, \"character\": \"Sybok\", \"credit_id\": \"52fe4222c3a36847f8006995\", \"gender\": 2, \"id\": 2077, \"name\": \"Laurence Luckinbill\", \"order\": 8}, {\"cast_id\": 13, \"character\": \"Gen. Korrd\", \"credit_id\": \"52fe4222c3a36847f8006999\", \"gender\": 2, \"id\": 2078, \"name\": \"Charles Cooper\", \"order\": 9}, {\"cast_id\": 14, \"character\": \"Caithlin Dar\", \"credit_id\": \"52fe4222c3a36847f800699d\", \"gender\": 1, \"id\": 2079, \"name\": \"Cynthia Gouw\", \"order\": 10}, {\"cast_id\": 15, \"character\": \"Capt. Klaa\", \"credit_id\": \"52fe4222c3a36847f80069a1\", \"gender\": 2, \"id\": 2080, \"name\": \"Todd Bryant\", \"order\": 11}, {\"cast_id\": 16, \"character\": \"God\", \"credit_id\": \"52fe4222c3a36847f80069a5\", \"gender\": 2, \"id\": 2081, \"name\": \"George Murdock\", \"order\": 12}, {\"cast_id\": 23, \"character\": \"Young Sarek\", \"credit_id\": \"5510cdd69251415c32000756\", \"gender\": 0, \"id\": 1444735, \"name\": \"Jonathan Simpson\", \"order\": 13}]                                                                                                                                                                                                                                                                                                                                                                                                                                                                                                                                                                                                                                                                                                                                                                                                                                                                                                                                                                                                                                                                                                                                                                                                                                                                                                                                                                                                                                                                                                                                                                                                                                                                                                                                                                                                                                                                                                                                                                                                                                                                                                                                                                                                                                                                                                                                                                                                                                                                                                                                                                                                                                                                                                                                                                                                                                                                                                                                                                                                                                                                                                                                                                                                                                                                                                                                                                                                                                                                                                                                                                                                                                                                                                                                                                                                                                                                                                                                                                                                                                                                                                                                                                                                                                                                                                                                                                                                                                         1\n",
       "[{\"cast_id\": 3, \"character\": \"Herself\", \"credit_id\": \"52fe44e8c3a368484e03da91\", \"gender\": 1, \"id\": 69597, \"name\": \"Drew Barrymore\", \"order\": 0}, {\"cast_id\": 5, \"character\": \"Himself\", \"credit_id\": \"58ce01169251415a3901648f\", \"gender\": 2, \"id\": 85563, \"name\": \"Brian Herzlinger\", \"order\": 1}, {\"cast_id\": 6, \"character\": \"Himself\", \"credit_id\": \"58ce01339251415a410167f0\", \"gender\": 2, \"id\": 3034, \"name\": \"Corey Feldman\", \"order\": 2}, {\"cast_id\": 8, \"character\": \"Himself\", \"credit_id\": \"58ce018c9251415a7d016e36\", \"gender\": 2, \"id\": 21315, \"name\": \"Eric Roberts\", \"order\": 3}, {\"cast_id\": 9, \"character\": \"Himself\", \"credit_id\": \"58ce01b99251415a7d016e7d\", \"gender\": 0, \"id\": 2171, \"name\": \"Griffin Dunne\", \"order\": 4}, {\"cast_id\": 10, \"character\": \"Himself\", \"credit_id\": \"58ce01d19251415a8b0168be\", \"gender\": 2, \"id\": 2231, \"name\": \"Samuel L. Jackson\", \"order\": 5}, {\"cast_id\": 11, \"character\": \"Himself\", \"credit_id\": \"58ce01dd9251415a39016580\", \"gender\": 2, \"id\": 14407, \"name\": \"Matt LeBlanc\", \"order\": 6}, {\"cast_id\": 7, \"character\": \"Himself\", \"credit_id\": \"58ce0164c3a3685104015b28\", \"gender\": 2, \"id\": 155007, \"name\": \"Bill D'Elia\", \"order\": 7}]                                                                                                                                                                                                                                                                                                                                                                                                                                                                                                                                                                                                                                                                                                                                                                                                                                                                                                                                                                                                                                                                                                                                                                                                                                                                                                                                                                                                                                                                                                                                                                                                                                                                                                                                                                                                                                                                                                                                                                                                                                                                                                                                                                                                                                                                                                                                                                                                                                                                                                                                                                                                                                                                                                                                                                                                                                                                                                                                                                                                                                                                                                                                                                                                                                                                                                                                                                                                                                                                                                                                                                                                                                                                                                                                                                                                                                                                                                                                                                                                                                                                                                                                                                                                                                                                                                                                                                                                                                                                                                                                                                                                                                                                                                                                                                                                                                                                                                                                                                                                                                                                                                                                                                                                                                                                                                                                                                                                                                   1\n",
       "Name: count, Length: 4759, dtype: int64"
      ]
     },
     "execution_count": 215,
     "metadata": {},
     "output_type": "execute_result"
    }
   ],
   "source": [
    "movies['cast'].value_counts()"
   ]
  },
  {
   "cell_type": "code",
   "execution_count": 216,
   "id": "c120427f-51d2-4d4d-a4ec-7b30d0c9fcde",
   "metadata": {},
   "outputs": [],
   "source": [
    "def convert3(obj):\n",
    "    l=[]\n",
    "    counter = 0\n",
    "    for i in ast.literal_eval(obj):\n",
    "        if counter != 3:\n",
    "            l.append(i['name'])\n",
    "            counter+=1\n",
    "        else:\n",
    "           break\n",
    "\n",
    "    return l"
   ]
  },
  {
   "cell_type": "code",
   "execution_count": 217,
   "id": "7737ddcf-08dc-41b3-b9a6-49cfb47b8bec",
   "metadata": {},
   "outputs": [
    {
     "name": "stderr",
     "output_type": "stream",
     "text": [
      "C:\\Users\\shubh\\AppData\\Local\\Temp\\ipykernel_13272\\3435029588.py:1: SettingWithCopyWarning: \n",
      "A value is trying to be set on a copy of a slice from a DataFrame.\n",
      "Try using .loc[row_indexer,col_indexer] = value instead\n",
      "\n",
      "See the caveats in the documentation: https://pandas.pydata.org/pandas-docs/stable/user_guide/indexing.html#returning-a-view-versus-a-copy\n",
      "  movies['cast']  = movies['cast'].apply(convert3)\n"
     ]
    }
   ],
   "source": [
    "movies['cast']  = movies['cast'].apply(convert3)"
   ]
  },
  {
   "cell_type": "code",
   "execution_count": 218,
   "id": "6610be83-3dc6-4c88-be8b-0ce41d62947f",
   "metadata": {},
   "outputs": [
    {
     "data": {
      "text/plain": [
       "0        [Sam Worthington, Zoe Saldana, Sigourney Weaver]\n",
       "1           [Johnny Depp, Orlando Bloom, Keira Knightley]\n",
       "2            [Daniel Craig, Christoph Waltz, Léa Seydoux]\n",
       "3            [Christian Bale, Michael Caine, Gary Oldman]\n",
       "4          [Taylor Kitsch, Lynn Collins, Samantha Morton]\n",
       "                              ...                        \n",
       "4804    [Carlos Gallardo, Jaime de Hoyos, Peter Marqua...\n",
       "4805         [Edward Burns, Kerry Bishé, Marsha Dietlein]\n",
       "4806           [Eric Mabius, Kristin Booth, Crystal Lowe]\n",
       "4807            [Daniel Henney, Eliza Coupe, Bill Paxton]\n",
       "4808    [Drew Barrymore, Brian Herzlinger, Corey Feldman]\n",
       "Name: cast, Length: 4806, dtype: object"
      ]
     },
     "execution_count": 218,
     "metadata": {},
     "output_type": "execute_result"
    }
   ],
   "source": [
    "movies['cast']"
   ]
  },
  {
   "cell_type": "code",
   "execution_count": 219,
   "id": "4105c9b7-4525-426f-8c08-c6e58df925be",
   "metadata": {},
   "outputs": [
    {
     "data": {
      "text/plain": [
       "crew\n",
       "[]                                                                                                                                                                                                                                                                                                                                                                                                                                                                                                                                                                                                                                                                                                                                                                                                                                                                                                                                                                                                                                                                                                                                                                                                                                                                                                                                                                                                                                                                                                                                                                                                                                                                                                                                                                                                                                                                                                                                                                                                                                                                                                                                                                                                                                                                                                                                                                                                                                                                                                                                                                                                                                                                                                                                                                                                                                                                                                                                                                                                                                                                                                                                                                                                                                                                                                                                                                                                                                                                                                                                                                                                                                                                                                                                                                                                                                                                                                                                                                                                                                                                                                                                                                                                                                                                                                                                                                                                                                                                                                                                                                                                                                                                                                                                                                                                                                                                                                                                                                                                                                                                                                                                                                                                                                                                                                                                                                                                                                                                                                                                                                                                                                                                                                                                                                                                                                                                                                                                                                                                                                                                                                                                                                                                                                                                                                                                                                                                                                                                                                                                    28\n",
       "[{\"credit_id\": \"52fe487bc3a368484e0fa919\", \"department\": \"Production\", \"gender\": 2, \"id\": 3498, \"job\": \"Executive Producer\", \"name\": \"Bill Johnson\"}, {\"credit_id\": \"52fe487bc3a368484e0fa923\", \"department\": \"Production\", \"gender\": 1, \"id\": 6044, \"job\": \"Casting\", \"name\": \"Mindy Marin\"}, {\"credit_id\": \"52fe487bc3a368484e0fa8e7\", \"department\": \"Production\", \"gender\": 2, \"id\": 6468, \"job\": \"Producer\", \"name\": \"Nick Wechsler\"}, {\"credit_id\": \"52fe487bc3a368484e0fa90f\", \"department\": \"Writing\", \"gender\": 2, \"id\": 8685, \"job\": \"Screenplay\", \"name\": \"Andrew Niccol\"}, {\"credit_id\": \"52fe487bc3a368484e0fa8bd\", \"department\": \"Directing\", \"gender\": 2, \"id\": 8685, \"job\": \"Director\", \"name\": \"Andrew Niccol\"}, {\"credit_id\": \"52fe487bc3a368484e0fa935\", \"department\": \"Sound\", \"gender\": 2, \"id\": 8576, \"job\": \"Music\", \"name\": \"Antonio Pinto\"}, {\"credit_id\": \"58c9c82bc3a36841b6000136\", \"department\": \"Camera\", \"gender\": 2, \"id\": 13000, \"job\": \"Director of Photography\", \"name\": \"Roberto Schaefer\"}, {\"credit_id\": \"52fe487bc3a368484e0fa8c9\", \"department\": \"Production\", \"gender\": 2, \"id\": 20567, \"job\": \"Executive Producer\", \"name\": \"Marc Butan\"}, {\"credit_id\": \"52fe487bc3a368484e0fa8cf\", \"department\": \"Production\", \"gender\": 0, \"id\": 56856, \"job\": \"Producer\", \"name\": \"Stephenie Meyer\"}, {\"credit_id\": \"52fe487bc3a368484e0fa909\", \"department\": \"Writing\", \"gender\": 0, \"id\": 56856, \"job\": \"Novel\", \"name\": \"Stephenie Meyer\"}, {\"credit_id\": \"52fe487bc3a368484e0fa8e1\", \"department\": \"Production\", \"gender\": 2, \"id\": 62238, \"job\": \"Executive Producer\", \"name\": \"Jim Seibel\"}, {\"credit_id\": \"52fe487bc3a368484e0fa8c3\", \"department\": \"Production\", \"gender\": 2, \"id\": 71556, \"job\": \"Executive Producer\", \"name\": \"Ray Angelic\"}, {\"credit_id\": \"52fe487bc3a368484e0fa9a3\", \"department\": \"Costume & Make-Up\", \"gender\": 1, \"id\": 406204, \"job\": \"Makeup Department Head\", \"name\": \"Ve Neill\"}, {\"credit_id\": \"52fe487bc3a368484e0fa8d5\", \"department\": \"Production\", \"gender\": 0, \"id\": 566958, \"job\": \"Producer\", \"name\": \"Paula Mae Schwartz\"}, {\"credit_id\": \"52fe487bc3a368484e0fa8db\", \"department\": \"Production\", \"gender\": 0, \"id\": 566962, \"job\": \"Producer\", \"name\": \"Steve Schwartz\"}, {\"credit_id\": \"5526d4e79251417165002568\", \"department\": \"Art\", \"gender\": 1, \"id\": 963843, \"job\": \"Art Direction\", \"name\": \"Priscilla Elliott\"}, {\"credit_id\": \"553fd52bc3a3683c74000066\", \"department\": \"Visual Effects\", \"gender\": 2, \"id\": 1119658, \"job\": \"VFX Artist\", \"name\": \"Harold Parker\"}, {\"credit_id\": \"52fe487bc3a368484e0fa929\", \"department\": \"Costume & Make-Up\", \"gender\": 1, \"id\": 1193620, \"job\": \"Costume Design\", \"name\": \"Erin Benach\"}, {\"credit_id\": \"5723e6d1c3a3681347000f47\", \"department\": \"Costume & Make-Up\", \"gender\": 0, \"id\": 1304298, \"job\": \"Makeup Artist\", \"name\": \"Melanie Deforrest\"}]                                                                                                                                                                                                                                                                                                                                                                                                                                                                                                                                                                                                                                                                                                                                                                                                                                                                                                                                                                                                                                                                                                                                                                                                                                                                                                                                                                                                                                                                                                                                                                                                                                                                                                                                                                                                                                                                                                                                                                                                                                                                                                                                                                                                                                                                                                                                                                                                                                                                                                                                                                                                                                                                                                                                                                                                                                                                                                                                                                                                                                                                                                                                                                                                                                                                                                                                                                                                                                                                                                                                                                                                                                                     2\n",
       "[{\"credit_id\": \"52fe42eac3a36847f802ca6b\", \"department\": \"Art\", \"gender\": 0, \"id\": 10109, \"job\": \"Production Design\", \"name\": \"Seong-hie Ryu\"}, {\"credit_id\": \"52fe42eac3a36847f802ca27\", \"department\": \"Directing\", \"gender\": 2, \"id\": 21684, \"job\": \"Director\", \"name\": \"Bong Joon-ho\"}, {\"credit_id\": \"52fe42eac3a36847f802ca47\", \"department\": \"Writing\", \"gender\": 2, \"id\": 21684, \"job\": \"Screenplay\", \"name\": \"Bong Joon-ho\"}, {\"credit_id\": \"52fe42eac3a36847f802ca2d\", \"department\": \"Writing\", \"gender\": 0, \"id\": 21685, \"job\": \"Screenplay\", \"name\": \"Chul-hyun Baek\"}, {\"credit_id\": \"52fe42eac3a36847f802ca4d\", \"department\": \"Production\", \"gender\": 0, \"id\": 16281, \"job\": \"Producer\", \"name\": \"Choi Yong-bae\"}, {\"credit_id\": \"52fe42eac3a36847f802ca53\", \"department\": \"Sound\", \"gender\": 0, \"id\": 21690, \"job\": \"Original Music Composer\", \"name\": \"Byungwoo Lee\"}, {\"credit_id\": \"52fe42eac3a36847f802ca59\", \"department\": \"Camera\", \"gender\": 2, \"id\": 17133, \"job\": \"Director of Photography\", \"name\": \"Kim Hyung-ku\"}, {\"credit_id\": \"590264e8c3a36840be00431d\", \"department\": \"Editing\", \"gender\": 0, \"id\": 69388, \"job\": \"Editor\", \"name\": \"Kim Sun-min\"}, {\"credit_id\": \"568f0167c3a36858f9003f5b\", \"department\": \"Production\", \"gender\": 0, \"id\": 1531380, \"job\": \"Producer\", \"name\": \"Junyoung Jang\"}, {\"credit_id\": \"56394955c3a3681b5e01f343\", \"department\": \"Production\", \"gender\": 0, \"id\": 1531380, \"job\": \"Co-Producer\", \"name\": \"Junyoung Jang\"}]                                                                                                                                                                                                                                                                                                                                                                                                                                                                                                                                                                                                                                                                                                                                                                                                                                                                                                                                                                                                                                                                                                                                                                                                                                                                                                                                                                                                                                                                                                                                                                                                                                                                                                                                                                                                                                                                                                                                                                                                                                                                                                                                                                                                                                                                                                                                                                                                                                                                                                                                                                                                                                                                                                                                                                                                                                                                                                                                                                                                                                                                                                                                                                                                                                                                                                                                                                                                                                                                                                                                                                                                                                                                                                                                                                                                                                                                                                                                                                                                                                                                                                                                                                                                                                                                                                                                                                                                                                                                                                                                                                                                                                                                                                                                                                                                                                                                                                                                                                                                                                                    2\n",
       "[{\"credit_id\": \"52fe43c19251416c7501cceb\", \"department\": \"Art\", \"gender\": 2, \"id\": 1317, \"job\": \"Production Design\", \"name\": \"Philip Ivey\"}, {\"credit_id\": \"52fe43c09251416c7501ccbb\", \"department\": \"Production\", \"gender\": 2, \"id\": 65595, \"job\": \"Producer\", \"name\": \"Timothy White\"}, {\"credit_id\": \"52fe43c09251416c7501ccc1\", \"department\": \"Writing\", \"gender\": 0, \"id\": 67107, \"job\": \"Author\", \"name\": \"Bill O'Brien\"}, {\"credit_id\": \"52fe43c19251416c7501ccc7\", \"department\": \"Directing\", \"gender\": 2, \"id\": 67106, \"job\": \"Director\", \"name\": \"Robert Sarkies\"}, {\"credit_id\": \"52fe43c19251416c7501cd5f\", \"department\": \"Writing\", \"gender\": 2, \"id\": 67106, \"job\": \"Author\", \"name\": \"Robert Sarkies\"}, {\"credit_id\": \"52fe43c19251416c7501cccd\", \"department\": \"Production\", \"gender\": 0, \"id\": 67110, \"job\": \"Producer\", \"name\": \"Steven O'Meagher\"}, {\"credit_id\": \"52fe43c19251416c7501ccd3\", \"department\": \"Production\", \"gender\": 2, \"id\": 67111, \"job\": \"Producer\", \"name\": \"Tim White\"}, {\"credit_id\": \"52fe43c19251416c7501ccd9\", \"department\": \"Writing\", \"gender\": 0, \"id\": 67109, \"job\": \"Author\", \"name\": \"Graeme Tetley\"}, {\"credit_id\": \"52fe43c19251416c7501ccdf\", \"department\": \"Camera\", \"gender\": 0, \"id\": 67113, \"job\": \"Director of Photography\", \"name\": \"Greig Fraser\"}, {\"credit_id\": \"52fe43c19251416c7501cce5\", \"department\": \"Sound\", \"gender\": 1, \"id\": 67112, \"job\": \"Original Music Composer\", \"name\": \"Victoria Kelly\"}, {\"credit_id\": \"52fe43c19251416c7501ccf1\", \"department\": \"Art\", \"gender\": 0, \"id\": 67114, \"job\": \"Art Direction\", \"name\": \"David Kolff\"}, {\"credit_id\": \"52fe43c19251416c7501ccfb\", \"department\": \"Costume & Make-Up\", \"gender\": 0, \"id\": 67116, \"job\": \"Costume Design\", \"name\": \"Lesley Burkes-Harding\"}, {\"credit_id\": \"52fe43c19251416c7501cd01\", \"department\": \"Art\", \"gender\": 0, \"id\": 67115, \"job\": \"Art Direction\", \"name\": \"Ken Turner\"}, {\"credit_id\": \"52fe43c19251416c7501cd07\", \"department\": \"Editing\", \"gender\": 0, \"id\": 67118, \"job\": \"Editor\", \"name\": \"Annie Collins\"}, {\"credit_id\": \"52fe43c19251416c7501cd0d\", \"department\": \"Production\", \"gender\": 0, \"id\": 67117, \"job\": \"Casting\", \"name\": \"Rachael Bullock\"}, {\"credit_id\": \"5881eb6b925141303400bca8\", \"department\": \"Crew\", \"gender\": 0, \"id\": 1079558, \"job\": \"Stunt Coordinator\", \"name\": \"Augie Davis\"}]                                                                                                                                                                                                                                                                                                                                                                                                                                                                                                                                                                                                                                                                                                                                                                                                                                                                                                                                                                                                                                                                                                                                                                                                                                                                                                                                                                                                                                                                                                                                                                                                                                                                                                                                                                                                                                                                                                                                                                                                                                                                                                                                                                                                                                                                                                                                                                                                                                                                                                                                                                                                                                                                                                                                                                                                                                                                                                                                                                                                                                                                                                                                                                                                                                                                                                                                                                                                                                                                                                                                                                                                                                                                                                                                                                                                                                                                                                                                                                                                                                                                                                                                                                        2\n",
       "[{\"credit_id\": \"52fe47099251416c9106826f\", \"department\": \"Directing\", \"gender\": 2, \"id\": 2778, \"job\": \"Director\", \"name\": \"Dennis Hopper\"}, {\"credit_id\": \"5691ef9192514115c2000c5e\", \"department\": \"Writing\", \"gender\": 2, \"id\": 2778, \"job\": \"Writer\", \"name\": \"Dennis Hopper\"}, {\"credit_id\": \"5691efc8c3a3684cff000d66\", \"department\": \"Production\", \"gender\": 2, \"id\": 8955, \"job\": \"Executive Producer\", \"name\": \"Paul Lewis\"}, {\"credit_id\": \"5691f02992514115ce000de8\", \"department\": \"Art\", \"gender\": 2, \"id\": 9823, \"job\": \"Set Decoration\", \"name\": \"Peter Young\"}, {\"credit_id\": \"5691f03292514115c8000dbc\", \"department\": \"Costume & Make-Up\", \"gender\": 0, \"id\": 16550, \"job\": \"Hairstylist\", \"name\": \"Salli Bailey\"}, {\"credit_id\": \"5691f04c92514115ce000def\", \"department\": \"Costume & Make-Up\", \"gender\": 0, \"id\": 16550, \"job\": \"Makeup Artist\", \"name\": \"Salli Bailey\"}, {\"credit_id\": \"5691f00bc3a3684d04000db4\", \"department\": \"Art\", \"gender\": 0, \"id\": 32772, \"job\": \"Production Design\", \"name\": \"Leon Ericksen\"}, {\"credit_id\": \"5691f056c3a3684cf6000d57\", \"department\": \"Directing\", \"gender\": 2, \"id\": 1121654, \"job\": \"Assistant Director\", \"name\": \"Jacques Hubert\"}, {\"credit_id\": \"5691efefc3a3684d04000da9\", \"department\": \"Camera\", \"gender\": 0, \"id\": 1377622, \"job\": \"Director of Photography\", \"name\": \"Marc Champion\"}, {\"credit_id\": \"5691efe3c3a3684cf6000d46\", \"department\": \"Sound\", \"gender\": 0, \"id\": 1379159, \"job\": \"Original Music Composer\", \"name\": \"Tom Lavin\"}, {\"credit_id\": \"5691efb692514115c8000da1\", \"department\": \"Production\", \"gender\": 0, \"id\": 1394644, \"job\": \"Producer\", \"name\": \"Jean Gontier\"}, {\"credit_id\": \"5691f000c3a3684cff000d75\", \"department\": \"Production\", \"gender\": 1, \"id\": 1397151, \"job\": \"Casting\", \"name\": \"Lindsay Walker\"}, {\"credit_id\": \"5691ef80c3a3684d08000d86\", \"department\": \"Writing\", \"gender\": 0, \"id\": 1561092, \"job\": \"Writer\", \"name\": \"Leonard Yakir\"}, {\"credit_id\": \"5691efd992514115ce000ddc\", \"department\": \"Production\", \"gender\": 0, \"id\": 1561092, \"job\": \"Producer\", \"name\": \"Leonard Yakir\"}, {\"credit_id\": \"5691ef89c3a3684d0b000c21\", \"department\": \"Writing\", \"gender\": 0, \"id\": 1561093, \"job\": \"Writer\", \"name\": \"Brenda Nielson\"}, {\"credit_id\": \"5691efa6c3a3684cff000d5e\", \"department\": \"Writing\", \"gender\": 0, \"id\": 1561094, \"job\": \"Writer\", \"name\": \"Gary Jules Jouvenat\"}, {\"credit_id\": \"5691efbe92514115bf000cef\", \"department\": \"Production\", \"gender\": 0, \"id\": 1561094, \"job\": \"Producer\", \"name\": \"Gary Jules Jouvenat\"}, {\"credit_id\": \"5691efd192514115bf000cf4\", \"department\": \"Production\", \"gender\": 0, \"id\": 1561095, \"job\": \"Associate Producer\", \"name\": \"Aaron Sadovnick\"}, {\"credit_id\": \"5691eff7c3a3684cff000d70\", \"department\": \"Editing\", \"gender\": 0, \"id\": 1561096, \"job\": \"Editor\", \"name\": \"Doris Dyck\"}, {\"credit_id\": \"5691f013c3a3684d04000db8\", \"department\": \"Art\", \"gender\": 0, \"id\": 1561097, \"job\": \"Art Direction\", \"name\": \"David Hiscox\"}]                                                                                                                                                                                                                                                                                                                                                                                                                                                                                                                                                                                                                                                                                                                                                                                                                                                                                                                                                                                                                                                                                                                                                                                                                                                                                                                                                                                                                                                                                                                                                                                                                                                                                                                                                                                                                                                                                                                                                                                                                                                                                                                                                                                                                                                                                                                                                                                                                                                                                                                                                                                                                                                                                                                                                                                                                                                                                                                                                                                                                                                                                                                                                                                                                                                                                                                                                                                                                                                                                                                                2\n",
       "                                                                                                                                                                                                                                                                                                                                                                                                                                                                                                                                                                                                                                                                                                                                                                                                                                                                                                                                                                                                                                                                                                                                                                                                                                                                                                                                                                                                                                                                                                                                                                                                                                                                                                                                                                                                                                                                                                                                                                                                                                                                                                                                                                                                                                                                                                                                                                                                                                                                                                                                                                                                                                                                                                                                                                                                                                                                                                                                                                                                                                                                                                                                                                                                                                                                                                                                                                                                                                                                                                                                                                                                                                                                                                                                                                                                                                                                                                                                                                                                                                                                                                                                                                                                                                                                                                                                                                                                                                                                                                                                                                                                                                                                                                                                                                                                                                                                                                                                                                                                                                                                                                                                                                                                                                                                                                                                                                                                                                                                                                                                                                                                                                                                                                                                                                                                                                                                                                                                                                                                                                                                                                                                                                                                                                                                                                                                                                                                                                                                                                                                      ..\n",
       "[{\"credit_id\": \"575ca5e89251412b68000667\", \"department\": \"Sound\", \"gender\": 2, \"id\": 947, \"job\": \"Original Music Composer\", \"name\": \"Hans Zimmer\"}, {\"credit_id\": \"52fe43adc3a36847f8066ff9\", \"department\": \"Directing\", \"gender\": 2, \"id\": 578, \"job\": \"Director\", \"name\": \"Ridley Scott\"}, {\"credit_id\": \"575ca68cc3a36831a4000e00\", \"department\": \"Art\", \"gender\": 2, \"id\": 796, \"job\": \"Set Decoration\", \"name\": \"John M. Dwyer\"}, {\"credit_id\": \"575ca6529251415dd2000158\", \"department\": \"Editing\", \"gender\": 2, \"id\": 1047, \"job\": \"Editor\", \"name\": \"Tom Rolf\"}, {\"credit_id\": \"52fe43adc3a36847f8067023\", \"department\": \"Production\", \"gender\": 1, \"id\": 1221, \"job\": \"Casting\", \"name\": \"Dianne Crittenden\"}, {\"credit_id\": \"575ca66ec3a3685e030014fd\", \"department\": \"Art\", \"gender\": 2, \"id\": 2083, \"job\": \"Art Direction\", \"name\": \"Herman F. Zimmerman\"}, {\"credit_id\": \"52fe43adc3a36847f8067037\", \"department\": \"Camera\", \"gender\": 2, \"id\": 2209, \"job\": \"Director of Photography\", \"name\": \"Jan de Bont\"}, {\"credit_id\": \"575ca668c3a3683118000d90\", \"department\": \"Art\", \"gender\": 2, \"id\": 2999, \"job\": \"Art Direction\", \"name\": \"John Jay Moore\"}, {\"credit_id\": \"575ca6a09251412b0c00069e\", \"department\": \"Costume & Make-Up\", \"gender\": 1, \"id\": 7735, \"job\": \"Costume Design\", \"name\": \"Ellen Mirojnick\"}, {\"credit_id\": \"575ca686c3a3685e03001507\", \"department\": \"Art\", \"gender\": 0, \"id\": 4188, \"job\": \"Set Decoration\", \"name\": \"Leslie Bloom\"}, {\"credit_id\": \"575ca693925141786f000c4f\", \"department\": \"Art\", \"gender\": 2, \"id\": 14342, \"job\": \"Set Decoration\", \"name\": \"Richard C. Goddard\"}, {\"credit_id\": \"52fe43adc3a36847f8067029\", \"department\": \"Art\", \"gender\": 2, \"id\": 17400, \"job\": \"Production Design\", \"name\": \"Norris Spencer\"}, {\"credit_id\": \"590355e6c3a368286600abf5\", \"department\": \"Production\", \"gender\": 2, \"id\": 17630, \"job\": \"Unit Production Manager\", \"name\": \"Michael Tadross\"}, {\"credit_id\": \"575ca6999251417835000ced\", \"department\": \"Art\", \"gender\": 2, \"id\": 17877, \"job\": \"Set Decoration\", \"name\": \"Alan Hicks\"}, {\"credit_id\": \"52fe43adc3a36847f8066ff3\", \"department\": \"Writing\", \"gender\": 2, \"id\": 19893, \"job\": \"Author\", \"name\": \"Warren Lewis\"}, {\"credit_id\": \"52fe43adc3a36847f8066fed\", \"department\": \"Writing\", \"gender\": 2, \"id\": 34692, \"job\": \"Author\", \"name\": \"Craig Bolotin\"}, {\"credit_id\": \"52fe43adc3a36847f8066fff\", \"department\": \"Production\", \"gender\": 2, \"id\": 34692, \"job\": \"Executive Producer\", \"name\": \"Craig Bolotin\"}, {\"credit_id\": \"52fe43adc3a36847f8067005\", \"department\": \"Production\", \"gender\": 2, \"id\": 34693, \"job\": \"Producer\", \"name\": \"Stanley R. Jaffe\"}, {\"credit_id\": \"52fe43adc3a36847f806700b\", \"department\": \"Production\", \"gender\": 1, \"id\": 34694, \"job\": \"Executive Producer\", \"name\": \"Julie Kirkham\"}, {\"credit_id\": \"52fe43adc3a36847f8067011\", \"department\": \"Production\", \"gender\": 1, \"id\": 34695, \"job\": \"Producer\", \"name\": \"Sherry Lansing\"}, {\"credit_id\": \"52fe43adc3a36847f8067017\", \"department\": \"Production\", \"gender\": 0, \"id\": 34696, \"job\": \"Line Producer\", \"name\": \"Yosuke Mizuno\"}, {\"credit_id\": \"5903565ac3a368288b00ac11\", \"department\": \"Production\", \"gender\": 1, \"id\": 35491, \"job\": \"Casting Associate\", \"name\": \"Joy Dickson\"}, {\"credit_id\": \"59037369c3a3683b6000108d\", \"department\": \"Production\", \"gender\": 1, \"id\": 25830, \"job\": \"Casting Assistant\", \"name\": \"Debi Manwiller\"}, {\"credit_id\": \"575ca5d9925141786f000bed\", \"department\": \"Production\", \"gender\": 2, \"id\": 76160, \"job\": \"Unit Production Manager\", \"name\": \"Mel Dellar\"}, {\"credit_id\": \"5903753bc3a3683b9600147e\", \"department\": \"Crew\", \"gender\": 0, \"id\": 91042, \"job\": \"Pilot\", \"name\": \"Al Cerullo\"}, {\"credit_id\": \"5903556d9251413e3800ba46\", \"department\": \"Production\", \"gender\": 2, \"id\": 113225, \"job\": \"Associate Producer\", \"name\": \"Alan Poul\"}, {\"credit_id\": \"59037528c3a3683bfe001207\", \"department\": \"Production\", \"gender\": 0, \"id\": 553347, \"job\": \"Location Manager\", \"name\": \"Atsushi Takayama\"}, {\"credit_id\": \"5903755bc3a3683bfe001234\", \"department\": \"Directing\", \"gender\": 1, \"id\": 1262129, \"job\": \"Script Supervisor\", \"name\": \"Luca Kouimelis\"}, {\"credit_id\": \"590375f292514177f4001348\", \"department\": \"Crew\", \"gender\": 2, \"id\": 1278542, \"job\": \"Pilot\", \"name\": \"Robert 'Bobby Z' Zajonc\"}, {\"credit_id\": \"59037504c3a3683b850012a5\", \"department\": \"Production\", \"gender\": 0, \"id\": 1453320, \"job\": \"Location Manager\", \"name\": \"Eric Klosterman\"}, {\"credit_id\": \"590355d99251413e1500c459\", \"department\": \"Production\", \"gender\": 0, \"id\": 1551963, \"job\": \"Unit Production Manager\", \"name\": \"David Salven\"}, {\"credit_id\": \"590374e192514177ee00128a\", \"department\": \"Production\", \"gender\": 0, \"id\": 1645977, \"job\": \"Location Manager\", \"name\": \"Ken Haber\"}, {\"credit_id\": \"59037496c3a3683b85001254\", \"department\": \"Production\", \"gender\": 0, \"id\": 1685817, \"job\": \"Casting\", \"name\": \"Nobuaki Murooka\"}, {\"credit_id\": \"59035614c3a368291d00b749\", \"department\": \"Art\", \"gender\": 0, \"id\": 1691936, \"job\": \"Set Designer\", \"name\": \"James R. Bayliss\"}, {\"credit_id\": \"590355fe9251413e2100b9e8\", \"department\": \"Production\", \"gender\": 0, \"id\": 1782974, \"job\": \"Unit Production Manager\", \"name\": \"William Watkins\"}, {\"credit_id\": \"59035623c3a368289800b889\", \"department\": \"Art\", \"gender\": 0, \"id\": 1805997, \"job\": \"Set Designer\", \"name\": \"Alan S. Kaye\"}, {\"credit_id\": \"590356309251413e2100ba0d\", \"department\": \"Art\", \"gender\": 0, \"id\": 1805998, \"job\": \"Set Designer\", \"name\": \"Robert Maddy\"}, {\"credit_id\": \"590374b492514177fb001247\", \"department\": \"Production\", \"gender\": 0, \"id\": 1806126, \"job\": \"Location Manager\", \"name\": \"Robert Doyle\"}, {\"credit_id\": \"590374c7925141782100124f\", \"department\": \"Production\", \"gender\": 0, \"id\": 1806127, \"job\": \"Location Manager\", \"name\": \"Susumu Ejima\"}, {\"credit_id\": \"590374d392514177fb00125f\", \"department\": \"Production\", \"gender\": 0, \"id\": 1806128, \"job\": \"Location Manager\", \"name\": \"Kazuaki Enomoto\"}, {\"credit_id\": \"590374f0925141784400127b\", \"department\": \"Production\", \"gender\": 0, \"id\": 1806129, \"job\": \"Location Manager\", \"name\": \"Kenichi Horii\"}, {\"credit_id\": \"590375139251417844001296\", \"department\": \"Production\", \"gender\": 0, \"id\": 1806130, \"job\": \"Location Manager\", \"name\": \"Steven Shkolnik\"}, {\"credit_id\": \"5903754bc3a3683b600011a5\", \"department\": \"Art\", \"gender\": 2, \"id\": 1806132, \"job\": \"Title Designer\", \"name\": \"Anthony Goldschmidt\"}]     1\n",
       "[{\"credit_id\": \"52fe46269251416c9104acd1\", \"department\": \"Editing\", \"gender\": 2, \"id\": 1264, \"job\": \"Editor\", \"name\": \"Bill Pankow\"}, {\"credit_id\": \"52fe46269251416c9104acdd\", \"department\": \"Production\", \"gender\": 1, \"id\": 2242, \"job\": \"Casting\", \"name\": \"Ellen Lewis\"}, {\"credit_id\": \"52fe46259251416c9104ac9b\", \"department\": \"Production\", \"gender\": 1, \"id\": 6913, \"job\": \"Producer\", \"name\": \"Ellen Barkin\"}, {\"credit_id\": \"56a94021c3a36872e9001f1b\", \"department\": \"Art\", \"gender\": 0, \"id\": 5672, \"job\": \"Supervising Art Director\", \"name\": \"Stefano Maria Ortolani\"}, {\"credit_id\": \"52fe46269251416c9104acad\", \"department\": \"Production\", \"gender\": 1, \"id\": 6511, \"job\": \"Producer\", \"name\": \"Caroline Kaplan\"}, {\"credit_id\": \"52fe46269251416c9104acbf\", \"department\": \"Production\", \"gender\": 2, \"id\": 11696, \"job\": \"Producer\", \"name\": \"Patrick Wachsberger\"}, {\"credit_id\": \"52fe46269251416c9104ad13\", \"department\": \"Crew\", \"gender\": 0, \"id\": 15911, \"job\": \"Stunt Coordinator\", \"name\": \"Franco Maria Salamon\"}, {\"credit_id\": \"52fe46269251416c9104acc5\", \"department\": \"Sound\", \"gender\": 1, \"id\": 20648, \"job\": \"Original Music Composer\", \"name\": \"Andrea Guerra\"}, {\"credit_id\": \"52fe46259251416c9104ac6d\", \"department\": \"Directing\", \"gender\": 2, \"id\": 17046, \"job\": \"Director\", \"name\": \"Gary Winick\"}, {\"credit_id\": \"52fe46259251416c9104ac73\", \"department\": \"Writing\", \"gender\": 2, \"id\": 18492, \"job\": \"Screenplay\", \"name\": \"Jos\\u00e9 Rivera\"}, {\"credit_id\": \"52fe46259251416c9104ac79\", \"department\": \"Writing\", \"gender\": 2, \"id\": 20773, \"job\": \"Screenplay\", \"name\": \"Tim Sullivan\"}, {\"credit_id\": \"52fe46269251416c9104ace9\", \"department\": \"Art\", \"gender\": 0, \"id\": 21379, \"job\": \"Production Design\", \"name\": \"Stuart Wurtzel\"}, {\"credit_id\": \"52fe46269251416c9104acfb\", \"department\": \"Art\", \"gender\": 0, \"id\": 25063, \"job\": \"Set Decoration\", \"name\": \"Alessandra Querzola\"}, {\"credit_id\": \"52fe46269251416c9104aca1\", \"department\": \"Production\", \"gender\": 2, \"id\": 46088, \"job\": \"Producer\", \"name\": \"Mark Canton\"}, {\"credit_id\": \"52fe46269251416c9104accb\", \"department\": \"Camera\", \"gender\": 2, \"id\": 59984, \"job\": \"Director of Photography\", \"name\": \"Marco Pontecorvo\"}, {\"credit_id\": \"52fe46269251416c9104acb9\", \"department\": \"Production\", \"gender\": 2, \"id\": 63291, \"job\": \"Executive Producer\", \"name\": \"Ron Schmidt\"}, {\"credit_id\": \"52fe46269251416c9104aca7\", \"department\": \"Production\", \"gender\": 0, \"id\": 119176, \"job\": \"Producer\", \"name\": \"Eric Feig\"}, {\"credit_id\": \"52fe46269251416c9104acb3\", \"department\": \"Production\", \"gender\": 0, \"id\": 119177, \"job\": \"Line Producer\", \"name\": \"Marco Valerio Pugini\"}, {\"credit_id\": \"52fe46269251416c9104acd7\", \"department\": \"Production\", \"gender\": 0, \"id\": 119178, \"job\": \"Casting\", \"name\": \"B\\u00e9atrice Kruger\"}, {\"credit_id\": \"52fe46269251416c9104ace3\", \"department\": \"Production\", \"gender\": 1, \"id\": 119179, \"job\": \"Casting\", \"name\": \"Cindy Tolan\"}, {\"credit_id\": \"56a9405a9251417dd1001f27\", \"department\": \"Art\", \"gender\": 0, \"id\": 119180, \"job\": \"Art Direction\", \"name\": \"Saverio Sammali\"}, {\"credit_id\": \"52fe46269251416c9104ad01\", \"department\": \"Costume & Make-Up\", \"gender\": 0, \"id\": 119181, \"job\": \"Costume Design\", \"name\": \"Nicoletta Ercole\"}, {\"credit_id\": \"52fe46269251416c9104ad07\", \"department\": \"Costume & Make-Up\", \"gender\": 0, \"id\": 119182, \"job\": \"Makeup Artist\", \"name\": \"Carla Vicenzino\"}, {\"credit_id\": \"52fe46269251416c9104ad0d\", \"department\": \"Actors\", \"gender\": 0, \"id\": 119183, \"job\": \"Stunt Double\", \"name\": \"Giorgio Antonini\"}, {\"credit_id\": \"56a94079c3a36872d80020a0\", \"department\": \"Directing\", \"gender\": 0, \"id\": 1455279, \"job\": \"Script Supervisor\", \"name\": \"Charlotte Fontijn\"}]                                                                                                                                                                                                                                                                                                                                                                                                                                                                                                                                                                                                                                                                                                                                                                                                                                                                                                                                                                                                                                                                                                                                                                                                                                                                                                                                                                                                                                                                                                                                                                                                                                                                                                                                                                                                                                                                                                                                                                                                                                                                                                                                                                                                                                                                                                                                                                                                                                                                                                                                                                                                                                                                                                                                         1\n",
       "[{\"credit_id\": \"52fe43bbc3a36847f806b5a7\", \"department\": \"Production\", \"gender\": 1, \"id\": 474, \"job\": \"Casting\", \"name\": \"Jina Jay\"}, {\"credit_id\": \"52fe43bbc3a36847f806b57d\", \"department\": \"Production\", \"gender\": 2, \"id\": 2236, \"job\": \"Producer\", \"name\": \"Tim Bevan\"}, {\"credit_id\": \"52fe43bbc3a36847f806b58f\", \"department\": \"Production\", \"gender\": 2, \"id\": 2238, \"job\": \"Producer\", \"name\": \"Eric Fellner\"}, {\"credit_id\": \"52fe43bbc3a36847f806b59b\", \"department\": \"Camera\", \"gender\": 0, \"id\": 3285, \"job\": \"Director of Photography\", \"name\": \"Seamus McGarvey\"}, {\"credit_id\": \"52fe43bbc3a36847f806b595\", \"department\": \"Sound\", \"gender\": 0, \"id\": 11269, \"job\": \"Original Music Composer\", \"name\": \"Dario Marianelli\"}, {\"credit_id\": \"52fe43bbc3a36847f806b589\", \"department\": \"Writing\", \"gender\": 2, \"id\": 12952, \"job\": \"Screenplay\", \"name\": \"Christopher Hampton\"}, {\"credit_id\": \"52fe43bbc3a36847f806b577\", \"department\": \"Directing\", \"gender\": 2, \"id\": 36588, \"job\": \"Director\", \"name\": \"Joe Wright\"}, {\"credit_id\": \"52fe43bbc3a36847f806b583\", \"department\": \"Writing\", \"gender\": 2, \"id\": 36589, \"job\": \"Novel\", \"name\": \"Ian McEwan\"}, {\"credit_id\": \"52fe43bbc3a36847f806b5a1\", \"department\": \"Editing\", \"gender\": 2, \"id\": 36590, \"job\": \"Editor\", \"name\": \"Paul Tothill\"}, {\"credit_id\": \"52fe43bbc3a36847f806b5ad\", \"department\": \"Costume & Make-Up\", \"gender\": 1, \"id\": 36591, \"job\": \"Costume Design\", \"name\": \"Jacqueline Durran\"}, {\"credit_id\": \"56aa5002c3a36872cb006da2\", \"department\": \"Art\", \"gender\": 1, \"id\": 36656, \"job\": \"Production Design\", \"name\": \"Sarah Greenwood\"}, {\"credit_id\": \"56aa506ac3a36872cf007254\", \"department\": \"Art\", \"gender\": 0, \"id\": 36657, \"job\": \"Art Direction\", \"name\": \"Nick Gottschalk\"}, {\"credit_id\": \"56aa50cf92514159a5001c2f\", \"department\": \"Art\", \"gender\": 0, \"id\": 36658, \"job\": \"Set Decoration\", \"name\": \"Katie Spencer\"}, {\"credit_id\": \"56a973bec3a36872db002691\", \"department\": \"Crew\", \"gender\": 1, \"id\": 10882, \"job\": \"Thanks\", \"name\": \"Rosamund Pike\"}, {\"credit_id\": \"56aa555dc3a36872d8006dda\", \"department\": \"Crew\", \"gender\": 2, \"id\": 57569, \"job\": \"Stunt Coordinator\", \"name\": \"Lee Sheward\"}, {\"credit_id\": \"57af4e6e925141728c003548\", \"department\": \"Production\", \"gender\": 0, \"id\": 142097, \"job\": \"Production Accountant\", \"name\": \"Tarn Harper\"}, {\"credit_id\": \"56aa509c92514159a5001c29\", \"department\": \"Art\", \"gender\": 0, \"id\": 1027825, \"job\": \"Art Direction\", \"name\": \"Niall Moroney\"}, {\"credit_id\": \"56aa52799251410e2d0066c1\", \"department\": \"Production\", \"gender\": 0, \"id\": 1108835, \"job\": \"Casting\", \"name\": \"Dixie Chassay\"}, {\"credit_id\": \"56aa54cdc3a36872d8006dbc\", \"department\": \"Directing\", \"gender\": 2, \"id\": 1127893, \"job\": \"Assistant Director\", \"name\": \"Josh Robertson\"}, {\"credit_id\": \"56aa5033c3a36872d8006cee\", \"department\": \"Art\", \"gender\": 2, \"id\": 1173302, \"job\": \"Supervising Art Director\", \"name\": \"Ian Bailie\"}, {\"credit_id\": \"56b38d43c3a36806ec00258c\", \"department\": \"Camera\", \"gender\": 2, \"id\": 1229106, \"job\": \"Other\", \"name\": \"Terry Richards\"}, {\"credit_id\": \"572938dac3a36809050001b3\", \"department\": \"Sound\", \"gender\": 0, \"id\": 1343898, \"job\": \"Sound Re-Recording Mixer\", \"name\": \"Paul Hamblin\"}, {\"credit_id\": \"57d58794c3a368587200169a\", \"department\": \"Editing\", \"gender\": 0, \"id\": 1349076, \"job\": \"Color Timer\", \"name\": \"Adam Inglis\"}, {\"credit_id\": \"580e483cc3a368598c001932\", \"department\": \"Sound\", \"gender\": 0, \"id\": 1409764, \"job\": \"Supervising Sound Editor\", \"name\": \"Catherine Hodgson\"}, {\"credit_id\": \"56aa5485c3a36872db0066ac\", \"department\": \"Costume & Make-Up\", \"gender\": 0, \"id\": 1415951, \"job\": \"Makeup Artist\", \"name\": \"Norma Webb\"}, {\"credit_id\": \"58212dac9251413c93000b46\", \"department\": \"Editing\", \"gender\": 0, \"id\": 1416481, \"job\": \"Digital Intermediate\", \"name\": \"Marcus Alexander\"}, {\"credit_id\": \"56aa53b09251416fd8000eb0\", \"department\": \"Costume & Make-Up\", \"gender\": 0, \"id\": 1525892, \"job\": \"Hairstylist\", \"name\": \"Deborah Jarvis\"}, {\"credit_id\": \"56aa511a9251416fd8000e2e\", \"department\": \"Production\", \"gender\": 0, \"id\": 1539834, \"job\": \"Unit Manager\", \"name\": \"Erica Bensly\"}, {\"credit_id\": \"56aa52139251414dd30024d9\", \"department\": \"Production\", \"gender\": 0, \"id\": 1564277, \"job\": \"Executive In Charge Of Production\", \"name\": \"Michelle Wright\"}, {\"credit_id\": \"56aa51829251414dd30024c1\", \"department\": \"Production\", \"gender\": 0, \"id\": 1569472, \"job\": \"Production Manager\", \"name\": \"Simon Fraser\"}, {\"credit_id\": \"56aa51db9251414dd30024d1\", \"department\": \"Crew\", \"gender\": 1, \"id\": 1569473, \"job\": \"Post Production Supervisor\", \"name\": \"Deborah Harding\"}]                                                                                                                                                                                                                                                                                                                                                                                                                                                                                                                                                                                                                                                                                                                                                                                                                                                                                                                                                                                                                                                                                                                                                                                                                                                                                                                                                                                                                                                                                                                                                                                                                                                                                                                                                                                                              1\n",
       "[{\"credit_id\": \"52fe4451c3a36847f808ef7b\", \"department\": \"Sound\", \"gender\": 2, \"id\": 4140, \"job\": \"Original Music Composer\", \"name\": \"Mark Isham\"}, {\"credit_id\": \"52fe4451c3a36847f808ef81\", \"department\": \"Camera\", \"gender\": 0, \"id\": 28240, \"job\": \"Director of Photography\", \"name\": \"David Eggby\"}, {\"credit_id\": \"52fe4451c3a36847f808ef75\", \"department\": \"Production\", \"gender\": 2, \"id\": 47285, \"job\": \"Producer\", \"name\": \"Broderick Johnson\"}, {\"credit_id\": \"52fe4451c3a36847f808ef5d\", \"department\": \"Directing\", \"gender\": 2, \"id\": 50582, \"job\": \"Director\", \"name\": \"Frederik Du Chau\"}, {\"credit_id\": \"52fe4451c3a36847f808ef69\", \"department\": \"Writing\", \"gender\": 2, \"id\": 50582, \"job\": \"Author\", \"name\": \"Frederik Du Chau\"}, {\"credit_id\": \"52fe4451c3a36847f808ef6f\", \"department\": \"Writing\", \"gender\": 2, \"id\": 51700, \"job\": \"Screenplay\", \"name\": \"David Schmidt\"}, {\"credit_id\": \"52fe4451c3a36847f808ef63\", \"department\": \"Writing\", \"gender\": 2, \"id\": 51700, \"job\": \"Author\", \"name\": \"David Schmidt\"}, {\"credit_id\": \"52fe4451c3a36847f808ef87\", \"department\": \"Editing\", \"gender\": 2, \"id\": 51701, \"job\": \"Editor\", \"name\": \"Tom Finan\"}]                                                                                                                                                                                                                                                                                                                                                                                                                                                                                                                                                                                                                                                                                                                                                                                                                                                                                                                                                                                                                                                                                                                                                                                                                                                                                                                                                                                                                                                                                                                                                                                                                                                                                                                                                                                                                                                                                                                                                                                                                                                                                                                                                                                                                                                                                                                                                                                                                                                                                                                                                                                                                                                                                                                                                                                                                                                                                                                                                                                                                                                                                                                                                                                                                                                                                                                                                                                                                                                                                                                                                                                                                                                                                                                                                                                                                                                                                                                                                                                                                                                                                                                                                                                                                                                                                                                                                                                                                                                                                                                                                                                                                                                                                                                                                                                                                                                                                                                                                                                                                                                                                                                                                                                                                                                                                                                                                           1\n",
       "[{\"credit_id\": \"58ce021b9251415a390165d9\", \"department\": \"Production\", \"gender\": 2, \"id\": 6888, \"job\": \"Executive Producer\", \"name\": \"Clark Peterson\"}, {\"credit_id\": \"58ce0232c3a36850e90157da\", \"department\": \"Production\", \"gender\": 2, \"id\": 61051, \"job\": \"Executive Producer\", \"name\": \"Andrew Reimer\"}, {\"credit_id\": \"52fe44e8c3a368484e03da8d\", \"department\": \"Directing\", \"gender\": 2, \"id\": 85563, \"job\": \"Director\", \"name\": \"Brian Herzlinger\"}, {\"credit_id\": \"52fe44e8c3a368484e03da87\", \"department\": \"Directing\", \"gender\": 2, \"id\": 94471, \"job\": \"Director\", \"name\": \"Jon Gunn\"}, {\"credit_id\": \"52fe44e8c3a368484e03da97\", \"department\": \"Directing\", \"gender\": 0, \"id\": 997560, \"job\": \"Director\", \"name\": \"Brett Winn\"}]                                                                                                                                                                                                                                                                                                                                                                                                                                                                                                                                                                                                                                                                                                                                                                                                                                                                                                                                                                                                                                                                                                                                                                                                                                                                                                                                                                                                                                                                                                                                                                                                                                                                                                                                                                                                                                                                                                                                                                                                                                                                                                                                                                                                                                                                                                                                                                                                                                                                                                                                                                                                                                                                                                                                                                                                                                                                                                                                                                                                                                                                                                                                                                                                                                                                                                                                                                                                                                                                                                                                                                                                                                                                                                                                                                                                                                                                                                                                                                                                                                                                                                                                                                                                                                                                                                                                                                                                                                                                                                                                                                                                                                                                                                                                                                                                                                                                                                                                                                                                                                                                                                                                                                                                                                                                                                                                                                                                                                                                                                                                                                                                                                                                                                                                                                                         1\n",
       "Name: count, Length: 4773, dtype: int64"
      ]
     },
     "execution_count": 219,
     "metadata": {},
     "output_type": "execute_result"
    }
   ],
   "source": [
    "movies['crew'].value_counts()"
   ]
  },
  {
   "cell_type": "code",
   "execution_count": 220,
   "id": "c7720d5b-d22c-4ed7-9e61-33da015f6da4",
   "metadata": {},
   "outputs": [],
   "source": [
    "def crew(obj):\n",
    "    l=[]\n",
    "    for i in ast.literal_eval(obj):\n",
    "        if i['job']=='Director':\n",
    "            l.append(i['name'])\n",
    "            break\n",
    "    return l\n"
   ]
  },
  {
   "cell_type": "code",
   "execution_count": 221,
   "id": "ff693c9a-3971-4734-b0cc-213b7616bdb3",
   "metadata": {},
   "outputs": [
    {
     "name": "stderr",
     "output_type": "stream",
     "text": [
      "C:\\Users\\shubh\\AppData\\Local\\Temp\\ipykernel_13272\\3556144467.py:1: SettingWithCopyWarning: \n",
      "A value is trying to be set on a copy of a slice from a DataFrame.\n",
      "Try using .loc[row_indexer,col_indexer] = value instead\n",
      "\n",
      "See the caveats in the documentation: https://pandas.pydata.org/pandas-docs/stable/user_guide/indexing.html#returning-a-view-versus-a-copy\n",
      "  movies['crew'] = movies['crew'].apply(crew)\n"
     ]
    }
   ],
   "source": [
    "movies['crew'] = movies['crew'].apply(crew)  "
   ]
  },
  {
   "cell_type": "code",
   "execution_count": 222,
   "id": "eb5deedd-4432-46a2-b43d-57bde34464b8",
   "metadata": {},
   "outputs": [
    {
     "data": {
      "text/plain": [
       "crew\n",
       "[]                    30\n",
       "[Steven Spielberg]    27\n",
       "[Woody Allen]         21\n",
       "[Martin Scorsese]     20\n",
       "[Clint Eastwood]      20\n",
       "                      ..\n",
       "[Peter Care]           1\n",
       "[Paolo Sorrentino]     1\n",
       "[Jon Poll]             1\n",
       "[Antonia Bird]         1\n",
       "[Brian Herzlinger]     1\n",
       "Name: count, Length: 2347, dtype: int64"
      ]
     },
     "execution_count": 222,
     "metadata": {},
     "output_type": "execute_result"
    }
   ],
   "source": [
    "movies['crew'].value_counts()"
   ]
  },
  {
   "cell_type": "code",
   "execution_count": 223,
   "id": "3d0b6ef4-7517-4051-89af-2ffdee082cd4",
   "metadata": {},
   "outputs": [
    {
     "name": "stderr",
     "output_type": "stream",
     "text": [
      "C:\\Users\\shubh\\AppData\\Local\\Temp\\ipykernel_13272\\2345467146.py:1: SettingWithCopyWarning: \n",
      "A value is trying to be set on a copy of a slice from a DataFrame.\n",
      "Try using .loc[row_indexer,col_indexer] = value instead\n",
      "\n",
      "See the caveats in the documentation: https://pandas.pydata.org/pandas-docs/stable/user_guide/indexing.html#returning-a-view-versus-a-copy\n",
      "  movies['overview'] = movies['overview'].apply(lambda x: x.split())\n"
     ]
    }
   ],
   "source": [
    "movies['overview'] = movies['overview'].apply(lambda x: x.split())"
   ]
  },
  {
   "cell_type": "code",
   "execution_count": 224,
   "id": "c10afa74-1a2d-4f6e-9a0c-c1c4cc31b157",
   "metadata": {},
   "outputs": [
    {
     "data": {
      "text/plain": [
       "overview\n",
       "[The, Dynamic, Duo, faces, four, super-villains, who, plan, to, hold, the, world, for, ransom, with, the, help, of, a, secret, invention, that, instantly, dehydrates, people.]                                                                                                                                                                                                                                                                                                                                                                                                                                                                                                                                                              2\n",
       "[Gang-du, is, a, dim-witted, man, working, at, his, father's, tiny, snack, bar, near, the, Han, River., One, day,, Gang-du's, one, and, only, daughter, Hyun-seo, comes, back, from, school, irritated., She, is, angry, at, her, uncle,, Nam-il,, who, visited, her, school, as, her, guardian, shamelessly, drunk., Ignoring, her, father's, excuses, for, Nam-il,, Hyun-seo, is, soon, engrossed, in, her, aunt, Nam-joo's, archery, tournament, on, TV., Meanwhile,, outside, of, the, snack, bar,, people, are, fascinated, by, an, unidentified, object, hanging, onto, a, bridge., In, an, instant,, the, object, reveals, itself, as, a, terrifying, creature, turning, the, riverbank, into, a, gruesome, sea, of, blood¡¦, ...]    2\n",
       "[A, parasitic, alien, soul, is, injected, into, the, body, of, Melanie, Stryder., Instead, of, carrying, out, her, race's, mission, of, taking, over, the, Earth,, \"Wanda\", (as, she, comes, to, be, called), forms, a, bond, with, her, host, and, sets, out, to, aid, other, free, humans.]                                                                                                                                                                                                                                                                                                                                                                                                                                                2\n",
       "[The, Dark, Knight, of, Gotham, City, begins, his, war, on, crime, with, his, first, major, enemy, being, the, clownishly, homicidal, Joker,, who, has, seized, control, of, Gotham's, underworld.]                                                                                                                                                                                                                                                                                                                                                                                                                                                                                                                                          2\n",
       "[Ordinary, people, find, extraordinary, courage, in, the, face, of, madness., On, 13–14, November, 1990, that, madness, came, to, Aramoana,, a, small, New, Zealand, seaside, town,, in, the, form, of, a, lone, gunman, with, a, high-powered, semi-automatic, rifle., As, he, stalked, his, victims, the, terrified, and, confused, residents, were, trapped, for, 24, hours, while, a, handful, of, under-resourced, and, under-armed, local, policemen, risked, their, lives, trying, to, find, him, and, save, the, survivors., Based, on, true, events.]                                                                                                                                                                               2\n",
       "                                                                                                                                                                                                                                                                                                                                                                                                                                                                                                                                                                                                                                                                                                                                            ..\n",
       "[A, tight-knit, group, of, New, York, City, street, dancers,, including, Luke, and, Natalie,, team, up, with, NYU, freshman, Moose,, and, find, themselves, pitted, against, the, world's, best, hip, hop, dancers, in, a, high-stakes, showdown, that, will, change, their, lives, forever.]                                                                                                                                                                                                                                                                                                                                                                                                                                                1\n",
       "[\"Secondhand, Lions\", follows, the, comedic, adventures, of, an, introverted, boy, left, on, the, doorstep, of, a, pair, of, reluctant,, eccentric, great-uncles,, whose, exotic, remembrances, stir, the, boy's, spirit, and, re-ignite, the, men's, lives.]                                                                                                                                                                                                                                                                                                                                                                                                                                                                                1\n",
       "[After, 29-year-old, Adaline, recovers, from, a, nearly, lethal, accident,, she, inexplicably, stops, growing, older., As, the, years, stretch, on, and, on,, Adaline, keeps, her, secret, to, herself, until, she, meets, a, man, who, changes, her, life.]                                                                                                                                                                                                                                                                                                                                                                                                                                                                                 1\n",
       "[After, denying, a, woman, the, extension, she, needs, to, keep, her, home,, loan, officer, Christine, Brown, sees, her, once-promising, life, take, a, startling, turn, for, the, worse., Christine, is, convinced, she's, been, cursed, by, a, Gypsy,, but, her, boyfriend, is, skeptical., Her, only, hope, seems, to, lie, in, a, psychic, who, claims, he, can, help, her, lift, the, curse, and, keep, her, soul, from, being, dragged, straight, to, hell.]                                                                                                                                                                                                                                                                           1\n",
       "[Ever, since, the, second, grade, when, he, first, saw, her, in, E.T., The, Extraterrestrial,, Brian, Herzlinger, has, had, a, crush, on, Drew, Barrymore., Now,, 20, years, later, he's, decided, to, try, to, fulfill, his, lifelong, dream, by, asking, her, for, a, date., There's, one, small, problem:, She's, Drew, Barrymore, and, he's,, well,, Brian, Herzlinger,, a, broke, 27-year-old, aspiring, filmmaker, from, New, Jersey.]                                                                                                                                                                                                                                                                                                 1\n",
       "Name: count, Length: 4800, dtype: int64"
      ]
     },
     "execution_count": 224,
     "metadata": {},
     "output_type": "execute_result"
    }
   ],
   "source": [
    "movies['overview'].value_counts()"
   ]
  },
  {
   "cell_type": "code",
   "execution_count": 225,
   "id": "ddd33679-c720-462a-9b5e-e17b8ca82cad",
   "metadata": {},
   "outputs": [
    {
     "name": "stderr",
     "output_type": "stream",
     "text": [
      "C:\\Users\\shubh\\AppData\\Local\\Temp\\ipykernel_13272\\2775069538.py:1: SettingWithCopyWarning: \n",
      "A value is trying to be set on a copy of a slice from a DataFrame.\n",
      "Try using .loc[row_indexer,col_indexer] = value instead\n",
      "\n",
      "See the caveats in the documentation: https://pandas.pydata.org/pandas-docs/stable/user_guide/indexing.html#returning-a-view-versus-a-copy\n",
      "  movies['cast'] = movies['cast'].apply(lambda x : [i.replace(' ','') for i in x])\n",
      "C:\\Users\\shubh\\AppData\\Local\\Temp\\ipykernel_13272\\2775069538.py:2: SettingWithCopyWarning: \n",
      "A value is trying to be set on a copy of a slice from a DataFrame.\n",
      "Try using .loc[row_indexer,col_indexer] = value instead\n",
      "\n",
      "See the caveats in the documentation: https://pandas.pydata.org/pandas-docs/stable/user_guide/indexing.html#returning-a-view-versus-a-copy\n",
      "  movies['crew'] = movies['crew'].apply(lambda x: [i.replace(' ','') for i in x])\n",
      "C:\\Users\\shubh\\AppData\\Local\\Temp\\ipykernel_13272\\2775069538.py:3: SettingWithCopyWarning: \n",
      "A value is trying to be set on a copy of a slice from a DataFrame.\n",
      "Try using .loc[row_indexer,col_indexer] = value instead\n",
      "\n",
      "See the caveats in the documentation: https://pandas.pydata.org/pandas-docs/stable/user_guide/indexing.html#returning-a-view-versus-a-copy\n",
      "  movies['genres'] = movies['genres'].apply(lambda x: [i.replace(' ','') for i in x])\n",
      "C:\\Users\\shubh\\AppData\\Local\\Temp\\ipykernel_13272\\2775069538.py:4: SettingWithCopyWarning: \n",
      "A value is trying to be set on a copy of a slice from a DataFrame.\n",
      "Try using .loc[row_indexer,col_indexer] = value instead\n",
      "\n",
      "See the caveats in the documentation: https://pandas.pydata.org/pandas-docs/stable/user_guide/indexing.html#returning-a-view-versus-a-copy\n",
      "  movies['keywords'] = movies['keywords'].apply(lambda x: [i.replace(' ','') for i in x])\n"
     ]
    }
   ],
   "source": [
    "movies['cast'] = movies['cast'].apply(lambda x : [i.replace(' ','') for i in x])\n",
    "movies['crew'] = movies['crew'].apply(lambda x: [i.replace(' ','') for i in x])\n",
    "movies['genres'] = movies['genres'].apply(lambda x: [i.replace(' ','') for i in x])\n",
    "movies['keywords'] = movies['keywords'].apply(lambda x: [i.replace(' ','') for i in x])"
   ]
  },
  {
   "cell_type": "code",
   "execution_count": 226,
   "id": "cf019fff-0374-47ab-8f35-3413c7b71141",
   "metadata": {},
   "outputs": [
    {
     "name": "stderr",
     "output_type": "stream",
     "text": [
      "C:\\Users\\shubh\\AppData\\Local\\Temp\\ipykernel_13272\\603755214.py:1: SettingWithCopyWarning: \n",
      "A value is trying to be set on a copy of a slice from a DataFrame.\n",
      "Try using .loc[row_indexer,col_indexer] = value instead\n",
      "\n",
      "See the caveats in the documentation: https://pandas.pydata.org/pandas-docs/stable/user_guide/indexing.html#returning-a-view-versus-a-copy\n",
      "  movies['tags'] = movies['overview'] + movies['genres'] + movies['keywords'] + movies['cast'] + movies['crew']\n"
     ]
    }
   ],
   "source": [
    "movies['tags'] = movies['overview'] + movies['genres'] + movies['keywords'] + movies['cast'] + movies['crew']"
   ]
  },
  {
   "cell_type": "code",
   "execution_count": 227,
   "id": "0a6e4257-0dbb-4d28-a007-ada4c08bfbe9",
   "metadata": {},
   "outputs": [
    {
     "data": {
      "text/plain": [
       "tags\n",
       "[In, the, 22nd, century,, a, paraplegic, Marine, is, dispatched, to, the, moon, Pandora, on, a, unique, mission,, but, becomes, torn, between, following, orders, and, protecting, an, alien, civilization., Action, Adventure, Fantasy, ScienceFiction, cultureclash, future, spacewar, spacecolony, society, spacetravel, futuristic, romance, space, alien, tribe, alienplanet, cgi, marine, soldier, battle, loveaffair, antiwar, powerrelations, mindandsoul, 3d, SamWorthington, ZoeSaldana, SigourneyWeaver, JamesCameron]                                                                                                                                                                                                                                                                      1\n",
       "[The, Saga, continues, with, the, Emmy-winning, \"Star, Wars:, Clone, Wars.\", This, animated, micro-series,, directed, by, Genndy, Tartakovsky,, captures, George, Lucas', vision, in, a, dynamic, animated, style, that, is, a, visual, delight, for, all, ages., \"Star, Wars:, Clone, Wars\", Volume, 1, reveals, the, epic, adventures, that, bridge, the, story, arc, between, \"Star, Wars:, Episode, II:, Attack, of, the, Clones\", and, \"Star, Wars:, Episode, III:, Revenge, of, the, Sith.\", Follow, the, valiant, Jedi, Knights, and, the, Brave, soldiers, of, the, Republic's, clone, army, as, they, battle, against, the, droid, forces, of, the, Separatists,, led, by, the, evil, Sith, Lord,, Count, Dooku., Witness, ...]                                                               1\n",
       "[The, daily, grind, for, the, cops, of, the, Police, Department's, Juvenile, Protection, Unit, -, taking, in, child, molesters,, busting, underage, pickpockets,, interrogating, abusive, parents,, confronting, the, excesses, of, teen, sexuality,, enjoying, solidarity, with, colleagues, and, laughing, uncontrollably, at, the, most, unthinkable, moments., Knowing, the, worst, exists, and, living, with, it., How, do, these, cops, balance, their, private, lives, and, the, reality, they, confront, every, working, day?, Fred,, the, group's, hypersensitive, wild, card,, is, going, to, have, a, hard, time, facing, the, scrutiny, of, Melissa,, a, photographer, on, a, Ministry, of, the, Interior, assignment, to, document, the, unit., Drama, womandirector, KarinViard, ...]    1\n",
       "[The, true, story, of, Australia's, cat-and-mouse, underground, mine, warfare, –, one, of, the, most, misunderstood,, misrepresented, and, mystifying, conflicts, of, WW, I., It, was, a, secret, struggle, BENEATH, the, Western, Front, that, combined, daring, engineering,, technology, and, science,, and, few, on, the, surface, knew, of, the, brave,, claustrophobic, and, sometimes, barbaric, work, of, these, tunnellers., Drama, History, War, BrendanCowell, HarrisonGilbertson, SteveLeMarquand, JeremySims]                                                                                                                                                                                                                                                                             1\n",
       "[Simon, Cable, wakes, up, in, a, hospital, bed,, confused, and, disoriented., He, soon, discovers, from, doctors, that, he, has, amnesia, and, is, unable, to, remember, the, last, two, years, of, his, life., Cable, investigates, what, has, happened, to, him, and, slowly, pieces, together, his, enigmatic, past., Thriller, Mystery, ScienceFiction, infidelity, amnesia, paranoia, nightmare, time, puzzle, murder, suspense, memory, hospital, doctor, fear, guilt, discovery, loop, RyanPhillippe, SarahPolley, PiperPerabo, RolandSusoRichter]                                                                                                                                                                                                                                              1\n",
       "                                                                                                                                                                                                                                                                                                                                                                                                                                                                                                                                                                                                                                                                                                                                                                                                      ..\n",
       "[After, 29-year-old, Adaline, recovers, from, a, nearly, lethal, accident,, she, inexplicably, stops, growing, older., As, the, years, stretch, on, and, on,, Adaline, keeps, her, secret, to, herself, until, she, meets, a, man, who, changes, her, life., Fantasy, Drama, Romance, sanfrancisco, immortality, love, forever, BlakeLively, MichielHuisman, HarrisonFord, LeeTolandKrieger]                                                                                                                                                                                                                                                                                                                                                                                                           1\n",
       "[After, denying, a, woman, the, extension, she, needs, to, keep, her, home,, loan, officer, Christine, Brown, sees, her, once-promising, life, take, a, startling, turn, for, the, worse., Christine, is, convinced, she's, been, cursed, by, a, Gypsy,, but, her, boyfriend, is, skeptical., Her, only, hope, seems, to, lie, in, a, psychic, who, claims, he, can, help, her, lift, the, curse, and, keep, her, soul, from, being, dragged, straight, to, hell., Horror, Thriller, gypsy, work, gore, curse, psychologist, psychic, evil, loanofficer, obituary, engagementring, gypsies, AlisonLohman, JustinLong, LornaRaver, SamRaimi]                                                                                                                                                            1\n",
       "[Billy, \"The, Great\", Hope,, the, reigning, junior, middleweight, boxing, champion,, has, an, impressive, career,, a, loving, wife, and, daughter,, and, a, lavish, lifestyle., However,, when, tragedy, strikes,, Billy, hits, rock, bottom,, losing, his, family,, his, house, and, his, manager., He, soon, finds, an, unlikely, savior, in, Tick, Willis,, a, former, fighter, who, trains, the, city's, toughest, amateur, boxers., With, his, future, on, the, line,, Hope, fights, to, reclaim, the, trust, of, those, he, loves, the, most., Action, Drama, sport, JakeGyllenhaal, RachelMcAdams, ForestWhitaker, AntoineFuqua]                                                                                                                                                                1\n",
       "[A, young, female, FBI, agent, joins, a, secret, CIA, operation, to, take, down, a, Mexican, cartel, boss,, a, job, that, ends, up, pushing, her, ethical, and, moral, values, to, the, limit., Action, Crime, Drama, Mystery, Thriller, mexico, cia, smoking, texas, fbi, murder, dirtycop, soccer, drug, fbiagent, nightvision, deathofdaughter, tunnel, elpaso, moraldilemma, deathofwife, mexicancartel, EmilyBlunt, BeniciodelToro, JoshBrolin, DenisVilleneuve]                                                                                                                                                                                                                                                                                                                                  1\n",
       "[Ever, since, the, second, grade, when, he, first, saw, her, in, E.T., The, Extraterrestrial,, Brian, Herzlinger, has, had, a, crush, on, Drew, Barrymore., Now,, 20, years, later, he's, decided, to, try, to, fulfill, his, lifelong, dream, by, asking, her, for, a, date., There's, one, small, problem:, She's, Drew, Barrymore, and, he's,, well,, Brian, Herzlinger,, a, broke, 27-year-old, aspiring, filmmaker, from, New, Jersey., Documentary, obsession, camcorder, crush, dreamgirl, DrewBarrymore, BrianHerzlinger, CoreyFeldman, BrianHerzlinger]                                                                                                                                                                                                                                       1\n",
       "Name: count, Length: 4806, dtype: int64"
      ]
     },
     "execution_count": 227,
     "metadata": {},
     "output_type": "execute_result"
    }
   ],
   "source": [
    "movies['tags'].value_counts()"
   ]
  },
  {
   "cell_type": "code",
   "execution_count": 228,
   "id": "2b89ede0-a2ee-4e93-884c-19fd6491a4bc",
   "metadata": {},
   "outputs": [],
   "source": [
    "new_df = movies[['movie_id','title','tags']]"
   ]
  },
  {
   "cell_type": "code",
   "execution_count": 229,
   "id": "d9bfaf92-d341-4a4f-a488-301065f16a0c",
   "metadata": {},
   "outputs": [
    {
     "data": {
      "text/html": [
       "<div>\n",
       "<style scoped>\n",
       "    .dataframe tbody tr th:only-of-type {\n",
       "        vertical-align: middle;\n",
       "    }\n",
       "\n",
       "    .dataframe tbody tr th {\n",
       "        vertical-align: top;\n",
       "    }\n",
       "\n",
       "    .dataframe thead th {\n",
       "        text-align: right;\n",
       "    }\n",
       "</style>\n",
       "<table border=\"1\" class=\"dataframe\">\n",
       "  <thead>\n",
       "    <tr style=\"text-align: right;\">\n",
       "      <th></th>\n",
       "      <th>movie_id</th>\n",
       "      <th>title</th>\n",
       "      <th>tags</th>\n",
       "    </tr>\n",
       "  </thead>\n",
       "  <tbody>\n",
       "    <tr>\n",
       "      <th>0</th>\n",
       "      <td>19995</td>\n",
       "      <td>Avatar</td>\n",
       "      <td>[In, the, 22nd, century,, a, paraplegic, Marin...</td>\n",
       "    </tr>\n",
       "    <tr>\n",
       "      <th>1</th>\n",
       "      <td>285</td>\n",
       "      <td>Pirates of the Caribbean: At World's End</td>\n",
       "      <td>[Captain, Barbossa,, long, believed, to, be, d...</td>\n",
       "    </tr>\n",
       "    <tr>\n",
       "      <th>2</th>\n",
       "      <td>206647</td>\n",
       "      <td>Spectre</td>\n",
       "      <td>[A, cryptic, message, from, Bond’s, past, send...</td>\n",
       "    </tr>\n",
       "    <tr>\n",
       "      <th>3</th>\n",
       "      <td>49026</td>\n",
       "      <td>The Dark Knight Rises</td>\n",
       "      <td>[Following, the, death, of, District, Attorney...</td>\n",
       "    </tr>\n",
       "    <tr>\n",
       "      <th>4</th>\n",
       "      <td>49529</td>\n",
       "      <td>John Carter</td>\n",
       "      <td>[John, Carter, is, a, war-weary,, former, mili...</td>\n",
       "    </tr>\n",
       "    <tr>\n",
       "      <th>...</th>\n",
       "      <td>...</td>\n",
       "      <td>...</td>\n",
       "      <td>...</td>\n",
       "    </tr>\n",
       "    <tr>\n",
       "      <th>4804</th>\n",
       "      <td>9367</td>\n",
       "      <td>El Mariachi</td>\n",
       "      <td>[El, Mariachi, just, wants, to, play, his, gui...</td>\n",
       "    </tr>\n",
       "    <tr>\n",
       "      <th>4805</th>\n",
       "      <td>72766</td>\n",
       "      <td>Newlyweds</td>\n",
       "      <td>[A, newlywed, couple's, honeymoon, is, upended...</td>\n",
       "    </tr>\n",
       "    <tr>\n",
       "      <th>4806</th>\n",
       "      <td>231617</td>\n",
       "      <td>Signed, Sealed, Delivered</td>\n",
       "      <td>[\"Signed,, Sealed,, Delivered\", introduces, a,...</td>\n",
       "    </tr>\n",
       "    <tr>\n",
       "      <th>4807</th>\n",
       "      <td>126186</td>\n",
       "      <td>Shanghai Calling</td>\n",
       "      <td>[When, ambitious, New, York, attorney, Sam, is...</td>\n",
       "    </tr>\n",
       "    <tr>\n",
       "      <th>4808</th>\n",
       "      <td>25975</td>\n",
       "      <td>My Date with Drew</td>\n",
       "      <td>[Ever, since, the, second, grade, when, he, fi...</td>\n",
       "    </tr>\n",
       "  </tbody>\n",
       "</table>\n",
       "<p>4806 rows × 3 columns</p>\n",
       "</div>"
      ],
      "text/plain": [
       "      movie_id                                     title  \\\n",
       "0        19995                                    Avatar   \n",
       "1          285  Pirates of the Caribbean: At World's End   \n",
       "2       206647                                   Spectre   \n",
       "3        49026                     The Dark Knight Rises   \n",
       "4        49529                               John Carter   \n",
       "...        ...                                       ...   \n",
       "4804      9367                               El Mariachi   \n",
       "4805     72766                                 Newlyweds   \n",
       "4806    231617                 Signed, Sealed, Delivered   \n",
       "4807    126186                          Shanghai Calling   \n",
       "4808     25975                         My Date with Drew   \n",
       "\n",
       "                                                   tags  \n",
       "0     [In, the, 22nd, century,, a, paraplegic, Marin...  \n",
       "1     [Captain, Barbossa,, long, believed, to, be, d...  \n",
       "2     [A, cryptic, message, from, Bond’s, past, send...  \n",
       "3     [Following, the, death, of, District, Attorney...  \n",
       "4     [John, Carter, is, a, war-weary,, former, mili...  \n",
       "...                                                 ...  \n",
       "4804  [El, Mariachi, just, wants, to, play, his, gui...  \n",
       "4805  [A, newlywed, couple's, honeymoon, is, upended...  \n",
       "4806  [\"Signed,, Sealed,, Delivered\", introduces, a,...  \n",
       "4807  [When, ambitious, New, York, attorney, Sam, is...  \n",
       "4808  [Ever, since, the, second, grade, when, he, fi...  \n",
       "\n",
       "[4806 rows x 3 columns]"
      ]
     },
     "execution_count": 229,
     "metadata": {},
     "output_type": "execute_result"
    }
   ],
   "source": [
    "new_df"
   ]
  },
  {
   "cell_type": "code",
   "execution_count": 230,
   "id": "041c0745-3041-4f83-b501-2cdf0f4012dd",
   "metadata": {},
   "outputs": [
    {
     "name": "stderr",
     "output_type": "stream",
     "text": [
      "C:\\Users\\shubh\\AppData\\Local\\Temp\\ipykernel_13272\\1824047427.py:1: SettingWithCopyWarning: \n",
      "A value is trying to be set on a copy of a slice from a DataFrame.\n",
      "Try using .loc[row_indexer,col_indexer] = value instead\n",
      "\n",
      "See the caveats in the documentation: https://pandas.pydata.org/pandas-docs/stable/user_guide/indexing.html#returning-a-view-versus-a-copy\n",
      "  new_df['tags'] = new_df['tags'].apply(lambda x: \" \".join(x))\n"
     ]
    }
   ],
   "source": [
    "new_df['tags'] = new_df['tags'].apply(lambda x: \" \".join(x))"
   ]
  },
  {
   "cell_type": "code",
   "execution_count": 231,
   "id": "ff5c7021-dd44-4e42-8dc1-8526839bb88f",
   "metadata": {},
   "outputs": [
    {
     "data": {
      "text/plain": [
       "tags\n",
       "In the 22nd century, a paraplegic Marine is dispatched to the moon Pandora on a unique mission, but becomes torn between following orders and protecting an alien civilization. Action Adventure Fantasy ScienceFiction cultureclash future spacewar spacecolony society spacetravel futuristic romance space alien tribe alienplanet cgi marine soldier battle loveaffair antiwar powerrelations mindandsoul 3d SamWorthington ZoeSaldana SigourneyWeaver JamesCameron                                                                                                                                                                                                                                                                                                                                                                                                                                                                                                                        1\n",
       "The Saga continues with the Emmy-winning \"Star Wars: Clone Wars.\" This animated micro-series, directed by Genndy Tartakovsky, captures George Lucas' vision in a dynamic animated style that is a visual delight for all ages. \"Star Wars: Clone Wars\" Volume 1 reveals the epic adventures that bridge the story arc between \"Star Wars: Episode II: Attack of the Clones\" and \"Star Wars: Episode III: Revenge of the Sith.\" Follow the valiant Jedi Knights and the Brave soldiers of the Republic's clone army as they battle against the droid forces of the Separatists, led by the evil Sith Lord, Count Dooku. Witness the battles that made galactic heroes out of Anakin Skywalker and Obi-Wan Kenobi, and along the way get a first look at the new menace from Episode III, General Grevious. This is a must-have for any \"Star Wars\" collection. Action Adventure Animation Fantasy ScienceFiction war spaceopera clonetroopers TomKane CoreyBurton MatLucas GenndyTartakovsky    1\n",
       "The daily grind for the cops of the Police Department's Juvenile Protection Unit - taking in child molesters, busting underage pickpockets, interrogating abusive parents, confronting the excesses of teen sexuality, enjoying solidarity with colleagues and laughing uncontrollably at the most unthinkable moments. Knowing the worst exists and living with it. How do these cops balance their private lives and the reality they confront every working day? Fred, the group's hypersensitive wild card, is going to have a hard time facing the scrutiny of Melissa, a photographer on a Ministry of the Interior assignment to document the unit. Drama womandirector KarinViard JoeyStarr MarinaFoïs Maïwenn                                                                                                                                                                                                                                                                         1\n",
       "The true story of Australia's cat-and-mouse underground mine warfare – one of the most misunderstood, misrepresented and mystifying conflicts of WW I. It was a secret struggle BENEATH the Western Front that combined daring engineering, technology and science, and few on the surface knew of the brave, claustrophobic and sometimes barbaric work of these tunnellers. Drama History War BrendanCowell HarrisonGilbertson SteveLeMarquand JeremySims                                                                                                                                                                                                                                                                                                                                                                                                                                                                                                                                    1\n",
       "Simon Cable wakes up in a hospital bed, confused and disoriented. He soon discovers from doctors that he has amnesia and is unable to remember the last two years of his life. Cable investigates what has happened to him and slowly pieces together his enigmatic past. Thriller Mystery ScienceFiction infidelity amnesia paranoia nightmare time puzzle murder suspense memory hospital doctor fear guilt discovery loop RyanPhillippe SarahPolley PiperPerabo RolandSusoRichter                                                                                                                                                                                                                                                                                                                                                                                                                                                                                                           1\n",
       "                                                                                                                                                                                                                                                                                                                                                                                                                                                                                                                                                                                                                                                                                                                                                                                                                                                                                                                                                                                              ..\n",
       "After 29-year-old Adaline recovers from a nearly lethal accident, she inexplicably stops growing older. As the years stretch on and on, Adaline keeps her secret to herself until she meets a man who changes her life. Fantasy Drama Romance sanfrancisco immortality love forever BlakeLively MichielHuisman HarrisonFord LeeTolandKrieger                                                                                                                                                                                                                                                                                                                                                                                                                                                                                                                                                                                                                                                   1\n",
       "After denying a woman the extension she needs to keep her home, loan officer Christine Brown sees her once-promising life take a startling turn for the worse. Christine is convinced she's been cursed by a Gypsy, but her boyfriend is skeptical. Her only hope seems to lie in a psychic who claims he can help her lift the curse and keep her soul from being dragged straight to hell. Horror Thriller gypsy work gore curse psychologist psychic evil loanofficer obituary engagementring gypsies AlisonLohman JustinLong LornaRaver SamRaimi                                                                                                                                                                                                                                                                                                                                                                                                                                           1\n",
       "Billy \"The Great\" Hope, the reigning junior middleweight boxing champion, has an impressive career, a loving wife and daughter, and a lavish lifestyle. However, when tragedy strikes, Billy hits rock bottom, losing his family, his house and his manager. He soon finds an unlikely savior in Tick Willis, a former fighter who trains the city's toughest amateur boxers. With his future on the line, Hope fights to reclaim the trust of those he loves the most. Action Drama sport JakeGyllenhaal RachelMcAdams ForestWhitaker AntoineFuqua                                                                                                                                                                                                                                                                                                                                                                                                                                            1\n",
       "A young female FBI agent joins a secret CIA operation to take down a Mexican cartel boss, a job that ends up pushing her ethical and moral values to the limit. Action Crime Drama Mystery Thriller mexico cia smoking texas fbi murder dirtycop soccer drug fbiagent nightvision deathofdaughter tunnel elpaso moraldilemma deathofwife mexicancartel EmilyBlunt BeniciodelToro JoshBrolin DenisVilleneuve                                                                                                                                                                                                                                                                                                                                                                                                                                                                                                                                                                                    1\n",
       "Ever since the second grade when he first saw her in E.T. The Extraterrestrial, Brian Herzlinger has had a crush on Drew Barrymore. Now, 20 years later he's decided to try to fulfill his lifelong dream by asking her for a date. There's one small problem: She's Drew Barrymore and he's, well, Brian Herzlinger, a broke 27-year-old aspiring filmmaker from New Jersey. Documentary obsession camcorder crush dreamgirl DrewBarrymore BrianHerzlinger CoreyFeldman BrianHerzlinger                                                                                                                                                                                                                                                                                                                                                                                                                                                                                                       1\n",
       "Name: count, Length: 4806, dtype: int64"
      ]
     },
     "execution_count": 231,
     "metadata": {},
     "output_type": "execute_result"
    }
   ],
   "source": [
    "new_df['tags'].value_counts()"
   ]
  },
  {
   "cell_type": "code",
   "execution_count": 232,
   "id": "072dcf30-4311-4d94-b2e2-6676d00674a8",
   "metadata": {},
   "outputs": [
    {
     "name": "stderr",
     "output_type": "stream",
     "text": [
      "C:\\Users\\shubh\\AppData\\Local\\Temp\\ipykernel_13272\\1380776331.py:1: SettingWithCopyWarning: \n",
      "A value is trying to be set on a copy of a slice from a DataFrame.\n",
      "Try using .loc[row_indexer,col_indexer] = value instead\n",
      "\n",
      "See the caveats in the documentation: https://pandas.pydata.org/pandas-docs/stable/user_guide/indexing.html#returning-a-view-versus-a-copy\n",
      "  new_df['tags'] = new_df['tags'].apply(lambda x: x.lower())\n"
     ]
    }
   ],
   "source": [
    "new_df['tags'] = new_df['tags'].apply(lambda x: x.lower())"
   ]
  },
  {
   "cell_type": "code",
   "execution_count": 233,
   "id": "352d7816-f739-4209-829c-84dda652dd0a",
   "metadata": {},
   "outputs": [
    {
     "data": {
      "text/plain": [
       "tags\n",
       "in the 22nd century, a paraplegic marine is dispatched to the moon pandora on a unique mission, but becomes torn between following orders and protecting an alien civilization. action adventure fantasy sciencefiction cultureclash future spacewar spacecolony society spacetravel futuristic romance space alien tribe alienplanet cgi marine soldier battle loveaffair antiwar powerrelations mindandsoul 3d samworthington zoesaldana sigourneyweaver jamescameron                                                                                                                                                                                                                                                                                                                                                                                                                                                                                                                        1\n",
       "the saga continues with the emmy-winning \"star wars: clone wars.\" this animated micro-series, directed by genndy tartakovsky, captures george lucas' vision in a dynamic animated style that is a visual delight for all ages. \"star wars: clone wars\" volume 1 reveals the epic adventures that bridge the story arc between \"star wars: episode ii: attack of the clones\" and \"star wars: episode iii: revenge of the sith.\" follow the valiant jedi knights and the brave soldiers of the republic's clone army as they battle against the droid forces of the separatists, led by the evil sith lord, count dooku. witness the battles that made galactic heroes out of anakin skywalker and obi-wan kenobi, and along the way get a first look at the new menace from episode iii, general grevious. this is a must-have for any \"star wars\" collection. action adventure animation fantasy sciencefiction war spaceopera clonetroopers tomkane coreyburton matlucas genndytartakovsky    1\n",
       "the daily grind for the cops of the police department's juvenile protection unit - taking in child molesters, busting underage pickpockets, interrogating abusive parents, confronting the excesses of teen sexuality, enjoying solidarity with colleagues and laughing uncontrollably at the most unthinkable moments. knowing the worst exists and living with it. how do these cops balance their private lives and the reality they confront every working day? fred, the group's hypersensitive wild card, is going to have a hard time facing the scrutiny of melissa, a photographer on a ministry of the interior assignment to document the unit. drama womandirector karinviard joeystarr marinafoïs maïwenn                                                                                                                                                                                                                                                                         1\n",
       "the true story of australia's cat-and-mouse underground mine warfare – one of the most misunderstood, misrepresented and mystifying conflicts of ww i. it was a secret struggle beneath the western front that combined daring engineering, technology and science, and few on the surface knew of the brave, claustrophobic and sometimes barbaric work of these tunnellers. drama history war brendancowell harrisongilbertson stevelemarquand jeremysims                                                                                                                                                                                                                                                                                                                                                                                                                                                                                                                                    1\n",
       "simon cable wakes up in a hospital bed, confused and disoriented. he soon discovers from doctors that he has amnesia and is unable to remember the last two years of his life. cable investigates what has happened to him and slowly pieces together his enigmatic past. thriller mystery sciencefiction infidelity amnesia paranoia nightmare time puzzle murder suspense memory hospital doctor fear guilt discovery loop ryanphillippe sarahpolley piperperabo rolandsusorichter                                                                                                                                                                                                                                                                                                                                                                                                                                                                                                           1\n",
       "                                                                                                                                                                                                                                                                                                                                                                                                                                                                                                                                                                                                                                                                                                                                                                                                                                                                                                                                                                                              ..\n",
       "after 29-year-old adaline recovers from a nearly lethal accident, she inexplicably stops growing older. as the years stretch on and on, adaline keeps her secret to herself until she meets a man who changes her life. fantasy drama romance sanfrancisco immortality love forever blakelively michielhuisman harrisonford leetolandkrieger                                                                                                                                                                                                                                                                                                                                                                                                                                                                                                                                                                                                                                                   1\n",
       "after denying a woman the extension she needs to keep her home, loan officer christine brown sees her once-promising life take a startling turn for the worse. christine is convinced she's been cursed by a gypsy, but her boyfriend is skeptical. her only hope seems to lie in a psychic who claims he can help her lift the curse and keep her soul from being dragged straight to hell. horror thriller gypsy work gore curse psychologist psychic evil loanofficer obituary engagementring gypsies alisonlohman justinlong lornaraver samraimi                                                                                                                                                                                                                                                                                                                                                                                                                                           1\n",
       "billy \"the great\" hope, the reigning junior middleweight boxing champion, has an impressive career, a loving wife and daughter, and a lavish lifestyle. however, when tragedy strikes, billy hits rock bottom, losing his family, his house and his manager. he soon finds an unlikely savior in tick willis, a former fighter who trains the city's toughest amateur boxers. with his future on the line, hope fights to reclaim the trust of those he loves the most. action drama sport jakegyllenhaal rachelmcadams forestwhitaker antoinefuqua                                                                                                                                                                                                                                                                                                                                                                                                                                            1\n",
       "a young female fbi agent joins a secret cia operation to take down a mexican cartel boss, a job that ends up pushing her ethical and moral values to the limit. action crime drama mystery thriller mexico cia smoking texas fbi murder dirtycop soccer drug fbiagent nightvision deathofdaughter tunnel elpaso moraldilemma deathofwife mexicancartel emilyblunt beniciodeltoro joshbrolin denisvilleneuve                                                                                                                                                                                                                                                                                                                                                                                                                                                                                                                                                                                    1\n",
       "ever since the second grade when he first saw her in e.t. the extraterrestrial, brian herzlinger has had a crush on drew barrymore. now, 20 years later he's decided to try to fulfill his lifelong dream by asking her for a date. there's one small problem: she's drew barrymore and he's, well, brian herzlinger, a broke 27-year-old aspiring filmmaker from new jersey. documentary obsession camcorder crush dreamgirl drewbarrymore brianherzlinger coreyfeldman brianherzlinger                                                                                                                                                                                                                                                                                                                                                                                                                                                                                                       1\n",
       "Name: count, Length: 4806, dtype: int64"
      ]
     },
     "execution_count": 233,
     "metadata": {},
     "output_type": "execute_result"
    }
   ],
   "source": [
    "new_df['tags'].value_counts()"
   ]
  },
  {
   "cell_type": "code",
   "execution_count": 234,
   "id": "fe960ebb-7a2b-4bc7-b0d0-9ba9f5c28a40",
   "metadata": {},
   "outputs": [],
   "source": [
    "from nltk.stem.porter import PorterStemmer\n",
    "ps = PorterStemmer()"
   ]
  },
  {
   "cell_type": "code",
   "execution_count": 235,
   "id": "d1845ce4-740f-48a5-8847-affc77b07483",
   "metadata": {},
   "outputs": [],
   "source": [
    "def stem(text):\n",
    "    y=[]\n",
    "    for i in text.split():\n",
    "        y.append(ps.stem(i))\n",
    "    return \" \".join(y)"
   ]
  },
  {
   "cell_type": "code",
   "execution_count": 236,
   "id": "652ce892-f92b-4e9b-961a-b151de7a4db7",
   "metadata": {},
   "outputs": [
    {
     "name": "stderr",
     "output_type": "stream",
     "text": [
      "C:\\Users\\shubh\\AppData\\Local\\Temp\\ipykernel_13272\\3213734980.py:1: SettingWithCopyWarning: \n",
      "A value is trying to be set on a copy of a slice from a DataFrame.\n",
      "Try using .loc[row_indexer,col_indexer] = value instead\n",
      "\n",
      "See the caveats in the documentation: https://pandas.pydata.org/pandas-docs/stable/user_guide/indexing.html#returning-a-view-versus-a-copy\n",
      "  new_df['tags'] = new_df['tags'].apply(stem)\n"
     ]
    }
   ],
   "source": [
    "new_df['tags'] = new_df['tags'].apply(stem)"
   ]
  },
  {
   "cell_type": "code",
   "execution_count": 237,
   "id": "f7711600-a362-4c68-81a4-0ad8dff6bc1f",
   "metadata": {},
   "outputs": [
    {
     "data": {
      "text/html": [
       "<div>\n",
       "<style scoped>\n",
       "    .dataframe tbody tr th:only-of-type {\n",
       "        vertical-align: middle;\n",
       "    }\n",
       "\n",
       "    .dataframe tbody tr th {\n",
       "        vertical-align: top;\n",
       "    }\n",
       "\n",
       "    .dataframe thead th {\n",
       "        text-align: right;\n",
       "    }\n",
       "</style>\n",
       "<table border=\"1\" class=\"dataframe\">\n",
       "  <thead>\n",
       "    <tr style=\"text-align: right;\">\n",
       "      <th></th>\n",
       "      <th>movie_id</th>\n",
       "      <th>title</th>\n",
       "      <th>tags</th>\n",
       "    </tr>\n",
       "  </thead>\n",
       "  <tbody>\n",
       "    <tr>\n",
       "      <th>0</th>\n",
       "      <td>19995</td>\n",
       "      <td>Avatar</td>\n",
       "      <td>in the 22nd century, a parapleg marin is dispa...</td>\n",
       "    </tr>\n",
       "    <tr>\n",
       "      <th>1</th>\n",
       "      <td>285</td>\n",
       "      <td>Pirates of the Caribbean: At World's End</td>\n",
       "      <td>captain barbossa, long believ to be dead, ha c...</td>\n",
       "    </tr>\n",
       "    <tr>\n",
       "      <th>2</th>\n",
       "      <td>206647</td>\n",
       "      <td>Spectre</td>\n",
       "      <td>a cryptic messag from bond’ past send him on a...</td>\n",
       "    </tr>\n",
       "    <tr>\n",
       "      <th>3</th>\n",
       "      <td>49026</td>\n",
       "      <td>The Dark Knight Rises</td>\n",
       "      <td>follow the death of district attorney harvey d...</td>\n",
       "    </tr>\n",
       "    <tr>\n",
       "      <th>4</th>\n",
       "      <td>49529</td>\n",
       "      <td>John Carter</td>\n",
       "      <td>john carter is a war-weary, former militari ca...</td>\n",
       "    </tr>\n",
       "    <tr>\n",
       "      <th>...</th>\n",
       "      <td>...</td>\n",
       "      <td>...</td>\n",
       "      <td>...</td>\n",
       "    </tr>\n",
       "    <tr>\n",
       "      <th>4804</th>\n",
       "      <td>9367</td>\n",
       "      <td>El Mariachi</td>\n",
       "      <td>el mariachi just want to play hi guitar and ca...</td>\n",
       "    </tr>\n",
       "    <tr>\n",
       "      <th>4805</th>\n",
       "      <td>72766</td>\n",
       "      <td>Newlyweds</td>\n",
       "      <td>a newlyw couple' honeymoon is upend by the arr...</td>\n",
       "    </tr>\n",
       "    <tr>\n",
       "      <th>4806</th>\n",
       "      <td>231617</td>\n",
       "      <td>Signed, Sealed, Delivered</td>\n",
       "      <td>\"signed, sealed, delivered\" introduc a dedic q...</td>\n",
       "    </tr>\n",
       "    <tr>\n",
       "      <th>4807</th>\n",
       "      <td>126186</td>\n",
       "      <td>Shanghai Calling</td>\n",
       "      <td>when ambiti new york attorney sam is sent to s...</td>\n",
       "    </tr>\n",
       "    <tr>\n",
       "      <th>4808</th>\n",
       "      <td>25975</td>\n",
       "      <td>My Date with Drew</td>\n",
       "      <td>ever sinc the second grade when he first saw h...</td>\n",
       "    </tr>\n",
       "  </tbody>\n",
       "</table>\n",
       "<p>4806 rows × 3 columns</p>\n",
       "</div>"
      ],
      "text/plain": [
       "      movie_id                                     title  \\\n",
       "0        19995                                    Avatar   \n",
       "1          285  Pirates of the Caribbean: At World's End   \n",
       "2       206647                                   Spectre   \n",
       "3        49026                     The Dark Knight Rises   \n",
       "4        49529                               John Carter   \n",
       "...        ...                                       ...   \n",
       "4804      9367                               El Mariachi   \n",
       "4805     72766                                 Newlyweds   \n",
       "4806    231617                 Signed, Sealed, Delivered   \n",
       "4807    126186                          Shanghai Calling   \n",
       "4808     25975                         My Date with Drew   \n",
       "\n",
       "                                                   tags  \n",
       "0     in the 22nd century, a parapleg marin is dispa...  \n",
       "1     captain barbossa, long believ to be dead, ha c...  \n",
       "2     a cryptic messag from bond’ past send him on a...  \n",
       "3     follow the death of district attorney harvey d...  \n",
       "4     john carter is a war-weary, former militari ca...  \n",
       "...                                                 ...  \n",
       "4804  el mariachi just want to play hi guitar and ca...  \n",
       "4805  a newlyw couple' honeymoon is upend by the arr...  \n",
       "4806  \"signed, sealed, delivered\" introduc a dedic q...  \n",
       "4807  when ambiti new york attorney sam is sent to s...  \n",
       "4808  ever sinc the second grade when he first saw h...  \n",
       "\n",
       "[4806 rows x 3 columns]"
      ]
     },
     "execution_count": 237,
     "metadata": {},
     "output_type": "execute_result"
    }
   ],
   "source": [
    "new_df"
   ]
  },
  {
   "cell_type": "code",
   "execution_count": 238,
   "id": "1c73eb7d-b4fb-475b-8838-f9fc4cbb968a",
   "metadata": {},
   "outputs": [],
   "source": [
    "from sklearn.feature_extraction.text import CountVectorizer"
   ]
  },
  {
   "cell_type": "code",
   "execution_count": 239,
   "id": "93955fa8-35ca-4a4c-a905-72e5faa68b99",
   "metadata": {},
   "outputs": [],
   "source": [
    "cv = CountVectorizer(max_features=5000, stop_words='english')"
   ]
  },
  {
   "cell_type": "code",
   "execution_count": 240,
   "id": "d7ffd60a-06db-466e-a37c-a908fdac90b5",
   "metadata": {},
   "outputs": [],
   "source": [
    "vector=cv.fit_transform(new_df['tags']).toarray()"
   ]
  },
  {
   "cell_type": "code",
   "execution_count": 241,
   "id": "385898b8-d71f-4d61-b602-e69017679374",
   "metadata": {},
   "outputs": [
    {
     "data": {
      "text/plain": [
       "array([[0, 0, 0, ..., 0, 0, 0],\n",
       "       [0, 0, 0, ..., 0, 0, 0],\n",
       "       [0, 0, 0, ..., 0, 0, 0],\n",
       "       ...,\n",
       "       [0, 0, 0, ..., 0, 0, 0],\n",
       "       [0, 0, 0, ..., 0, 0, 0],\n",
       "       [0, 0, 0, ..., 0, 0, 0]], dtype=int64)"
      ]
     },
     "execution_count": 241,
     "metadata": {},
     "output_type": "execute_result"
    }
   ],
   "source": [
    "vector"
   ]
  },
  {
   "cell_type": "code",
   "execution_count": 242,
   "id": "7a78c5c0-260d-47a5-8dde-26352eda6119",
   "metadata": {},
   "outputs": [],
   "source": [
    "from sklearn.metrics.pairwise import cosine_similarity"
   ]
  },
  {
   "cell_type": "code",
   "execution_count": 243,
   "id": "89096d7e-1b80-4401-939e-9e987acd9865",
   "metadata": {},
   "outputs": [],
   "source": [
    "similarity = cosine_similarity(vector)"
   ]
  },
  {
   "cell_type": "code",
   "execution_count": 244,
   "id": "50b9919b-dff0-42f0-9f1a-04d20773a98f",
   "metadata": {},
   "outputs": [
    {
     "data": {
      "text/plain": [
       "[(1214, 0.28676966733820225),\n",
       " (2405, 0.26901379342448517),\n",
       " (3728, 0.2605130246476754),\n",
       " (507, 0.255608593705383),\n",
       " (539, 0.2503866978335957),\n",
       " (582, 0.24511108480187255),\n",
       " (1202, 0.24455799402225925),\n",
       " (1192, 0.2367785320221084),\n",
       " (61, 0.23179316248638274)]"
      ]
     },
     "execution_count": 244,
     "metadata": {},
     "output_type": "execute_result"
    }
   ],
   "source": [
    "sorted(list(enumerate(similarity[0])),reverse=True,key=lambda x:x[1])[1:10]"
   ]
  },
  {
   "cell_type": "code",
   "execution_count": 245,
   "id": "905f0ba5-a89b-4d51-8313-122b193e6ab2",
   "metadata": {},
   "outputs": [],
   "source": [
    "def recommend(movie):\n",
    "    movie_index = new_df[new_df['title']==movie].index[0]\n",
    "    distance = similarity[movie_index]\n",
    "    movie_list = sorted(list(enumerate(similarity[0])),reverse=True,key=lambda x:x[1])[1:10]\n",
    "    for i in movie_list:\n",
    "        print(new_df.iloc[i[0]].title)"
   ]
  },
  {
   "cell_type": "code",
   "execution_count": 246,
   "id": "d5e39761-f626-4fc0-ac45-9ba1b29d1a95",
   "metadata": {},
   "outputs": [
    {
     "name": "stdout",
     "output_type": "stream",
     "text": [
      "Aliens vs Predator: Requiem\n",
      "Aliens\n",
      "Falcon Rising\n",
      "Independence Day\n",
      "Titan A.E.\n",
      "Battle: Los Angeles\n",
      "Predators\n",
      "Small Soldiers\n",
      "Jupiter Ascending\n"
     ]
    }
   ],
   "source": [
    "recommend('Independence Day')"
   ]
  },
  {
   "cell_type": "code",
   "execution_count": 247,
   "id": "eefb6e08-8048-4180-b73c-aa3417ef5a01",
   "metadata": {},
   "outputs": [],
   "source": [
    "# data transfer on software interface\n",
    "pickle.dump(new_df,open('movies.pkl','wb'))\n"
   ]
  },
  {
   "cell_type": "code",
   "execution_count": 248,
   "id": "43d55544-19ba-4782-9940-5ae7ced3ede1",
   "metadata": {},
   "outputs": [],
   "source": [
    "#i dont't know how to direct data file to pickle \n",
    "pickle.dump(new_df.to_dict(),open('movie_dict.pkl','wb'))"
   ]
  },
  {
   "cell_type": "code",
   "execution_count": 249,
   "id": "ec0988d2-f249-4a8c-899b-9ce045c98e34",
   "metadata": {},
   "outputs": [],
   "source": [
    "pickle.dump(similarity,open('similarity.pkl','wb'))"
   ]
  },
  {
   "cell_type": "code",
   "execution_count": null,
   "id": "00f1073b-0895-4771-ba71-7627719524d5",
   "metadata": {},
   "outputs": [],
   "source": []
  },
  {
   "cell_type": "code",
   "execution_count": null,
   "id": "534fc072-60db-405d-9198-91bedb648a01",
   "metadata": {},
   "outputs": [],
   "source": []
  }
 ],
 "metadata": {
  "kernelspec": {
   "display_name": "Python 3 (ipykernel)",
   "language": "python",
   "name": "python3"
  },
  "language_info": {
   "codemirror_mode": {
    "name": "ipython",
    "version": 3
   },
   "file_extension": ".py",
   "mimetype": "text/x-python",
   "name": "python",
   "nbconvert_exporter": "python",
   "pygments_lexer": "ipython3",
   "version": "3.12.4"
  }
 },
 "nbformat": 4,
 "nbformat_minor": 5
}
