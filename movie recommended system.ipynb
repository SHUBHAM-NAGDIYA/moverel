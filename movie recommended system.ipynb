{
 "cells": [
  {
   "cell_type": "code",
   "execution_count": 3,
   "id": "a5daff50-0a51-48d6-aa87-43fb7f4e292c",
   "metadata": {},
   "outputs": [],
   "source": [
    "#import dependencies\n",
    "\n",
    "import numpy as np\n",
    "import pandas as pd\n",
    "import pickle "
   ]
  },
  {
   "cell_type": "code",
   "execution_count": 4,
   "id": "ddafb386-1fc6-49ef-a997-2a0f22346616",
   "metadata": {},
   "outputs": [],
   "source": [
    "movies = pd.read_csv(r\"C:\\Users\\shubh\\Desktop\\movie recommended system\\tmdb_5000_movies.csv\")\n",
    "credit = pd.read_csv(r\"C:\\Users\\shubh\\Desktop\\movie recommended system\\tmdb_5000_credits.csv\")"
   ]
  },
  {
   "cell_type": "code",
   "execution_count": 5,
   "id": "a98f2385-eeeb-4838-a594-d38bbee2cf93",
   "metadata": {},
   "outputs": [],
   "source": [
    "movies = movies.merge(credit,on='title')"
   ]
  },
  {
   "cell_type": "code",
   "execution_count": 6,
   "id": "d91d30d4-22e6-45da-9c0c-0acbf98675f1",
   "metadata": {},
   "outputs": [],
   "source": [
    "#importaint columns which can usefull for creating tag\n",
    "#movie id\n",
    "#genres\n",
    "#keywords\n",
    "#overview\n",
    "#title\n",
    "#cast\n",
    "#crew\n",
    "movies = movies[['movie_id','title','genres','keywords','overview','cast','crew']]"
   ]
  },
  {
   "cell_type": "code",
   "execution_count": 7,
   "id": "505338b7-0851-481f-abae-1e383a28badd",
   "metadata": {},
   "outputs": [],
   "source": [
    "movies.dropna(inplace=True)"
   ]
  },
  {
   "cell_type": "code",
   "execution_count": 8,
   "id": "13073318-4e4e-4094-a6f7-2b19b5cb09d1",
   "metadata": {},
   "outputs": [],
   "source": [
    "#movies.columns"
   ]
  },
  {
   "cell_type": "code",
   "execution_count": 9,
   "id": "e359ba5b-dc8b-4e98-b40f-925f3b5de253",
   "metadata": {},
   "outputs": [],
   "source": [
    "#movies"
   ]
  },
  {
   "cell_type": "code",
   "execution_count": 10,
   "id": "8b7f07ce-99c5-4781-b675-a77604c6c0c8",
   "metadata": {},
   "outputs": [],
   "source": [
    "#movies.iloc[0].genres"
   ]
  },
  {
   "cell_type": "code",
   "execution_count": 11,
   "id": "75916766-04ca-4e0a-950c-b74a0e4d9e8a",
   "metadata": {},
   "outputs": [],
   "source": [
    "import ast\n",
    "def convert(obj):\n",
    "    l=[]\n",
    "    for i in ast.literal_eval(obj):\n",
    "        l.append(i['name'])\n",
    "    return l\n",
    "        "
   ]
  },
  {
   "cell_type": "code",
   "execution_count": 12,
   "id": "ef54576d-d56f-4252-ade6-39be5cfb9fe2",
   "metadata": {},
   "outputs": [],
   "source": [
    "movies['genres'] = movies['genres'].apply(convert)"
   ]
  },
  {
   "cell_type": "code",
   "execution_count": 13,
   "id": "ae9f53d9-91e8-43ac-9517-947ded42cce4",
   "metadata": {},
   "outputs": [],
   "source": [
    "#movies['genres']"
   ]
  },
  {
   "cell_type": "code",
   "execution_count": 14,
   "id": "3bf820af-60bd-461b-be6c-d336c941eefe",
   "metadata": {},
   "outputs": [],
   "source": [
    "movies['keywords'] = movies['keywords'].apply(convert)"
   ]
  },
  {
   "cell_type": "code",
   "execution_count": 15,
   "id": "358dd489-93ff-4115-b323-2dda2189c59f",
   "metadata": {},
   "outputs": [],
   "source": [
    "#movies['keywords'] "
   ]
  },
  {
   "cell_type": "code",
   "execution_count": 16,
   "id": "880e5b42-85cb-45b7-b7cc-4458c4f4d093",
   "metadata": {},
   "outputs": [],
   "source": [
    "#movies['cast'].value_counts()"
   ]
  },
  {
   "cell_type": "code",
   "execution_count": 17,
   "id": "c120427f-51d2-4d4d-a4ec-7b30d0c9fcde",
   "metadata": {},
   "outputs": [],
   "source": [
    "def convert3(obj):\n",
    "    l=[]\n",
    "    counter = 0\n",
    "    for i in ast.literal_eval(obj):\n",
    "        if counter != 3:\n",
    "            l.append(i['name'])\n",
    "            counter+=1\n",
    "        else:\n",
    "           break\n",
    "\n",
    "    return l"
   ]
  },
  {
   "cell_type": "code",
   "execution_count": 18,
   "id": "7737ddcf-08dc-41b3-b9a6-49cfb47b8bec",
   "metadata": {},
   "outputs": [],
   "source": [
    "movies['cast']  = movies['cast'].apply(convert3)"
   ]
  },
  {
   "cell_type": "code",
   "execution_count": 19,
   "id": "6610be83-3dc6-4c88-be8b-0ce41d62947f",
   "metadata": {},
   "outputs": [],
   "source": [
    "#movies['cast']"
   ]
  },
  {
   "cell_type": "code",
   "execution_count": 20,
   "id": "4105c9b7-4525-426f-8c08-c6e58df925be",
   "metadata": {},
   "outputs": [],
   "source": [
    "#movies['crew'].value_counts()"
   ]
  },
  {
   "cell_type": "code",
   "execution_count": 21,
   "id": "c7720d5b-d22c-4ed7-9e61-33da015f6da4",
   "metadata": {},
   "outputs": [],
   "source": [
    "def crew(obj):\n",
    "    l=[]\n",
    "    for i in ast.literal_eval(obj):\n",
    "        if i['job']=='Director':\n",
    "            l.append(i['name'])\n",
    "            break\n",
    "    return l\n"
   ]
  },
  {
   "cell_type": "code",
   "execution_count": 22,
   "id": "ff693c9a-3971-4734-b0cc-213b7616bdb3",
   "metadata": {},
   "outputs": [],
   "source": [
    "movies['crew'] = movies['crew'].apply(crew)  "
   ]
  },
  {
   "cell_type": "code",
   "execution_count": 23,
   "id": "eb5deedd-4432-46a2-b43d-57bde34464b8",
   "metadata": {},
   "outputs": [],
   "source": [
    "#movies['crew'].value_counts()"
   ]
  },
  {
   "cell_type": "code",
   "execution_count": 24,
   "id": "3d0b6ef4-7517-4051-89af-2ffdee082cd4",
   "metadata": {},
   "outputs": [],
   "source": [
    "movies['overview'] = movies['overview'].apply(lambda x: x.split())"
   ]
  },
  {
   "cell_type": "code",
   "execution_count": 25,
   "id": "c10afa74-1a2d-4f6e-9a0c-c1c4cc31b157",
   "metadata": {},
   "outputs": [],
   "source": [
    "#movies['overview'].value_counts()"
   ]
  },
  {
   "cell_type": "code",
   "execution_count": 26,
   "id": "ddd33679-c720-462a-9b5e-e17b8ca82cad",
   "metadata": {},
   "outputs": [],
   "source": [
    "movies['cast'] = movies['cast'].apply(lambda x : [i.replace(' ','') for i in x])\n",
    "movies['crew'] = movies['crew'].apply(lambda x: [i.replace(' ','') for i in x])\n",
    "movies['genres'] = movies['genres'].apply(lambda x: [i.replace(' ','') for i in x])\n",
    "movies['keywords'] = movies['keywords'].apply(lambda x: [i.replace(' ','') for i in x])"
   ]
  },
  {
   "cell_type": "code",
   "execution_count": 27,
   "id": "cf019fff-0374-47ab-8f35-3413c7b71141",
   "metadata": {},
   "outputs": [],
   "source": [
    "movies['tags'] = movies['overview'] + movies['genres'] + movies['keywords'] + movies['cast'] + movies['crew']"
   ]
  },
  {
   "cell_type": "code",
   "execution_count": 28,
   "id": "0a6e4257-0dbb-4d28-a007-ada4c08bfbe9",
   "metadata": {},
   "outputs": [],
   "source": [
    "#movies['tags'].value_counts()"
   ]
  },
  {
   "cell_type": "code",
   "execution_count": 29,
   "id": "2b89ede0-a2ee-4e93-884c-19fd6491a4bc",
   "metadata": {},
   "outputs": [],
   "source": [
    "new_df = movies[['movie_id','title','tags']]"
   ]
  },
  {
   "cell_type": "code",
   "execution_count": 30,
   "id": "d9bfaf92-d341-4a4f-a488-301065f16a0c",
   "metadata": {},
   "outputs": [],
   "source": [
    "#new_df"
   ]
  },
  {
   "cell_type": "code",
   "execution_count": 31,
   "id": "041c0745-3041-4f83-b501-2cdf0f4012dd",
   "metadata": {},
   "outputs": [
    {
     "name": "stderr",
     "output_type": "stream",
     "text": [
      "C:\\Users\\shubh\\AppData\\Local\\Temp\\ipykernel_9696\\1824047427.py:1: SettingWithCopyWarning: \n",
      "A value is trying to be set on a copy of a slice from a DataFrame.\n",
      "Try using .loc[row_indexer,col_indexer] = value instead\n",
      "\n",
      "See the caveats in the documentation: https://pandas.pydata.org/pandas-docs/stable/user_guide/indexing.html#returning-a-view-versus-a-copy\n",
      "  new_df['tags'] = new_df['tags'].apply(lambda x: \" \".join(x))\n"
     ]
    }
   ],
   "source": [
    "new_df['tags'] = new_df['tags'].apply(lambda x: \" \".join(x))"
   ]
  },
  {
   "cell_type": "code",
   "execution_count": 32,
   "id": "ff5c7021-dd44-4e42-8dc1-8526839bb88f",
   "metadata": {},
   "outputs": [],
   "source": [
    "#new_df['tags'].value_counts()"
   ]
  },
  {
   "cell_type": "code",
   "execution_count": 33,
   "id": "072dcf30-4311-4d94-b2e2-6676d00674a8",
   "metadata": {},
   "outputs": [
    {
     "name": "stderr",
     "output_type": "stream",
     "text": [
      "C:\\Users\\shubh\\AppData\\Local\\Temp\\ipykernel_9696\\1380776331.py:1: SettingWithCopyWarning: \n",
      "A value is trying to be set on a copy of a slice from a DataFrame.\n",
      "Try using .loc[row_indexer,col_indexer] = value instead\n",
      "\n",
      "See the caveats in the documentation: https://pandas.pydata.org/pandas-docs/stable/user_guide/indexing.html#returning-a-view-versus-a-copy\n",
      "  new_df['tags'] = new_df['tags'].apply(lambda x: x.lower())\n"
     ]
    }
   ],
   "source": [
    "new_df['tags'] = new_df['tags'].apply(lambda x: x.lower())"
   ]
  },
  {
   "cell_type": "code",
   "execution_count": 34,
   "id": "352d7816-f739-4209-829c-84dda652dd0a",
   "metadata": {},
   "outputs": [],
   "source": [
    "#new_df['tags'].value_counts()"
   ]
  },
  {
   "cell_type": "code",
   "execution_count": 35,
   "id": "fe960ebb-7a2b-4bc7-b0d0-9ba9f5c28a40",
   "metadata": {},
   "outputs": [],
   "source": [
    "from nltk.stem.porter import PorterStemmer\n",
    "ps = PorterStemmer()"
   ]
  },
  {
   "cell_type": "code",
   "execution_count": 36,
   "id": "d1845ce4-740f-48a5-8847-affc77b07483",
   "metadata": {},
   "outputs": [],
   "source": [
    "def stem(text):\n",
    "    y=[]\n",
    "    for i in text.split():\n",
    "        y.append(ps.stem(i))\n",
    "    return \" \".join(y)"
   ]
  },
  {
   "cell_type": "code",
   "execution_count": 37,
   "id": "652ce892-f92b-4e9b-961a-b151de7a4db7",
   "metadata": {},
   "outputs": [
    {
     "name": "stderr",
     "output_type": "stream",
     "text": [
      "C:\\Users\\shubh\\AppData\\Local\\Temp\\ipykernel_9696\\3213734980.py:1: SettingWithCopyWarning: \n",
      "A value is trying to be set on a copy of a slice from a DataFrame.\n",
      "Try using .loc[row_indexer,col_indexer] = value instead\n",
      "\n",
      "See the caveats in the documentation: https://pandas.pydata.org/pandas-docs/stable/user_guide/indexing.html#returning-a-view-versus-a-copy\n",
      "  new_df['tags'] = new_df['tags'].apply(stem)\n"
     ]
    }
   ],
   "source": [
    "new_df['tags'] = new_df['tags'].apply(stem)"
   ]
  },
  {
   "cell_type": "code",
   "execution_count": 38,
   "id": "f7711600-a362-4c68-81a4-0ad8dff6bc1f",
   "metadata": {},
   "outputs": [],
   "source": [
    "#new_df"
   ]
  },
  {
   "cell_type": "code",
   "execution_count": 39,
   "id": "1c73eb7d-b4fb-475b-8838-f9fc4cbb968a",
   "metadata": {},
   "outputs": [],
   "source": [
    "from sklearn.feature_extraction.text import CountVectorizer"
   ]
  },
  {
   "cell_type": "code",
   "execution_count": 40,
   "id": "93955fa8-35ca-4a4c-a905-72e5faa68b99",
   "metadata": {},
   "outputs": [],
   "source": [
    "cv = CountVectorizer(max_features=5000, stop_words='english')"
   ]
  },
  {
   "cell_type": "code",
   "execution_count": 41,
   "id": "d7ffd60a-06db-466e-a37c-a908fdac90b5",
   "metadata": {},
   "outputs": [],
   "source": [
    "vector=cv.fit_transform(new_df['tags']).toarray()"
   ]
  },
  {
   "cell_type": "code",
   "execution_count": 42,
   "id": "385898b8-d71f-4d61-b602-e69017679374",
   "metadata": {},
   "outputs": [],
   "source": [
    "#vector"
   ]
  },
  {
   "cell_type": "code",
   "execution_count": 43,
   "id": "7a78c5c0-260d-47a5-8dde-26352eda6119",
   "metadata": {},
   "outputs": [],
   "source": [
    "from sklearn.metrics.pairwise import cosine_similarity"
   ]
  },
  {
   "cell_type": "code",
   "execution_count": 44,
   "id": "89096d7e-1b80-4401-939e-9e987acd9865",
   "metadata": {},
   "outputs": [],
   "source": [
    "similarity = cosine_similarity(vector)"
   ]
  },
  {
   "cell_type": "code",
   "execution_count": 45,
   "id": "50b9919b-dff0-42f0-9f1a-04d20773a98f",
   "metadata": {},
   "outputs": [
    {
     "data": {
      "text/plain": [
       "[(1214, 0.28676966733820225),\n",
       " (2405, 0.26901379342448517),\n",
       " (3728, 0.2605130246476754),\n",
       " (507, 0.255608593705383),\n",
       " (539, 0.2503866978335957),\n",
       " (582, 0.24511108480187255),\n",
       " (1202, 0.24455799402225925),\n",
       " (1192, 0.2367785320221084),\n",
       " (61, 0.23179316248638274)]"
      ]
     },
     "execution_count": 45,
     "metadata": {},
     "output_type": "execute_result"
    }
   ],
   "source": [
    "sorted(list(enumerate(similarity[0])),reverse=True,key=lambda x:x[1])[1:10]"
   ]
  },
  {
   "cell_type": "code",
   "execution_count": 46,
   "id": "905f0ba5-a89b-4d51-8313-122b193e6ab2",
   "metadata": {},
   "outputs": [],
   "source": [
    "def recommend(movie):\n",
    "    movie_index = new_df[new_df['title']==movie].index[0]\n",
    "    distance = similarity[movie_index]\n",
    "    movie_list = sorted(list(enumerate(similarity[0])),reverse=True,key=lambda x:x[1])[1:10]\n",
    "    for i in movie_list:\n",
    "        print(new_df.iloc[i[0]].title)"
   ]
  },
  {
   "cell_type": "code",
   "execution_count": 47,
   "id": "d5e39761-f626-4fc0-ac45-9ba1b29d1a95",
   "metadata": {},
   "outputs": [
    {
     "name": "stdout",
     "output_type": "stream",
     "text": [
      "Aliens vs Predator: Requiem\n",
      "Aliens\n",
      "Falcon Rising\n",
      "Independence Day\n",
      "Titan A.E.\n",
      "Battle: Los Angeles\n",
      "Predators\n",
      "Small Soldiers\n",
      "Jupiter Ascending\n"
     ]
    }
   ],
   "source": [
    "recommend('Independence Day')"
   ]
  },
  {
   "cell_type": "code",
   "execution_count": 48,
   "id": "eefb6e08-8048-4180-b73c-aa3417ef5a01",
   "metadata": {},
   "outputs": [],
   "source": [
    "# data transfer on software interface\n",
    "pickle.dump(new_df,open('movies.pkl','wb'))\n"
   ]
  },
  {
   "cell_type": "code",
   "execution_count": 49,
   "id": "43d55544-19ba-4782-9940-5ae7ced3ede1",
   "metadata": {},
   "outputs": [],
   "source": [
    "#i dont't know how to direct data file to pickle \n",
    "pickle.dump(new_df.to_dict(),open('movie_dict.pkl','wb'))"
   ]
  },
  {
   "cell_type": "code",
   "execution_count": 50,
   "id": "ec0988d2-f249-4a8c-899b-9ce045c98e34",
   "metadata": {},
   "outputs": [],
   "source": [
    "pickle.dump(similarity,open('similarity.pkl','wb'))"
   ]
  },
  {
   "cell_type": "code",
   "execution_count": null,
   "id": "00f1073b-0895-4771-ba71-7627719524d5",
   "metadata": {},
   "outputs": [],
   "source": []
  },
  {
   "cell_type": "code",
   "execution_count": null,
   "id": "534fc072-60db-405d-9198-91bedb648a01",
   "metadata": {},
   "outputs": [],
   "source": []
  }
 ],
 "metadata": {
  "kernelspec": {
   "display_name": "Python 3 (ipykernel)",
   "language": "python",
   "name": "python3"
  },
  "language_info": {
   "codemirror_mode": {
    "name": "ipython",
    "version": 3
   },
   "file_extension": ".py",
   "mimetype": "text/x-python",
   "name": "python",
   "nbconvert_exporter": "python",
   "pygments_lexer": "ipython3",
   "version": "3.12.4"
  }
 },
 "nbformat": 4,
 "nbformat_minor": 5
}
